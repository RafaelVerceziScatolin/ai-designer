{
 "cells": [
  {
   "cell_type": "code",
   "execution_count": 17,
   "id": "8ff03257",
   "metadata": {},
   "outputs": [],
   "source": [
    "from enum import IntEnum\n",
    "\n",
    "class _dataframe_field(IntEnum):\n",
    "    original_index = 0\n",
    "    line_flag = 1\n",
    "    circle_flag = 2\n",
    "    arc_flag = 3\n",
    "    point_flag = 4\n",
    "    start_x = 5\n",
    "    start_y = 6\n",
    "    end_x = 7\n",
    "    end_y = 8\n",
    "    mid_x = 9\n",
    "    mid_y = 10\n",
    "    angle = 11\n",
    "    length = perimeter = 12\n",
    "    d_x = 13\n",
    "    d_y = 14\n",
    "    u_x = t_x = 15\n",
    "    u_y = t_y = 16\n",
    "    n_x = r_x = 17\n",
    "    n_y = r_y = 18\n",
    "    center_x = 19\n",
    "    center_y = 20\n",
    "    radius = 21\n",
    "    start_angle = 22\n",
    "    end_angle = 23\n",
    "    arc_span = 24\n",
    "    \n",
    "    @classmethod\n",
    "    def count(cls) -> int: return len(cls)\n",
    "\n",
    "import torch\n",
    "import math"
   ]
  },
  {
   "cell_type": "code",
   "execution_count": 18,
   "id": "0ef9a09b",
   "metadata": {},
   "outputs": [],
   "source": [
    "import ezdxf\n",
    "\n",
    "rotation=45.; mirror_axis=None\n",
    "\n",
    "rotation = math.radians(rotation)\n",
    "\n",
    "dxf_file = \"C:\\\\Users\\\\Rafael\\\\Desktop\\\\test.dxf\"\n",
    "\n",
    "doc = ezdxf.readfile(dxf_file)\n",
    "modelSpace = doc.modelspace()\n",
    "\n",
    "entities = [entity for entity in modelSpace if entity.dxftype() in ('LINE', 'POINT', 'CIRCLE', 'ARC')]\n",
    "\n",
    "F = _dataframe_field\n",
    "dataframe = torch.zeros((F.count(), len(entities)), dtype=torch.float32)\n",
    "\n",
    "for i, entity in enumerate(entities):\n",
    "    dataframe[F.original_index,i] = i\n",
    "    entity_type = entity.dxftype()\n",
    "    \n",
    "    if entity_type == 'LINE':\n",
    "        dataframe[F.line_flag,i] = 1\n",
    "        dataframe[F.start_x,i], dataframe[F.start_y,i], _ = entity.dxf.start\n",
    "        dataframe[F.end_x,i], dataframe[F.end_y,i], _ = entity.dxf.end\n",
    "    \n",
    "    elif entity_type == 'POINT':\n",
    "        dataframe[F.point_flag,i] = 1\n",
    "        dataframe[F.start_x,i], dataframe[F.start_y,i], _ = entity.dxf.location\n",
    "    \n",
    "    elif entity_type in ('CIRCLE', 'ARC'):\n",
    "        dataframe[F.circle_flag,i] = 1 if entity_type == 'CIRCLE' else 0\n",
    "        dataframe[F.arc_flag,i] = 1 if entity_type == 'ARC' else 0\n",
    "        dataframe[F.radius,i] = entity.dxf.radius\n",
    "        dataframe[F.center_x,i], dataframe[F.center_y,i], _ = entity.dxf.center\n",
    "        dataframe[F.start_angle,i] = 0 if entity_type == 'CIRCLE' else entity.dxf.start_angle\n",
    "        dataframe[F.end_angle,i] = 360 if entity_type == 'CIRCLE' else entity.dxf.end_angle"
   ]
  },
  {
   "cell_type": "code",
   "execution_count": 19,
   "id": "abe5c921",
   "metadata": {},
   "outputs": [],
   "source": [
    "# Apply mirror\n",
    "if mirror_axis == 'x':\n",
    "    dataframe[F.start_y], dataframe[F.end_y], dataframe[F.center_y] = -dataframe[F.start_y], -dataframe[F.end_y], -dataframe[F.center_y]\n",
    "    dataframe[F.start_angle], dataframe[F.end_angle] = (-dataframe[F.end_angle] % 360, -dataframe[F.start_angle] % 360)\n",
    "elif mirror_axis == 'y':\n",
    "    dataframe[F.start_x], dataframe[F.end_x], dataframe[F.center_x] = -dataframe[F.start_x], -dataframe[F.end_x], -dataframe[F.center_x]\n",
    "    dataframe[F.start_angle], dataframe[F.end_angle] = (-(dataframe[F.end_angle] - 180) % 360, -(dataframe[F.start_angle] - 180) % 360)"
   ]
  },
  {
   "cell_type": "code",
   "execution_count": 20,
   "id": "ce8028f7",
   "metadata": {},
   "outputs": [],
   "source": [
    "# Rotate coordinates\n",
    "rotation_sin, rotation_cos = math.sin(rotation), math.cos(rotation)\n",
    "\n",
    "dataframe[F.start_x], dataframe[F.start_y] = (dataframe[F.start_x] * rotation_cos - dataframe[F.start_y] * rotation_sin, \\\n",
    "                                              dataframe[F.start_x] * rotation_sin + dataframe[F.start_y] * rotation_cos)\n",
    "\n",
    "dataframe[F.end_x], dataframe[F.end_y] = (dataframe[F.end_x] * rotation_cos - dataframe[F.end_y] * rotation_sin, \\\n",
    "                                          dataframe[F.end_x] * rotation_sin + dataframe[F.end_y] * rotation_cos)\n",
    "\n",
    "dataframe[F.center_x], dataframe[F.center_y] = (dataframe[F.center_x] * rotation_cos - dataframe[F.center_y] * rotation_sin, \\\n",
    "                                                dataframe[F.center_x] * rotation_sin + dataframe[F.center_y] * rotation_cos)\n",
    "\n",
    "# Convert angles to radians and rotate\n",
    "dataframe[F.start_angle] = (torch.deg2rad(dataframe[F.start_angle]) + rotation) % (2*torch.pi)\n",
    "dataframe[F.end_angle] = (torch.deg2rad(dataframe[F.end_angle]) + rotation) % (2*torch.pi)"
   ]
  },
  {
   "cell_type": "code",
   "execution_count": null,
   "id": "a8417506",
   "metadata": {},
   "outputs": [],
   "source": []
  },
  {
   "cell_type": "code",
   "execution_count": null,
   "id": "3606771d",
   "metadata": {},
   "outputs": [],
   "source": []
  },
  {
   "cell_type": "code",
   "execution_count": null,
   "id": "ffe6ac33",
   "metadata": {},
   "outputs": [],
   "source": [
    "mask_x = (min_x[:, None] <= max_x[None, :]) & (min_x[None, :] <= max_x[:, None])\n",
    "mask_y = (min_y[:, None] <= max_y[None, :]) & (min_y[None, :] <= max_y[:, None])\n",
    "\n",
    "mask_x = (min_x[:, newaxis] <= max_x[newaxis, :]) & (min_x[newaxis, :] <= max_x[:, newaxis])\n",
    "mask_y = (min_y[:, newaxis] <= max_y[newaxis, :]) & (min_y[newaxis, :] <= max_y[:, newaxis])\n",
    "\n",
    "mask_x = (min_x[:, torch.newaxis] <= max_x[torch.newaxis, :]) & (min_x[torch.newaxis, :] <= max_x[:, torch.newaxis])\n",
    "mask_y = (min_y[:, torch.newaxis] <= max_y[torch.newaxis, :]) & (min_y[torch.newaxis, :] <= max_y[:, torch.newaxis])"
   ]
  },
  {
   "cell_type": "code",
   "execution_count": null,
   "id": "8dbe3159",
   "metadata": {},
   "outputs": [],
   "source": []
  },
  {
   "cell_type": "code",
   "execution_count": null,
   "id": "fad8f537",
   "metadata": {},
   "outputs": [],
   "source": [
    "# Rotate coordinates\n",
    "dataframe[F.start_x] = dataframe[F.start_x] * torch.cos(rotation) - dataframe[F.start_y] * torch.sin(rotation)\n",
    "dataframe[F.start_y] = dataframe[F.start_x] * torch.sin(rotation) + dataframe[F.start_y] * torch.cos(rotation)\n",
    "dataframe[F.end_x] = dataframe[F.end_x] * torch.cos(rotation) - dataframe[F.end_y] * torch.sin(rotation)\n",
    "dataframe[F.end_y] = dataframe[F.end_x] * torch.sin(rotation) + dataframe[F.end_y] * torch.cos(rotation)\n",
    "dataframe[F.center_x] = dataframe[F.center_x] * torch.cos(rotation) - dataframe[F.center_y] * torch.sin(rotation)\n",
    "dataframe[F.center_y] = dataframe[F.center_x] * torch.sin(rotation) + dataframe[F.center_y] * torch.cos(rotation)\n",
    "\n",
    "# Convert angles to radians and rotate\n",
    "dataframe[F.start_angle] = (torch.deg2rad(dataframe[F.start_angle]) + rotation) % (2*torch.pi)\n",
    "dataframe[F.end_angle] = (torch.deg2rad(dataframe[F.end_angle]) + rotation) % (2*torch.pi)\n",
    "\n"
   ]
  },
  {
   "cell_type": "code",
   "execution_count": null,
   "id": "2ab84847",
   "metadata": {},
   "outputs": [],
   "source": []
  },
  {
   "cell_type": "code",
   "execution_count": null,
   "id": "b308f571",
   "metadata": {},
   "outputs": [],
   "source": []
  },
  {
   "cell_type": "code",
   "execution_count": 21,
   "id": "2c375f50",
   "metadata": {},
   "outputs": [
    {
     "data": {
      "text/plain": [
       "(295, 350)"
      ]
     },
     "execution_count": 21,
     "metadata": {},
     "output_type": "execute_result"
    }
   ],
   "source": [
    "rotation=45.\n",
    "\n",
    "start_angle = 295\n",
    "end_angle = 350\n",
    "\n",
    "start_angle, end_angle"
   ]
  },
  {
   "cell_type": "code",
   "execution_count": 22,
   "id": "76827a8f",
   "metadata": {},
   "outputs": [
    {
     "data": {
      "text/plain": [
       "(340.0, 35.0)"
      ]
     },
     "execution_count": 22,
     "metadata": {},
     "output_type": "execute_result"
    }
   ],
   "source": [
    "start_angle = (start_angle + rotation) % 360\n",
    "end_angle = (end_angle + rotation) % 360\n",
    "\n",
    "start_angle, end_angle"
   ]
  },
  {
   "cell_type": "code",
   "execution_count": null,
   "id": "cc1f3478",
   "metadata": {},
   "outputs": [],
   "source": []
  },
  {
   "cell_type": "code",
   "execution_count": null,
   "id": "5cb93078",
   "metadata": {},
   "outputs": [],
   "source": []
  },
  {
   "cell_type": "code",
   "execution_count": null,
   "id": "3dd1c4ff",
   "metadata": {},
   "outputs": [],
   "source": [
    "if rotation:\n",
    "    "
   ]
  },
  {
   "cell_type": "code",
   "execution_count": null,
   "id": "5aa9ce1c",
   "metadata": {},
   "outputs": [],
   "source": [
    "x_aligned = dataframe[F.start_x] * torch.cos(rotation) - dataframe[F.start_y] * torch.sin(rotation)\n",
    "y_aligned = dataframe[F.start_x] * torch.sin(rotation) + dataframe[F.start_y] * torch.cos(rotation)"
   ]
  },
  {
   "cell_type": "code",
   "execution_count": null,
   "id": "8d8947c4",
   "metadata": {},
   "outputs": [],
   "source": [
    "# 155, 283"
   ]
  },
  {
   "cell_type": "code",
   "execution_count": 3,
   "id": "38c39e64",
   "metadata": {},
   "outputs": [
    {
     "data": {
      "text/plain": [
       "(0, 0)"
      ]
     },
     "execution_count": 3,
     "metadata": {},
     "output_type": "execute_result"
    }
   ],
   "source": [
    "# x\n",
    "start_angle = 0\n",
    "end_angle = 360\n",
    "\n",
    "start_angle, end_angle = -end_angle % 360, -start_angle % 360\n",
    "start_angle, end_angle"
   ]
  },
  {
   "cell_type": "code",
   "execution_count": 6,
   "id": "5f15dfd1",
   "metadata": {},
   "outputs": [
    {
     "data": {
      "text/plain": [
       "(28, 192)"
      ]
     },
     "execution_count": 6,
     "metadata": {},
     "output_type": "execute_result"
    }
   ],
   "source": [
    "# y\n",
    "start_angle = 348\n",
    "end_angle = 152\n",
    "\n",
    "start_angle, end_angle = -(end_angle - 180) % 360, -(start_angle - 180) % 360\n",
    "start_angle, end_angle "
   ]
  },
  {
   "cell_type": "code",
   "execution_count": 8,
   "id": "496b7581",
   "metadata": {},
   "outputs": [
    {
     "data": {
      "text/plain": [
       "(291, 72)"
      ]
     },
     "execution_count": 8,
     "metadata": {},
     "output_type": "execute_result"
    }
   ],
   "source": [
    "# y\n",
    "start_angle = 108\n",
    "end_angle = 249\n",
    "\n",
    "start_angle, end_angle = (180 - end_angle) % 360, (180 - start_angle) % 360\n",
    "start_angle, end_angle "
   ]
  },
  {
   "cell_type": "code",
   "execution_count": null,
   "id": "822d0d9c",
   "metadata": {},
   "outputs": [],
   "source": []
  },
  {
   "cell_type": "code",
   "execution_count": null,
   "id": "665c799d",
   "metadata": {},
   "outputs": [],
   "source": [
    "if mirror_axis == 'x': dataframe[F.start_y] = -dataframe[F.start_y]; dataframe[F.end_y] = -dataframe[F.end_y]\n",
    "elif mirror_axis == 'y': dataframe[F.start_x] = -dataframe[F.start_x]; dataframe[F.end_x] = -dataframe[F.end_x]"
   ]
  },
  {
   "cell_type": "code",
   "execution_count": null,
   "id": "4cf79e06",
   "metadata": {},
   "outputs": [],
   "source": [
    "x_aligned = dataframe[F.start_x] * torch.cos[rotation] - dataframe[F.start_y] * torch.sin[rotation]"
   ]
  },
  {
   "cell_type": "code",
   "execution_count": 14,
   "id": "85ba248a",
   "metadata": {},
   "outputs": [],
   "source": [
    "tensor1 = torch.tensor([0., 1., 2., 3.])\n",
    "tensor2 = torch.tensor([4., 5., 6., 7.])\n",
    "tensor3 = torch.vstack([tensor1, tensor2])"
   ]
  },
  {
   "cell_type": "code",
   "execution_count": 16,
   "id": "798a7b25",
   "metadata": {},
   "outputs": [
    {
     "data": {
      "text/plain": [
       "tensor([[0, 1, 2, 3],\n",
       "        [4, 5, 6, 7]])"
      ]
     },
     "execution_count": 16,
     "metadata": {},
     "output_type": "execute_result"
    }
   ],
   "source": [
    "tensor3.long()"
   ]
  },
  {
   "cell_type": "code",
   "execution_count": null,
   "id": "fcf933ee",
   "metadata": {},
   "outputs": [],
   "source": []
  }
 ],
 "metadata": {
  "kernelspec": {
   "display_name": "dl_torch",
   "language": "python",
   "name": "python3"
  },
  "language_info": {
   "codemirror_mode": {
    "name": "ipython",
    "version": 3
   },
   "file_extension": ".py",
   "mimetype": "text/x-python",
   "name": "python",
   "nbconvert_exporter": "python",
   "pygments_lexer": "ipython3",
   "version": "3.10.16"
  }
 },
 "nbformat": 4,
 "nbformat_minor": 5
}
