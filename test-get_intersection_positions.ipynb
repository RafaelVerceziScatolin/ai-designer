{
 "cells": [
  {
   "cell_type": "code",
   "execution_count": 52,
   "id": "43d03ef7",
   "metadata": {},
   "outputs": [],
   "source": [
    "from enum import IntEnum\n",
    "\n",
    "class _dataframe_field(IntEnum):\n",
    "    original_index = 0\n",
    "    line_flag = 1\n",
    "    circle_flag = 2\n",
    "    arc_flag = 3\n",
    "    point_flag = 4\n",
    "    start_x = 5\n",
    "    start_y = 6\n",
    "    end_x = 7\n",
    "    end_y = 8\n",
    "    mid_x = 9\n",
    "    mid_y = 10\n",
    "    angle = 11\n",
    "    length = perimeter = 12\n",
    "    d_x = 13\n",
    "    d_y = 14\n",
    "    u_x = 15\n",
    "    u_y = 16\n",
    "    n_x = 17\n",
    "    n_y = 18\n",
    "    center_x = 19\n",
    "    center_y = 20\n",
    "    radius = 21\n",
    "    start_angle = 22\n",
    "    end_angle = 23\n",
    "    arc_span = 24\n",
    "    \n",
    "    @classmethod\n",
    "    def count(cls) -> int: return len(cls)\n",
    "\n",
    "class _edge_attribute(IntEnum):\n",
    "    parallel = 0\n",
    "    colinear = 1\n",
    "    perpendicular_distance = 2\n",
    "    overlap_ratio = 3\n",
    "    oblique = 4\n",
    "    intersection_position = 5\n",
    "    angle_difference_sin = 6\n",
    "    angle_difference_cos = 7\n",
    "    \n",
    "    @classmethod\n",
    "    def count(cls) -> int: return len(cls)\n",
    "\n",
    "from typing import Tuple\n",
    "import torch\n",
    "from torch import Tensor\n",
    "from torch import newaxis\n",
    "\n",
    "def create_obbs(elements:Tensor, width:float, length_extension:float=0.0) -> Tuple[Tensor, Tensor]:\n",
    "    \n",
    "    F = _dataframe_field\n",
    "    n_elements = elements.size(1)\n",
    "    \n",
    "    # Filter supported elements\n",
    "    is_line = elements[F.line_flag] == 1\n",
    "    is_circle_or_arc = (elements[F.circle_flag] == 1) | (elements[F.arc_flag] == 1)\n",
    "    \n",
    "    filter = is_line | is_circle_or_arc\n",
    "    \n",
    "    obbs = torch.empty((n_elements, 4, 2), dtype=torch.float32)\n",
    "    \n",
    "    if is_line.any():\n",
    "        # === LINE ELEMENTS ===\n",
    "        lines = elements[:, is_line]\n",
    "        \n",
    "        # Half dimensions\n",
    "        half_width = width / 2\n",
    "        half_length = (lines[F.length] + length_extension) / 2\n",
    "        \n",
    "        # Compute displacements\n",
    "        dx_length = lines[F.u_x] * half_length\n",
    "        dy_length = lines[F.u_y] * half_length\n",
    "        dx_width = lines[F.n_x] * half_width\n",
    "        dy_width = lines[F.n_y] * half_width\n",
    "        \n",
    "        # Corners (4 per OBB)\n",
    "        corner1 = torch.stack([lines[F.mid_x] - dx_length - dx_width,\n",
    "                                lines[F.mid_y] - dy_length - dy_width], dim=1)\n",
    "        \n",
    "        corner2 = torch.stack([lines[F.mid_x] + dx_length - dx_width,\n",
    "                                lines[F.mid_y] + dy_length - dy_width], dim=1)\n",
    "        \n",
    "        corner3 = torch.stack([lines[F.mid_x] + dx_length + dx_width,\n",
    "                                lines[F.mid_y] + dy_length + dy_width], dim=1)\n",
    "        \n",
    "        corner4 = torch.stack([lines[F.mid_x] - dx_length + dx_width,\n",
    "                                lines[F.mid_y] - dy_length + dy_width], dim=1)\n",
    "        \n",
    "        # Stack corners\n",
    "        obbs[is_line] = torch.stack([corner1, corner2, corner3, corner4], dim=1)\n",
    "    \n",
    "    if is_circle_or_arc.any():\n",
    "        # === ARC ELEMENTS ===\n",
    "        arcs = elements[:, is_circle_or_arc]\n",
    "        \n",
    "        margin = width / 2\n",
    "        \n",
    "        u_x, u_y, n_x, n_y = arcs[F.u_x], arcs[F.u_y], arcs[F.n_x], arcs[F.n_y]\n",
    "        arc_span, radius = arcs[F.arc_span], arcs[F.radius]\n",
    "        \n",
    "        dx_length = torch.where(arc_span < torch.pi, n_x * (radius * torch.sin(arc_span/2) + margin), n_x * (radius + margin))\n",
    "        dy_length = torch.where(arc_span < torch.pi, n_y * (radius * torch.sin(arc_span/2) + margin), n_y * (radius + margin))\n",
    "        \n",
    "        dx_width = u_x * (radius * (1 - torch.cos(arc_span/2)) + margin)\n",
    "        dy_width = u_y * (radius * (1 - torch.cos(arc_span/2)) + margin)\n",
    "        \n",
    "        dx_margin = u_x * margin\n",
    "        dy_margin = u_y * margin\n",
    "        \n",
    "        corner1 = torch.stack([arcs[F.mid_x] - dx_length + dx_margin,\n",
    "                                arcs[F.mid_y] - dy_length + dy_margin], dim=1)\n",
    "        \n",
    "        corner2 = torch.stack([arcs[F.mid_x] + dx_length + dx_margin,\n",
    "                                arcs[F.mid_y] + dy_length + dy_margin], dim=1)\n",
    "        \n",
    "        corner3 = torch.stack([arcs[F.mid_x] + dx_length - dx_width,\n",
    "                                arcs[F.mid_y] + dy_length - dy_width], dim=1)\n",
    "        \n",
    "        corner4 = torch.stack([arcs[F.mid_x] - dx_length - dx_width,\n",
    "                                arcs[F.mid_y] - dy_length - dy_width], dim=1)\n",
    "        \n",
    "        obbs[is_circle_or_arc] = torch.stack([corner1, corner2, corner3, corner4], dim=1)\n",
    "    \n",
    "    elements = elements[:, filter]\n",
    "    obbs = obbs[filter]\n",
    "    \n",
    "    return elements, obbs # Shape obbs (n_elements, 4, 2)\n",
    "\n",
    "def get_overlaping_pairs(elements:Tensor, obbs:Tensor) -> Tuple[Tensor, Tensor]:\n",
    "    \n",
    "    F = _dataframe_field\n",
    "    \n",
    "    # Compute AABBs (Axis-Aligned Bounding Boxes)\n",
    "    min_x = obbs[..., 0].min(dim=1).values\n",
    "    max_x = obbs[..., 0].max(dim=1).values\n",
    "    min_y = obbs[..., 1].min(dim=1).values\n",
    "    max_y = obbs[..., 1].max(dim=1).values\n",
    "    \n",
    "    # Computing AABB intersection matrix\n",
    "    mask_x = (min_x[:, newaxis] <= max_x[newaxis, :]) & (min_x[newaxis, :] <= max_x[:, newaxis])\n",
    "    mask_y = (min_y[:, newaxis] <= max_y[newaxis, :]) & (min_y[newaxis, :] <= max_y[:, newaxis])\n",
    "    aabb_overlap = mask_x & mask_y\n",
    "    \n",
    "    # Candidate pairs\n",
    "    pairs = torch.argwhere(aabb_overlap) # shape (n, 2)\n",
    "    i, j = pairs[:, 0], pairs[:, 1]\n",
    "    \n",
    "    # Remove self-comparisons and duplicates\n",
    "    mask = (i < j)\n",
    "    i, j = i[mask], j[mask]\n",
    "    \n",
    "    # Get OBBs for pairs\n",
    "    obbs_i, obbs_j = obbs[i], obbs[j]\n",
    "    \n",
    "    # axes per box\n",
    "    axes_i = torch.stack([elements[F.u_x, i], elements[F.u_y, i], elements[F.n_x, i], elements[F.n_y, i]], dim=1).reshape(-1,2,2)\n",
    "    axes_j = torch.stack([elements[F.u_x, j], elements[F.u_y, j], elements[F.n_x, j], elements[F.n_y, j]], dim=1).reshape(-1,2,2)\n",
    "    axes = torch.cat([axes_i, axes_j], axis=1) # shape (n_pairs, 4, 2)\n",
    "    \n",
    "    # Project corners onto axes\n",
    "    projections_i = torch.einsum('nij,nkj->nik', axes, obbs_i) # Shape (n_pairs, 4, 4)\n",
    "    projections_j = torch.einsum('nij,nkj->nik', axes, obbs_j)\n",
    "    \n",
    "    # Interval comparisons on each axis\n",
    "    min_i = projections_i.min(dim=2).values\n",
    "    max_i = projections_i.max(dim=2).values\n",
    "    min_j = projections_j.min(dim=2).values\n",
    "    max_j = projections_j.max(dim=2).values\n",
    "    \n",
    "    separating_axis = (max_i < min_j) | (max_j < min_i) # True if a separating axis exists\n",
    "    obb_overlap = ~torch.any(separating_axis, dim=1) # True if overlap\n",
    "    \n",
    "    return i[obb_overlap], j[obb_overlap]\n"
   ]
  },
  {
   "cell_type": "code",
   "execution_count": 53,
   "id": "ba4ad539",
   "metadata": {},
   "outputs": [],
   "source": [
    "F = _dataframe_field\n",
    "dataframe = torch.zeros((F.count(), 30), dtype=torch.float32)\n",
    "dataframe[F.original_index] = torch.tensor([   0,  1,   2,   3,   5,   4,   6,   7,   8,   9,  10,  11,  12,  13,  14,  15,  16,  17,  18,  19,   20,   21,   22,   23,   24,   25,   26,   27,   28,   29])\n",
    "dataframe[F.line_flag] =      torch.tensor([   0,  1,   0,   1,   1,   0,   0,   1,   0,   1,   0,   1,   0,   1,   0,   1,   0,   1,   0,   1,    0,    1,    0,    1,    0,    1,    0,    1,    0,    1])\n",
    "dataframe[F.circle_flag] =    torch.tensor([   1,  0,   1,   0,   0,   1,   1,   0,   1,   0,   1,   0,   1,   0,   1,   0,   1,   0,   1,   0,    1,    0,    1,    0,    1,    0,    1,    0,    1,    0])\n",
    "dataframe[F.start_x] =        torch.tensor([   0, 40,   0, 100, 200,   0,   0, 390,   0, 402,   0, 550,   0, 610,   0, 710,   0, 880,   0, 910,    0, 1078,    0, 1104,    0, 1295,    0, 1325,    0, 1450])\n",
    "dataframe[F.start_y] =        torch.tensor([   0, 10,   0,  41,  30,   0,   0,  30,   0,  30,   0,  30,   0, -30,   0, -20,   0,  35,   0, -35,    0,   30,    0,  -30,    0,   30,    0,   30,    0,  -39])\n",
    "dataframe[F.end_x] =          torch.tensor([   0, 60,   0, 145, 240,   0,   0, 300,   0, 422,   0, 590,   0, 670,   0, 800,   0, 900,   0, 960,    0, 1098,    0, 1124,    0, 1275,    0, 1390,    0, 1450])\n",
    "dataframe[F.end_y] =          torch.tensor([   0, 10,   0,  41,  30,   0,   0,  30,   0,  30,   0,  30,   0,  50,   0, -20,   0,  35,   0, -15,    0,   30,    0,  -30,    0,   30,    0,   30,    0,   39])\n",
    "dataframe[F.center_x] =       torch.tensor([  50,  0, 150,   0,   0, 250, 350,   0, 450,   0, 550,   0, 650,   0, 750,   0, 850,   0, 950,   0, 1050,    0, 1150,    0, 1250,    0, 1350,    0, 1450,    0])\n",
    "dataframe[F.center_y] =       torch.tensor([   0,  0,   0,   0,   0,   0,   0,   0,   0,   0,   0,   0,   0,   0,   0,   0,   0,   0,   0,   0,    0,    0,    0,    0,    0,    0,    0,    0,    0,    0])\n",
    "dataframe[F.radius] =         torch.tensor([  40,  0,  40,   0,   0,  40,  40,   0,  40,   0,  40,   0,  40,   0,  40,   0,  40,   0,  40,   0,   40,    0,   40,    0,   40,    0,   40,    0,   40,    0])\n",
    "dataframe[F.start_angle] =    torch.tensor([   0,  0,   0,   0,   0,   0,   0,   0,   0,   0,   0,   0,   0,   0,   0,   0,   0,   0,   0,   0,    0,    0,    0,    0,    0,    0,    0,    0,    0,    0])\n",
    "dataframe[F.end_angle] =      torch.tensor([ 360,  0, 360,   0,   0, 360, 360,   0, 360,   0, 360,   0, 360,   0, 360,   0, 360,   0, 360,   0,  360,    0,  360,    0,  360,    0,  360,    0,  360,    0])"
   ]
  },
  {
   "cell_type": "code",
   "execution_count": 54,
   "id": "726692c3",
   "metadata": {},
   "outputs": [],
   "source": [
    "# === LINES ===\n",
    "is_line = dataframe[F.line_flag] == 1\n",
    "\n",
    "min_length = 1e-3\n",
    "\n",
    "dataframe[F.mid_x] = torch.where(is_line, (dataframe[F.start_x] + dataframe[F.end_x]) / 2, dataframe[F.mid_x])\n",
    "dataframe[F.mid_y] = torch.where(is_line, (dataframe[F.start_y] + dataframe[F.end_y]) / 2, dataframe[F.mid_y])\n",
    "\n",
    "dataframe[F.d_x] = torch.where(is_line, dataframe[F.end_x] - dataframe[F.start_x], dataframe[F.d_x])\n",
    "dataframe[F.d_y] = torch.where(is_line, dataframe[F.end_y] - dataframe[F.start_y], dataframe[F.d_y])\n",
    "dataframe[F.angle] = torch.where(is_line, torch.arctan2(dataframe[F.d_y], dataframe[F.d_x]) % torch.pi, dataframe[F.angle])\n",
    "dataframe[F.length] = torch.where(is_line, torch.sqrt(dataframe[F.d_x]**2 + dataframe[F.d_y]**2), dataframe[F.length])\n",
    "\n",
    "is_line &= (dataframe[F.length] > min_length)\n",
    "\n",
    "# Unit direction and unit perpendicular vectors\n",
    "dataframe[F.u_x] = torch.where(is_line, dataframe[F.d_x] / dataframe[F.length], dataframe[F.u_x])\n",
    "dataframe[F.u_y] = torch.where(is_line, dataframe[F.d_y] / dataframe[F.length], dataframe[F.u_y])\n",
    "dataframe[F.n_x] = torch.where(is_line, -dataframe[F.u_y], dataframe[F.n_x])\n",
    "dataframe[F.n_y] = torch.where(is_line, dataframe[F.u_x], dataframe[F.n_y])\n",
    "\n",
    "# === POINTS ===\n",
    "is_point = dataframe[F.point_flag] == 1\n",
    "\n",
    "for field in [F.start_x, F.end_x]: dataframe[field] = torch.where(is_point, dataframe[F.mid_x], dataframe[field])\n",
    "for field in [F.start_y, F.end_y]: dataframe[field] = torch.where(is_point, dataframe[F.mid_y], dataframe[field])\n",
    "\n",
    "is_line_point = (dataframe[F.line_flag] == 1) & (dataframe[F.length] <= min_length)\n",
    "\n",
    "dataframe[F.point_flag] = torch.where(is_line_point, 1, dataframe[F.point_flag])\n",
    "dataframe[F.line_flag] = torch.where(is_line_point, 0, dataframe[F.line_flag])\n",
    "\n",
    "# === CIRCLES AND ARCS ===\n",
    "is_circle = dataframe[F.circle_flag] == 1\n",
    "is_arc = dataframe[F.arc_flag] == 1\n",
    "is_circle_or_arc = is_circle | is_arc\n",
    "\n",
    "dataframe[F.start_angle] = torch.where(is_circle_or_arc, torch.deg2rad(dataframe[F.start_angle]), dataframe[F.start_angle])\n",
    "dataframe[F.end_angle] = torch.where(is_circle_or_arc, torch.deg2rad(dataframe[F.end_angle]), dataframe[F.end_angle])\n",
    "\n",
    "dataframe[F.arc_span] = torch.where(is_circle, 2 * torch.pi, dataframe[F.arc_span])\n",
    "dataframe[F.arc_span] = torch.where(is_arc, ((dataframe[F.end_angle] - dataframe[F.start_angle]) % (2*torch.pi)), dataframe[F.arc_span])\n",
    "\n",
    "mid_angle = torch.where(is_circle_or_arc, (dataframe[F.start_angle] + dataframe[F.arc_span] / 2) % (2*torch.pi), 0)\n",
    "\n",
    "dataframe[F.start_x] = torch.where(is_circle_or_arc, dataframe[F.center_x] + dataframe[F.radius] * torch.cos(dataframe[F.start_angle]), dataframe[F.start_x])\n",
    "dataframe[F.start_y] = torch.where(is_circle_or_arc, dataframe[F.center_y] + dataframe[F.radius] * torch.sin(dataframe[F.start_angle]), dataframe[F.start_y])\n",
    "dataframe[F.end_x] = torch.where(is_circle_or_arc, dataframe[F.center_x] + dataframe[F.radius] * torch.cos(dataframe[F.end_angle]), dataframe[F.end_x])\n",
    "dataframe[F.end_y] = torch.where(is_circle_or_arc, dataframe[F.center_y] + dataframe[F.radius] * torch.sin(dataframe[F.end_angle]), dataframe[F.end_y])\n",
    "dataframe[F.mid_x] = torch.where(is_circle_or_arc, dataframe[F.center_x] + dataframe[F.radius] * torch.cos(mid_angle), dataframe[F.mid_x])\n",
    "dataframe[F.mid_y] = torch.where(is_circle_or_arc, dataframe[F.center_y] + dataframe[F.radius] * torch.sin(mid_angle), dataframe[F.mid_y])\n",
    "\n",
    "dataframe[F.u_x] = torch.where(is_circle_or_arc, (dataframe[F.mid_x] - dataframe[F.center_x]) / dataframe[F.radius], dataframe[F.u_x])\n",
    "dataframe[F.u_y] = torch.where(is_circle_or_arc, (dataframe[F.mid_y] - dataframe[F.center_y]) / dataframe[F.radius], dataframe[F.u_y])\n",
    "dataframe[F.n_x] = torch.where(is_circle_or_arc, -dataframe[F.u_y], dataframe[F.n_x])\n",
    "dataframe[F.n_y] = torch.where(is_circle_or_arc, dataframe[F.u_x], dataframe[F.n_y])\n",
    "\n",
    "dataframe[F.perimeter] = torch.where(is_circle_or_arc, dataframe[F.radius] * dataframe[F.arc_span], dataframe[F.perimeter])"
   ]
  },
  {
   "cell_type": "code",
   "execution_count": 56,
   "id": "710629db",
   "metadata": {},
   "outputs": [],
   "source": [
    "line_obb_width=2\n",
    "parallel_angle_tolerance=0.02\n",
    "\n",
    "obb_width=None; angle_tolerance=None\n",
    "\n",
    "obb_width = obb_width or line_obb_width\n",
    "angle_tolerance = (angle_tolerance or parallel_angle_tolerance) * torch.pi/180"
   ]
  },
  {
   "cell_type": "code",
   "execution_count": 57,
   "id": "38e3cd52",
   "metadata": {},
   "outputs": [],
   "source": [
    "# Compute OBBs\n",
    "elements, obbs = create_obbs(elements=dataframe, width=obb_width, length_extension=obb_width) # Shape obbs (n_lines, 4, 2)"
   ]
  },
  {
   "cell_type": "code",
   "execution_count": 58,
   "id": "d2a553b8",
   "metadata": {},
   "outputs": [],
   "source": [
    "# Get the pairs of overlapping obbs\n",
    "i, j = get_overlaping_pairs(elements, obbs)\n",
    "elements_a, elements_b = elements[:, i], elements[:, j]"
   ]
  },
  {
   "cell_type": "code",
   "execution_count": 59,
   "id": "f71116ef",
   "metadata": {},
   "outputs": [],
   "source": [
    "# Compute absolute angle difference for line-line pairs in [0, pi]\n",
    "line_line_pair = (elements_a[F.line_flag] == 1) & (elements_b[F.line_flag] == 1)\n",
    "angle_difference = torch.where(line_line_pair, torch.abs(elements_a[F.angle] - elements_b[F.angle]), 0)\n",
    "angle_difference = torch.where(line_line_pair, torch.minimum(angle_difference, torch.pi - angle_difference), angle_difference)\n",
    "\n",
    "# Keep only pairs with angle difference above threshold\n",
    "oblique = torch.where(line_line_pair, angle_difference > angle_tolerance, True)\n",
    "elements_a, elements_b = elements_a[:, oblique], elements_b[:, oblique]"
   ]
  },
  {
   "cell_type": "code",
   "execution_count": null,
   "id": "af1d056a",
   "metadata": {},
   "outputs": [],
   "source": []
  },
  {
   "cell_type": "code",
   "execution_count": 61,
   "id": "87b81daa",
   "metadata": {},
   "outputs": [],
   "source": [
    "n_elements = elements_a.size(1)\n",
    "\n",
    "# Filter supported pairs\n",
    "is_line_a = elements_a[F.line_flag] == 1\n",
    "is_line_b = elements_b[F.line_flag] == 1\n",
    "is_arc_a = (elements_a[F.circle_flag] == 1) | (elements_a[F.arc_flag] == 1)\n",
    "is_arc_b = (elements_b[F.circle_flag] == 1) | (elements_b[F.arc_flag] == 1)\n",
    "\n",
    "line_line_pair = is_line_a & is_line_b\n",
    "line_arc_pair, arc_line_pair = is_line_a & is_arc_b, is_arc_a & is_line_b\n",
    "\n",
    "filter = line_line_pair | (line_arc_pair | arc_line_pair)"
   ]
  },
  {
   "cell_type": "code",
   "execution_count": 62,
   "id": "58bfd69b",
   "metadata": {},
   "outputs": [],
   "source": [
    "intersection_a_min = torch.empty(n_elements, dtype=torch.float32)\n",
    "intersection_a_max = torch.empty(n_elements, dtype=torch.float32)\n",
    "intersection_b_min = torch.empty(n_elements, dtype=torch.float32)\n",
    "intersection_b_max = torch.empty(n_elements, dtype=torch.float32)"
   ]
  },
  {
   "cell_type": "code",
   "execution_count": 63,
   "id": "5fb97829",
   "metadata": {},
   "outputs": [],
   "source": [
    "lines_a, arcs_b = elements_a[:, line_arc_pair], elements_b[:, line_arc_pair]\n",
    "arcs_a, lines_b = elements_a[:, arc_line_pair], elements_b[:, arc_line_pair]"
   ]
  },
  {
   "cell_type": "code",
   "execution_count": null,
   "id": "a8d38bc6",
   "metadata": {},
   "outputs": [],
   "source": []
  },
  {
   "cell_type": "code",
   "execution_count": 64,
   "id": "b0307cf9",
   "metadata": {},
   "outputs": [],
   "source": [
    "arcs = arcs_a\n",
    "lines = lines_b"
   ]
  },
  {
   "cell_type": "code",
   "execution_count": 23,
   "id": "1debbb00",
   "metadata": {},
   "outputs": [],
   "source": [
    "dx_start = arcs[F.center_x] - lines[F.start_x]\n",
    "dy_start = arcs[F.center_y] - lines[F.start_y]\n",
    "dx_end = arcs[F.center_x] - lines[F.end_x]\n",
    "dy_end = arcs[F.center_y] - lines[F.end_y]"
   ]
  },
  {
   "cell_type": "code",
   "execution_count": 24,
   "id": "71498a26",
   "metadata": {},
   "outputs": [
    {
     "data": {
      "text/plain": [
       "(tensor([]), tensor([]))"
      ]
     },
     "execution_count": 24,
     "metadata": {},
     "output_type": "execute_result"
    }
   ],
   "source": [
    "distance_start = torch.sqrt(dx_start**2 + dy_start**2)\n",
    "distance_end = torch.sqrt(dx_end**2 + dy_end**2)\n",
    "distance_start, distance_end"
   ]
  },
  {
   "cell_type": "code",
   "execution_count": null,
   "id": "4b025771",
   "metadata": {},
   "outputs": [],
   "source": [
    "inner_radius = arcs[F.radius] - obb_width"
   ]
  },
  {
   "cell_type": "code",
   "execution_count": 51,
   "id": "93687e0f",
   "metadata": {},
   "outputs": [
    {
     "data": {
      "text/plain": [
       "(tensor([ True, False, False, False,  True, False, False, False, False, False,\n",
       "         False, False, False, False]),\n",
       " tensor([ True, False, False, False, False, False, False, False,  True, False,\n",
       "         False, False, False, False]))"
      ]
     },
     "execution_count": 51,
     "metadata": {},
     "output_type": "execute_result"
    }
   ],
   "source": [
    "# Remove pairs in which the lines falls completelly within the circle inner perimeter\n",
    "start_in_inner = distance_start < inner_radius\n",
    "end_in_inner = distance_end < inner_radius\n",
    "start_in_inner, end_in_inner"
   ]
  },
  {
   "cell_type": "code",
   "execution_count": 52,
   "id": "269b0a1c",
   "metadata": {},
   "outputs": [
    {
     "data": {
      "text/plain": [
       "tensor([False,  True,  True,  True,  True,  True,  True,  True,  True,  True,\n",
       "         True,  True,  True,  True])"
      ]
     },
     "execution_count": 52,
     "metadata": {},
     "output_type": "execute_result"
    }
   ],
   "source": [
    "mask = ~(start_in_inner & end_in_inner)\n",
    "mask"
   ]
  },
  {
   "cell_type": "code",
   "execution_count": null,
   "id": "822e72d6",
   "metadata": {},
   "outputs": [],
   "source": [
    "arcs, lines = arcs[:, mask], lines[:, mask]\n",
    "dx_start, dy_start = dx_start[mask], dy_start[mask]\n",
    "inner_radius = inner_radius[mask]\n",
    "start_in_inner, end_in_inner = start_in_inner[mask], end_in_inner[mask]"
   ]
  },
  {
   "cell_type": "code",
   "execution_count": 54,
   "id": "9bb7023a",
   "metadata": {},
   "outputs": [
    {
     "data": {
      "text/plain": [
       "tensor([1.0000, 0.4444, 1.0000, 0.0000, 0.4800, 0.4444, 0.0000, 0.9310, 0.0000,\n",
       "        1.0000, 1.0000, 0.3846, 0.5000])"
      ]
     },
     "execution_count": 54,
     "metadata": {},
     "output_type": "execute_result"
    }
   ],
   "source": [
    "# Compute closest distance betweem the center of the circle and the line\n",
    "t = torch.clamp((dx_start * lines[F.d_x] + dy_start * lines[F.d_y]) / lines[F.length]**2, min=0, max=1)\n",
    "t"
   ]
  },
  {
   "cell_type": "code",
   "execution_count": 55,
   "id": "e2ee6c29",
   "metadata": {},
   "outputs": [
    {
     "data": {
      "text/plain": [
       "(tensor([ 145.0000,  350.0000,  422.0000,  550.0000,  638.8000,  750.0000,\n",
       "          880.0000,  956.5518, 1078.0000, 1124.0000, 1275.0000, 1350.0000,\n",
       "         1450.0000]),\n",
       " tensor([ 41.0000,  30.0000,  30.0000,  30.0000,   8.4000, -20.0000,  35.0000,\n",
       "         -16.3793,  30.0000, -30.0000,  30.0000,  30.0000,   0.0000]))"
      ]
     },
     "execution_count": 55,
     "metadata": {},
     "output_type": "execute_result"
    }
   ],
   "source": [
    "closest_x, closest_y = lines[F.start_x] + t * lines[F.d_x], lines[F.start_y] + t * lines[F.d_y]\n",
    "closest_x, closest_y"
   ]
  },
  {
   "cell_type": "code",
   "execution_count": null,
   "id": "57e97960",
   "metadata": {},
   "outputs": [
    {
     "data": {
      "text/plain": [
       "tensor([41.3038, 30.0000, 41.0366, 30.0000, 14.0000, 20.0000, 46.0977, 17.6411,\n",
       "        41.0366, 39.6989, 39.0512, 30.0000,  0.0000])"
      ]
     },
     "execution_count": 56,
     "metadata": {},
     "output_type": "execute_result"
    }
   ],
   "source": [
    "closest_distance = torch.sqrt((closest_x - arcs[F.center_x])**2 + (closest_y - arcs[F.center_y])**2)\n",
    "closest_distance"
   ]
  },
  {
   "cell_type": "code",
   "execution_count": null,
   "id": "7f594c35",
   "metadata": {},
   "outputs": [],
   "source": [
    "outer_radius = arcs[F.radius] + obb_width"
   ]
  },
  {
   "cell_type": "code",
   "execution_count": 58,
   "id": "56e6b59b",
   "metadata": {},
   "outputs": [
    {
     "data": {
      "text/plain": [
       "tensor([ True,  True,  True,  True,  True,  True, False,  True,  True,  True,\n",
       "         True,  True,  True])"
      ]
     },
     "execution_count": 58,
     "metadata": {},
     "output_type": "execute_result"
    }
   ],
   "source": [
    "# Remove pairs in which the lines falls completelly out of the circle outer perimeter\n",
    "mask = ~(closest_distance > outer_radius)\n",
    "mask"
   ]
  },
  {
   "cell_type": "code",
   "execution_count": null,
   "id": "836264b8",
   "metadata": {},
   "outputs": [],
   "source": [
    "arcs, lines = arcs[:, mask], lines[:, mask]\n",
    "dx_start, dy_start = dx_start[mask], dy_start[mask]\n",
    "inner_radius = inner_radius[mask]\n",
    "start_in_inner, end_in_inner = start_in_inner[mask], end_in_inner[mask]\n",
    "closest_distance = closest_distance[mask]"
   ]
  },
  {
   "cell_type": "code",
   "execution_count": null,
   "id": "34bd92e6",
   "metadata": {},
   "outputs": [],
   "source": []
  },
  {
   "cell_type": "code",
   "execution_count": null,
   "id": "dc010414",
   "metadata": {},
   "outputs": [
    {
     "data": {
      "text/plain": [
       "tensor([   0.0000, 2800.0000, 2800.0000, 2800.0000, 5616.0000, 4800.0000,\n",
       "        5155.1719, 2800.0000, 2800.0000, 2800.0000, 2800.0000, 6400.0000])"
      ]
     },
     "execution_count": 60,
     "metadata": {},
     "output_type": "execute_result"
    }
   ],
   "source": [
    "a = lines[F.u_x]**2 + lines[F.u_y]**2\n",
    "b = 2 * (dx_start * lines[F.u_x] + dy_start * lines[F.u_y])\n",
    "c = dx_start**2 + dy_start**2 - arcs[F.radius]**2\n",
    "discriminant = torch.clamp(b**2 - 4 * a * c, min=0)\n",
    "discriminant"
   ]
  },
  {
   "cell_type": "code",
   "execution_count": 61,
   "id": "21f182c7",
   "metadata": {},
   "outputs": [
    {
     "data": {
      "text/plain": [
       "tensor([ 0.0000, 52.9150, 52.9150, 52.9150, 74.9400, 69.2820, 71.7995, 52.9150,\n",
       "        52.9150, 52.9150, 52.9150, 80.0000])"
      ]
     },
     "execution_count": 61,
     "metadata": {},
     "output_type": "execute_result"
    }
   ],
   "source": [
    "sqrt_discriminant = torch.sqrt(discriminant)\n",
    "sqrt_discriminant"
   ]
  },
  {
   "cell_type": "code",
   "execution_count": 62,
   "id": "a5661c71",
   "metadata": {},
   "outputs": [
    {
     "data": {
      "text/plain": [
       "(tensor([50.0000, 66.4575, 74.4575, 26.4575, 85.4700, 74.6410, 86.0375, -1.5425,\n",
       "         72.4575, 71.4575, 51.4575, 79.0000]),\n",
       " tensor([ 50.0000,  13.5425,  21.5425, -26.4575,  10.5300,   5.3590,  14.2380,\n",
       "         -54.4575,  19.5425,  18.5425,  -1.4575,  -1.0000]))"
      ]
     },
     "execution_count": 62,
     "metadata": {},
     "output_type": "execute_result"
    }
   ],
   "source": [
    "t1 = (-b - sqrt_discriminant) / (2 * a)\n",
    "t2 = (-b + sqrt_discriminant) / (2 * a)\n",
    "t1, t2 = -t1, -t2\n",
    "t1, t2"
   ]
  },
  {
   "cell_type": "code",
   "execution_count": 63,
   "id": "108175b3",
   "metadata": {},
   "outputs": [
    {
     "data": {
      "text/plain": [
       "(tensor([ 50.0000,  13.5425,  21.5425, -26.4575,  10.5300,   5.3590,  14.2380,\n",
       "         -54.4575,  19.5425,  18.5425,  -1.4575,  -1.0000]),\n",
       " tensor([50.0000, 66.4575, 74.4575, 26.4575, 85.4700, 74.6410, 86.0375, -1.5425,\n",
       "         72.4575, 71.4575, 51.4575, 79.0000]))"
      ]
     },
     "execution_count": 63,
     "metadata": {},
     "output_type": "execute_result"
    }
   ],
   "source": [
    "t_min = torch.minimum(t1, t2)\n",
    "t_max = torch.maximum(t1, t2)\n",
    "t_min, t_max"
   ]
  },
  {
   "cell_type": "code",
   "execution_count": 64,
   "id": "1521c9c0",
   "metadata": {},
   "outputs": [
    {
     "data": {
      "text/plain": [
       "(tensor([ 50.0000,  13.5425,  21.5425,  26.4575,  10.5300,   5.3590,  14.2380,\n",
       "         -54.4575,  19.5425,  18.5425,  -1.4575,  -1.0000]),\n",
       " tensor([50.0000, 66.4575, 74.4575, 26.4575, 85.4700, 74.6410, 14.2380, -1.5425,\n",
       "         72.4575, 71.4575, 51.4575, 79.0000]))"
      ]
     },
     "execution_count": 64,
     "metadata": {},
     "output_type": "execute_result"
    }
   ],
   "source": [
    "t_min = torch.where(start_in_inner, t_max, t_min)\n",
    "t_max = torch.where(end_in_inner, t_min, t_max)\n",
    "t_min, t_max"
   ]
  },
  {
   "cell_type": "code",
   "execution_count": 65,
   "id": "6cb0fff7",
   "metadata": {},
   "outputs": [
    {
     "data": {
      "text/plain": [
       "tensor([ True, False,  True, False, False, False, False,  True,  True,  True,\n",
       "        False, False])"
      ]
     },
     "execution_count": 65,
     "metadata": {},
     "output_type": "execute_result"
    }
   ],
   "source": [
    "closest_out_inner = closest_distance >= inner_radius\n",
    "closest_out_inner"
   ]
  },
  {
   "cell_type": "code",
   "execution_count": 66,
   "id": "afb34013",
   "metadata": {},
   "outputs": [
    {
     "data": {
      "text/plain": [
       "(tensor([50.0000, 13.5425, 21.5425, 26.4575, 10.5300,  5.3590, 14.2380, -1.5425,\n",
       "         19.5425, 18.5425, -1.4575, -1.0000]),\n",
       " tensor([50.0000, 66.4575, 21.5425, 26.4575, 85.4700, 74.6410, 14.2380, -1.5425,\n",
       "         19.5425, 18.5425, 51.4575, 79.0000]))"
      ]
     },
     "execution_count": 66,
     "metadata": {},
     "output_type": "execute_result"
    }
   ],
   "source": [
    "t_min = torch.where(closest_out_inner & (t_min < 0), t_max, t_min)\n",
    "t_max = torch.where(closest_out_inner & (t_max > lines[F.length]), t_min, t_max)\n",
    "t_min, t_max"
   ]
  },
  {
   "cell_type": "code",
   "execution_count": null,
   "id": "c6369fee",
   "metadata": {},
   "outputs": [
    {
     "data": {
      "text/plain": [
       "(tensor([1.0000, 0.1505, 1.0000, 0.6614, 0.1053, 0.0595, 0.2644, 0.0000, 0.9771,\n",
       "         0.9271, 0.0000, 0.0000]),\n",
       " tensor([1.0000, 0.7384, 1.0000, 0.6614, 0.8547, 0.8293, 0.2644, 0.0000, 0.9771,\n",
       "         0.9271, 0.7917, 1.0000]))"
      ]
     },
     "execution_count": 67,
     "metadata": {},
     "output_type": "execute_result"
    }
   ],
   "source": [
    "intersection_min = torch.clamp(t_min / lines[F.length], min=0, max=1)\n",
    "intersection_max = torch.clamp(t_max / lines[F.length], min=0, max=1)\n",
    "intersection_min, intersection_max"
   ]
  },
  {
   "cell_type": "code",
   "execution_count": null,
   "id": "368db14d",
   "metadata": {},
   "outputs": [],
   "source": []
  },
  {
   "cell_type": "code",
   "execution_count": null,
   "id": "270bfbdc",
   "metadata": {},
   "outputs": [],
   "source": [
    "# For the arcs\n",
    "ix = lines[F.start_x] + t_min * lines[F.u_x]\n",
    "iy = lines[F.start_y] + t_min * lines[F.u_y]\n",
    "jx = lines[F.start_x] + t_max * lines[F.u_x]\n",
    "jy = lines[F.start_y] + t_max * lines[F.u_y]"
   ]
  },
  {
   "cell_type": "code",
   "execution_count": null,
   "id": "90c6a417",
   "metadata": {},
   "outputs": [
    {
     "data": {
      "text/plain": [
       "(tensor([1.5708, 0.8481, 2.2935, 0.8481, 3.7113, 3.6652, 3.9788, 0.8481, 3.9897,\n",
       "         0.8481, 2.2935, 4.7124]),\n",
       " tensor([1.5708, 2.2935, 2.2935, 0.8481, 1.2849, 5.7596, 3.9788, 0.8481, 3.9897,\n",
       "         0.8481, 0.8481, 1.5708]))"
      ]
     },
     "execution_count": 71,
     "metadata": {},
     "output_type": "execute_result"
    }
   ],
   "source": [
    "angle1 = torch.atan2(iy - arcs[F.center_y], ix - arcs[F.center_x]) % (2 * torch.pi)\n",
    "angle2 = torch.atan2(jy - arcs[F.center_y], jx - arcs[F.center_x]) % (2 * torch.pi)\n",
    "angle1, angle2"
   ]
  },
  {
   "cell_type": "code",
   "execution_count": 74,
   "id": "ba8ede53",
   "metadata": {},
   "outputs": [
    {
     "data": {
      "text/plain": [
       "(tensor([-0.5000, -0.7301, -0.2699, -0.7301, -0.5910,  0.1667,  0.2665, -0.7301,\n",
       "          0.2699, -0.7301, -0.7301, -0.5000]),\n",
       " tensor([-0.5000, -0.2699, -0.2699, -0.7301,  0.1813,  0.8333,  0.2665, -0.7301,\n",
       "          0.2699, -0.7301, -0.2699,  0.5000]))"
      ]
     },
     "execution_count": 74,
     "metadata": {},
     "output_type": "execute_result"
    }
   ],
   "source": [
    "angle_min = (torch.minimum(angle1, angle2) / torch.pi) -1\n",
    "angle_max = (torch.maximum(angle1, angle2) / torch.pi) -1\n",
    "angle_min, angle_max"
   ]
  },
  {
   "cell_type": "code",
   "execution_count": null,
   "id": "800e4b11",
   "metadata": {},
   "outputs": [],
   "source": []
  }
 ],
 "metadata": {
  "kernelspec": {
   "display_name": "dl_torch",
   "language": "python",
   "name": "python3"
  },
  "language_info": {
   "codemirror_mode": {
    "name": "ipython",
    "version": 3
   },
   "file_extension": ".py",
   "mimetype": "text/x-python",
   "name": "python",
   "nbconvert_exporter": "python",
   "pygments_lexer": "ipython3",
   "version": "3.10.16"
  }
 },
 "nbformat": 4,
 "nbformat_minor": 5
}
