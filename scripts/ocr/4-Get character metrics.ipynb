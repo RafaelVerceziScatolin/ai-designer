{
 "cells": [
  {
   "cell_type": "code",
   "execution_count": null,
   "id": "a44c140b",
   "metadata": {},
   "outputs": [],
   "source": [
    "import os\n",
    "\n",
    "dxf_folder = r\"C:\\Users\\Rafael\\Desktop\\training_dataset\\dxf files\\9-characters\\individual\"\n",
    "dxf_files = [os.path.join(dxf_folder, file) for file in os.listdir(dxf_folder) if file.endswith('.dxf')]\n",
    "\n",
    "print(f\"Found {len(dxf_files)} DXF files. Processing...\")\n",
    "print(f\"➡️ No need for width variation for character metrics\")"
   ]
  },
  {
   "cell_type": "code",
   "execution_count": null,
   "id": "3e2dc2e9",
   "metadata": {},
   "outputs": [
    {
     "name": "stderr",
     "output_type": "stream",
     "text": [
      "Building characterMetrics: 100%|██████████| 238/238 [07:49<00:00,  1.97s/it]\n"
     ]
    }
   ],
   "source": [
    "from typing import Dict\n",
    "import time\n",
    "from tqdm import tqdm\n",
    "import win32com.client\n",
    "from shapely.geometry import box\n",
    "from collections import defaultdict\n",
    "\n",
    "# Start AutoCAD\n",
    "acad = win32com.client.Dispatch(\"AutoCAD.Application\")\n",
    "acad.Visible = True # optional: run in background\n",
    "time.sleep(5)  # Give time for AutoCAD to fully open\n",
    "\n",
    "# Timing Settings\n",
    "open_delay = 1.0\n",
    "activate_delay = 0.5\n",
    "close_delay = 0.2\n",
    "\n",
    "characterMetrics: Dict[str, Dict[str, Dict]] = defaultdict(dict)\n",
    "for file in tqdm(dxf_files, desc=\"Building characterMetrics\"):\n",
    "    \n",
    "    doc = acad.Documents.Open(file); time.sleep(open_delay)\n",
    "    doc.Activate(); time.sleep(activate_delay)\n",
    "    modelSpace = doc.ModelSpace\n",
    "    \n",
    "    text = next(entity for entity in modelSpace)\n",
    "    font = acad.ActiveDocument.TextStyles.Item(text.StyleName).FontFile.lower()\n",
    "    character = text.TextString\n",
    "    min_point, max_point = text.GetBoundingBox()\n",
    "    bbox = box(min_point[0], min_point[1], max_point[0], max_point[1])\n",
    "    width = max_point[0] - min_point[0]\n",
    "    \n",
    "    characterMetrics[font][character] = {\"bbox\": bbox, \"width\": width}\n",
    "    \n",
    "    doc.Close(False)\n",
    "    time.sleep(close_delay)\n"
   ]
  },
  {
   "cell_type": "code",
   "execution_count": 3,
   "id": "45e25ccb",
   "metadata": {},
   "outputs": [
    {
     "name": "stdout",
     "output_type": "stream",
     "text": [
      "Saved character metrics to character_metrics.pkl\n"
     ]
    }
   ],
   "source": [
    "import pickle\n",
    "\n",
    "output_file = \"character_metrics.pkl\"  # or a full path if you want\n",
    "with open(output_file, \"wb\") as f: pickle.dump(characterMetrics, f)\n",
    "print(f\"Saved character metrics to {output_file}\")"
   ]
  },
  {
   "cell_type": "code",
   "execution_count": null,
   "id": "012f1419",
   "metadata": {},
   "outputs": [],
   "source": []
  }
 ],
 "metadata": {
  "kernelspec": {
   "display_name": "dl_torch",
   "language": "python",
   "name": "python3"
  },
  "language_info": {
   "codemirror_mode": {
    "name": "ipython",
    "version": 3
   },
   "file_extension": ".py",
   "mimetype": "text/x-python",
   "name": "python",
   "nbconvert_exporter": "python",
   "pygments_lexer": "ipython3",
   "version": "3.10.16"
  }
 },
 "nbformat": 4,
 "nbformat_minor": 5
}
