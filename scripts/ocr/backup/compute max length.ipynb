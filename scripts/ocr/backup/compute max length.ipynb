{
 "cells": [
  {
   "cell_type": "code",
   "execution_count": 1,
   "id": "1ee43f31",
   "metadata": {},
   "outputs": [
    {
     "name": "stdout",
     "output_type": "stream",
     "text": [
      "Found 19 DXF files. Processing...\n"
     ]
    }
   ],
   "source": [
    "import os\n",
    "\n",
    "dxf_folder = r\"C:\\Users\\Rafael\\Desktop\\text_recognition\\DXF files\\test\"\n",
    "dxf_files = [os.path.join(dxf_folder, file) for file in os.listdir(dxf_folder) if file.endswith('.dxf')]\n",
    "\n",
    "print(f\"Found {len(dxf_files)} DXF files. Processing...\")"
   ]
  },
  {
   "cell_type": "code",
   "execution_count": 2,
   "id": "9ba576e8",
   "metadata": {},
   "outputs": [],
   "source": [
    "from typing import List, Dict\n",
    "import math\n",
    "import ezdxf\n",
    "import pandas\n",
    "\n",
    "dataframe: List[Dict] = [ ]\n",
    "\n",
    "for dxf_file in dxf_files:\n",
    "    doc = ezdxf.readfile(dxf_file)\n",
    "    modelSpace = doc.modelspace()\n",
    "    \n",
    "    lineCollector = [line for line in modelSpace if line.dxftype() == 'LINE']\n",
    "    \n",
    "    for line in lineCollector:\n",
    "        start_x, start_y, _ = line.dxf.start\n",
    "        end_x, end_y, _ = line.dxf.end\n",
    "        \n",
    "        length = math.hypot(end_x - start_x, end_y - start_y)\n",
    "        \n",
    "        dataframe.append({\"length\": length})\n",
    "\n",
    "dataframe = pandas.DataFrame(dataframe)"
   ]
  },
  {
   "cell_type": "code",
   "execution_count": 4,
   "id": "d0fd76e4",
   "metadata": {},
   "outputs": [
    {
     "data": {
      "text/plain": [
       "176.53671467337412"
      ]
     },
     "execution_count": 4,
     "metadata": {},
     "output_type": "execute_result"
    }
   ],
   "source": [
    "lengths = dataframe[['length']]\n",
    "lengths.values.max()"
   ]
  }
 ],
 "metadata": {
  "kernelspec": {
   "display_name": "dl_torch",
   "language": "python",
   "name": "python3"
  },
  "language_info": {
   "codemirror_mode": {
    "name": "ipython",
    "version": 3
   },
   "file_extension": ".py",
   "mimetype": "text/x-python",
   "name": "python",
   "nbconvert_exporter": "python",
   "pygments_lexer": "ipython3",
   "version": "3.10.16"
  }
 },
 "nbformat": 4,
 "nbformat_minor": 5
}
