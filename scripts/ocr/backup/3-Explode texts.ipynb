{
 "cells": [
  {
   "cell_type": "code",
   "execution_count": 1,
   "id": "b8c7db55",
   "metadata": {},
   "outputs": [],
   "source": [
    "import os\n",
    "\n",
    "# Folder with your DXF files\n",
    "dxf_folder = r\"C:\\Users\\Rafael\\Desktop\\text_recognition-RV01\\drawings\\5-columns-with_text\"\n",
    "#dxf_folder = r\"C:\\Users\\Rafael\\Desktop\\text_recognition-RV01\\drawings\\6-columns+beams-with_text\"\n",
    "#dxf_folder = r\"C:\\Users\\Rafael\\Desktop\\text_recognition-RV01\\drawings\\7-originals-with_text\"\n",
    "#dxf_folder = r\"C:\\Users\\Rafael\\Desktop\\text_recognition-RV01\\drawings\\8-variation-with_text\"\n",
    "#dxf_folder = r\"C:\\Users\\Rafael\\Desktop\\text_recognition-RV01\\drawings\\9-characters\\ensemble\"\n",
    "#dxf_folder = r\"C:\\Users\\Rafael\\Desktop\\text_recognition-RV01\\drawings\\9-characters\\individual\"\n",
    "dxf_files = [os.path.join(dxf_folder, file) for file in os.listdir(dxf_folder) if file.endswith('.dxf')]\n",
    "\n",
    "script_output = os.path.join(dxf_folder, \"EXPLODE_ALL.scr\")"
   ]
  },
  {
   "cell_type": "code",
   "execution_count": 2,
   "id": "38685e05",
   "metadata": {},
   "outputs": [
    {
     "name": "stdout",
     "output_type": "stream",
     "text": [
      "✅ Renamed: 16979-09-STÉFANI_NOGUEIRA-MAGNÓLIA-TIPO-REV00.dxf → 16979-09-STEFANI_NOGUEIRA-MAGNOLIA-TIPO-REV00.dxf\n",
      "✅ Renamed: 35450-OLHOS_D'AGUA-EVERO-TIPO-REV00.dxf → 35450-OLHOS_D_AGUA-EVERO-TIPO-REV00.dxf\n",
      "✅ Renamed: 36615-01-HB29-THAI-1ºSUB-CORPO-REV00.dxf → 36615-01-HB29-THAI-1oSUB-CORPO-REV00.dxf\n",
      "✅ Renamed: 45018-FIGUEIRA-TARRAF_SQUARE-TORRE_RESIDENCIAL-2ºSS-CORPO-REV00.dxf → 45018-FIGUEIRA-TARRAF_SQUARE-TORRE_RESIDENCIAL-2oSS-CORPO-REV00.dxf\n",
      "✅ Renamed: 66697-SPE_URBEN_13-1ºSUB-CORPO-REV00.dxf → 66697-SPE_URBEN_13-1oSUB-CORPO-REV00.dxf\n",
      "✅ Renamed: 71520-REALIZA-TERRAÇO_SKY-TIPO-REV00.dxf → 71520-REALIZA-TERRACO_SKY-TIPO-REV00.dxf\n"
     ]
    }
   ],
   "source": [
    "import os\n",
    "import unicodedata\n",
    "import re\n",
    "\n",
    "for filename in os.listdir(dxf_folder):\n",
    "    if filename.lower().endswith(\".dxf\"):\n",
    "        # Step 1: Normalize (remove accents)\n",
    "        name_no_accents = unicodedata.normalize(\"NFKD\", filename)\n",
    "        name_no_accents = \"\".join(c for c in name_no_accents if not unicodedata.combining(c))\n",
    "        \n",
    "        # Step 2: Replace non-safe characters (spaces, etc.)\n",
    "        cleaned_name = re.sub(r\"[^a-zA-Z0-9_.\\-]\", \"_\", name_no_accents)\n",
    "\n",
    "        # Rename if changed\n",
    "        if filename != cleaned_name:\n",
    "            old_path = os.path.join(dxf_folder, filename)\n",
    "            new_path = os.path.join(dxf_folder, cleaned_name)\n",
    "            os.rename(old_path, new_path)\n",
    "            print(f\"✅ Renamed: {filename} → {cleaned_name}\")"
   ]
  },
  {
   "cell_type": "code",
   "execution_count": null,
   "id": "c3ed45ca",
   "metadata": {},
   "outputs": [
    {
     "name": "stdout",
     "output_type": "stream",
     "text": [
      "Script generated at: C:\\Users\\Rafael\\Desktop\\text_recognition-RV01\\drawings\\5-columns-with_text\\EXPLODE_ALL.scr\n",
      "➡️ set QAFLAGS to 1 in Autocad before runing the script\n",
      "➡️ set the file to save as .dxf\n"
     ]
    }
   ],
   "source": [
    "from typing import List\n",
    "\n",
    "commandLine: List[str] = []\n",
    "for file in dxf_files:\n",
    "    # Escape backslashes for AutoCAD\n",
    "    acadPath = file.replace(\"\\\\\", \"/\")\n",
    "    \n",
    "    commandLine.extend(\n",
    "    [\n",
    "        f'OPEN\"{acadPath}\"',\n",
    "        'ZOOM E',\n",
    "        'TXTEXP',\n",
    "        'ALL',\n",
    "        '',\n",
    "        'EXPLODE',\n",
    "        'ALL',\n",
    "        '',\n",
    "        'QSAVE',\n",
    "        'CLOSE'\n",
    "    ]\n",
    "    )\n",
    "\n",
    "with open(script_output, \"w\", encoding=\"utf-8\") as f:\n",
    "    f.write(\"\\n\".join(commandLine))\n",
    "\n",
    "print(f\"Script generated at: {script_output}\")\n",
    "print(f\"➡️ set QAFLAGS to 1 in Autocad before runing the script\")\n",
    "print(f\"➡️ set the file to save as .dxf\")"
   ]
  },
  {
   "cell_type": "code",
   "execution_count": null,
   "id": "9c0fff04",
   "metadata": {},
   "outputs": [],
   "source": []
  }
 ],
 "metadata": {
  "kernelspec": {
   "display_name": "dl_torch",
   "language": "python",
   "name": "python3"
  },
  "language_info": {
   "codemirror_mode": {
    "name": "ipython",
    "version": 3
   },
   "file_extension": ".py",
   "mimetype": "text/x-python",
   "name": "python",
   "nbconvert_exporter": "python",
   "pygments_lexer": "ipython3",
   "version": "3.10.16"
  }
 },
 "nbformat": 4,
 "nbformat_minor": 5
}
