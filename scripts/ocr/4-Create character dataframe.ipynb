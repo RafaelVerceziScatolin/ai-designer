{
 "cells": [
  {
   "cell_type": "code",
   "execution_count": 7,
   "id": "a44c140b",
   "metadata": {},
   "outputs": [
    {
     "name": "stdout",
     "output_type": "stream",
     "text": [
      "Found 30 DXF files. Processing...\n"
     ]
    }
   ],
   "source": [
    "import os\n",
    "\n",
    "dxf_folder = r\"C:\\Users\\rafael.scatolin\\OneDrive - Orguel\\ai_designer_database\\dxf files\\training\"\n",
    "dxf_files = [os.path.join(dxf_folder, file) for file in os.listdir(dxf_folder) if file.endswith('.dxf')]\n",
    "\n",
    "print(f\"Found {len(dxf_files)} DXF files. Processing...\")"
   ]
  },
  {
   "cell_type": "code",
   "execution_count": null,
   "id": "3e2dc2e9",
   "metadata": {},
   "outputs": [],
   "source": [
    "from typing import List, Dict\n",
    "import win32com.client\n",
    "from shapely.geometry import box\n",
    "\n",
    "acad = win32com.client.Dispatch(\"AutoCAD.Application\")\n",
    "acad.Visible = False # optional: run in background\n",
    "\n",
    "labels: List[Dict] = []\n",
    "for file in dxf_files:\n",
    "    doc = acad.Documents.Open(file)\n",
    "    modelSpace = doc.ModelSpace\n",
    "    \n",
    "    for text in modelSpace:\n",
    "        if text.ObjectName is not \"AcDbText\": continue\n",
    "        \n",
    "        textString = text.TextString\n",
    "        font = text.StyleName\n",
    "        height = text.Height\n",
    "        rotation = text.Rotation\n",
    "        insertion = text.InsertionPoint\n",
    "        min_point, max_point = text.GetBoundingBox()\n",
    "        polygon = box(min_point[0], min_point[1], max_point[0], max_point[1])\n",
    "        \n",
    "        for character in textString:\n",
    "            labels.append(\n",
    "            {\n",
    "                \"file\": file,\n",
    "                \"char\": character,\n",
    "                \"font\": font,\n",
    "                \"height\": height,\n",
    "                \"rotation\": rotation,\n",
    "                \"insertion_x\": insertion[0],\n",
    "                \"insertion_y\": insertion[1],\n",
    "                \"bbox\": polygon\n",
    "            }\n",
    "            )\n",
    "    \n",
    "    doc.Close(False)"
   ]
  },
  {
   "cell_type": "code",
   "execution_count": null,
   "id": "45e25ccb",
   "metadata": {},
   "outputs": [],
   "source": [
    "import pandas\n",
    "\n",
    "# Convert to DataFrame\n",
    "dataframe = pandas.Dataframe(labels)\n",
    "dataframe.to_pickle(\"character_dataframe.pkl\")\n",
    "print(f\"Labeled {len(df)} characters using AutoCAD COM.\")"
   ]
  }
 ],
 "metadata": {
  "kernelspec": {
   "display_name": "dl_torch",
   "language": "python",
   "name": "python3"
  },
  "language_info": {
   "codemirror_mode": {
    "name": "ipython",
    "version": 3
   },
   "file_extension": ".py",
   "mimetype": "text/x-python",
   "name": "python",
   "nbconvert_exporter": "python",
   "pygments_lexer": "ipython3",
   "version": "3.10.16"
  }
 },
 "nbformat": 4,
 "nbformat_minor": 5
}
