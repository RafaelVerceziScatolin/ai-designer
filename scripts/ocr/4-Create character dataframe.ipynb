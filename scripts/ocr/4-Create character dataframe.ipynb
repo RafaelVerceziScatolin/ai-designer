{
 "cells": [
  {
   "cell_type": "code",
   "execution_count": 7,
   "id": "a44c140b",
   "metadata": {},
   "outputs": [
    {
     "name": "stdout",
     "output_type": "stream",
     "text": [
      "Found 30 DXF files. Processing...\n"
     ]
    }
   ],
   "source": [
    "import os\n",
    "\n",
    "dxf_folder = r\"C:\\Users\\rafael.scatolin\\OneDrive - Orguel\\ai_designer_database\\dxf files\\training\"\n",
    "dxf_files = [os.path.join(dxf_folder, file) for file in os.listdir(dxf_folder) if file.endswith('.dxf')]\n",
    "\n",
    "print(f\"Found {len(dxf_files)} DXF files. Processing...\")"
   ]
  },
  {
   "cell_type": "code",
   "execution_count": null,
   "id": "3e2dc2e9",
   "metadata": {},
   "outputs": [],
   "source": [
    "import sys\n",
    "import ezdxf\n",
    "from pathlib import Path\n",
    "sys.path.append(str(Path.home() / \"orguel_ml\"))\n",
    "from orguel_ml.ocr import character_set\n",
    "\n",
    "for file in dxf_files:\n",
    "    doc = ezdxf.readfile(filepath)\n",
    "    modelSpace = doc.modelspace()\n",
    "    \n",
    "    for text in modelSpace.query('TEXT'):\n",
    "        textString = text.dxf.text\n",
    "        textInsertionPoint = text.dxf.insert[0:2]\n",
    "        height = text.dxf.height\n",
    "        rotation = text.dxf.rotation\n",
    "        font = text.dxf.style\n",
    "        font_path = doc.styles.get(font).dxf.font \n",
    "        if not font_path: font_path = \"C:/Windows/Fonts/arial.ttf\"\n",
    "        \n",
    "        insertion_x = textInsertionPoint[0]\n",
    "        \n",
    "        for character in textString:\n",
    "\n",
    "    "
   ]
  }
 ],
 "metadata": {
  "kernelspec": {
   "display_name": "dl_torch",
   "language": "python",
   "name": "python3"
  },
  "language_info": {
   "codemirror_mode": {
    "name": "ipython",
    "version": 3
   },
   "file_extension": ".py",
   "mimetype": "text/x-python",
   "name": "python",
   "nbconvert_exporter": "python",
   "pygments_lexer": "ipython3",
   "version": "3.10.16"
  }
 },
 "nbformat": 4,
 "nbformat_minor": 5
}
