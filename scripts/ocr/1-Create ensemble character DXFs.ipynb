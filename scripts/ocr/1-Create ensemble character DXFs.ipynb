{
 "cells": [
  {
   "cell_type": "code",
   "execution_count": null,
   "id": "00e3737b",
   "metadata": {},
   "outputs": [],
   "source": [
    "import sys\n",
    "from pathlib import Path\n",
    "sys.path.append(str(Path.home() / \"orguel_ml\"))\n",
    "from orguel_ml.ocr import character_set, width_factors\n",
    "\n",
    "# Output directory\n",
    "#output_folder = r\"C:\\Users\\rafael.scatolin\\OneDrive - Orguel\\ai_designer_database\\dxf files\\9-characters\\ensemble\"\n",
    "output_folder = r\"C:\\Users\\Rafael\\Desktop\\training_dataset\\dxf files\\9-characters\\ensemble\""
   ]
  },
  {
   "cell_type": "code",
   "execution_count": null,
   "id": "bb18b7da",
   "metadata": {},
   "outputs": [],
   "source": [
    "import os\n",
    "import ezdxf\n",
    "\n",
    "def GenerateDXF(font_name, font_file, width_factor=1, spacing=5):\n",
    "    doc = ezdxf.new()\n",
    "    modelSpace = doc.modelspace()\n",
    "    styles = doc.styles\n",
    "    \n",
    "    if font_name not in styles: styles.new(font_name, dxfattribs={\"font\": font_file})\n",
    "    \n",
    "    y = 0\n",
    "    for group, characters in character_set[\"characters\"][\"type\"].items():\n",
    "        x = spacing\n",
    "        for character in characters:\n",
    "            text = modelSpace.add_text(\n",
    "                character,\n",
    "                dxfattribs={\n",
    "                    \"height\": 1,\n",
    "                    \"style\": font_name,\n",
    "                    \"rotation\": 0,\n",
    "                    \"width\": width_factor\n",
    "                    }\n",
    "                )\n",
    "            text.dxf.insert = (x, y)\n",
    "            x += spacing\n",
    "        y -= spacing\n",
    "    \n",
    "    suffix = f\"_width{width_factor:.2f}\".replace('.', '_')\n",
    "    savePath = os.path.join(output_folder, f\"{font_name}{suffix}.dxf\")\n",
    "    doc.saveas(savePath)\n",
    "    print(f\"Saved: {savePath}\")"
   ]
  },
  {
   "cell_type": "code",
   "execution_count": null,
   "id": "403b9363",
   "metadata": {},
   "outputs": [
    {
     "name": "stdout",
     "output_type": "stream",
     "text": [
      "Saved: C:\\Users\\Rafael\\Desktop\\training_dataset\\dxf files\\9-characters\\ensemble\\Arial.dxf\n",
      "Saved: C:\\Users\\Rafael\\Desktop\\training_dataset\\dxf files\\9-characters\\ensemble\\ROMANS.dxf\n"
     ]
    }
   ],
   "source": [
    "for fontName, fontFile in character_set[\"font\"][\"type\"].items():\n",
    "    for widthFactor in width_factors:\n",
    "        GenerateDXF(fontName, fontFile, widthFactor)"
   ]
  },
  {
   "cell_type": "code",
   "execution_count": null,
   "id": "715a8555",
   "metadata": {},
   "outputs": [],
   "source": []
  }
 ],
 "metadata": {
  "kernelspec": {
   "display_name": "dl_torch",
   "language": "python",
   "name": "python3"
  },
  "language_info": {
   "codemirror_mode": {
    "name": "ipython",
    "version": 3
   },
   "file_extension": ".py",
   "mimetype": "text/x-python",
   "name": "python",
   "nbconvert_exporter": "python",
   "pygments_lexer": "ipython3",
   "version": "3.10.16"
  }
 },
 "nbformat": 4,
 "nbformat_minor": 5
}
