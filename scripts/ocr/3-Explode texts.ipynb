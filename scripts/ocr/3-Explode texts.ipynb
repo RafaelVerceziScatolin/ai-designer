{
 "cells": [
  {
   "cell_type": "code",
   "execution_count": 3,
   "id": "1ace2f82",
   "metadata": {},
   "outputs": [
    {
     "name": "stdout",
     "output_type": "stream",
     "text": [
      "Found 1398 DXF files. Processing...\n"
     ]
    }
   ],
   "source": [
    "import os\n",
    "\n",
    "#dxf_folder = r\"C:\\Users\\rafael.scatolin\\OneDrive - Orguel\\ai_designer_database\\dxf files\\training\"\n",
    "dxf_folder = r\"C:\\Users\\Rafael\\Desktop\\training_dataset\\dxf files\\training\\1-temp\"\n",
    "dxf_files = [os.path.join(dxf_folder, file) for file in os.listdir(dxf_folder) if file.endswith('.dxf')]\n",
    "\n",
    "output_folder = r\"C:\\Users\\Rafael\\Desktop\\training_dataset\\dxf files\\training\\2-converted\"\n",
    "\n",
    "print(f\"Found {len(dxf_files)} DXF files. Processing...\")"
   ]
  },
  {
   "cell_type": "code",
   "execution_count": 4,
   "id": "5eedb286",
   "metadata": {},
   "outputs": [
    {
     "name": "stderr",
     "output_type": "stream",
     "text": [
      "Exploding texts...:   4%|▎         | 49/1398 [05:38<2:31:00,  6.72s/it]"
     ]
    },
    {
     "name": "stdout",
     "output_type": "stream",
     "text": [
      "🔄 Restarting AutoCAD to refresh memory...\n"
     ]
    },
    {
     "name": "stderr",
     "output_type": "stream",
     "text": [
      "Exploding texts...:   4%|▎         | 50/1398 [06:09<5:12:15, 13.90s/it]"
     ]
    },
    {
     "name": "stdout",
     "output_type": "stream",
     "text": [
      "✅ AutoCAD restarted successfully!\n"
     ]
    },
    {
     "name": "stderr",
     "output_type": "stream",
     "text": [
      "Exploding texts...:   7%|▋         | 99/1398 [11:52<2:44:18,  7.59s/it]"
     ]
    },
    {
     "name": "stdout",
     "output_type": "stream",
     "text": [
      "🔄 Restarting AutoCAD to refresh memory...\n"
     ]
    },
    {
     "name": "stderr",
     "output_type": "stream",
     "text": [
      "Exploding texts...:   7%|▋         | 100/1398 [12:15<4:22:53, 12.15s/it]"
     ]
    },
    {
     "name": "stdout",
     "output_type": "stream",
     "text": [
      "✅ AutoCAD restarted successfully!\n"
     ]
    },
    {
     "name": "stderr",
     "output_type": "stream",
     "text": [
      "Exploding texts...:  11%|█         | 149/1398 [17:53<2:18:49,  6.67s/it]"
     ]
    },
    {
     "name": "stdout",
     "output_type": "stream",
     "text": [
      "🔄 Restarting AutoCAD to refresh memory...\n"
     ]
    },
    {
     "name": "stderr",
     "output_type": "stream",
     "text": [
      "Exploding texts...:  11%|█         | 150/1398 [18:15<3:57:23, 11.41s/it]"
     ]
    },
    {
     "name": "stdout",
     "output_type": "stream",
     "text": [
      "✅ AutoCAD restarted successfully!\n"
     ]
    },
    {
     "name": "stderr",
     "output_type": "stream",
     "text": [
      "Exploding texts...:  14%|█▍        | 199/1398 [23:54<2:14:27,  6.73s/it]"
     ]
    },
    {
     "name": "stdout",
     "output_type": "stream",
     "text": [
      "🔄 Restarting AutoCAD to refresh memory...\n"
     ]
    },
    {
     "name": "stderr",
     "output_type": "stream",
     "text": [
      "Exploding texts...:  14%|█▍        | 200/1398 [24:17<3:52:56, 11.67s/it]"
     ]
    },
    {
     "name": "stdout",
     "output_type": "stream",
     "text": [
      "✅ AutoCAD restarted successfully!\n"
     ]
    },
    {
     "name": "stderr",
     "output_type": "stream",
     "text": [
      "Exploding texts...:  18%|█▊        | 249/1398 [29:46<1:54:50,  6.00s/it]"
     ]
    },
    {
     "name": "stdout",
     "output_type": "stream",
     "text": [
      "🔄 Restarting AutoCAD to refresh memory...\n"
     ]
    },
    {
     "name": "stderr",
     "output_type": "stream",
     "text": [
      "Exploding texts...:  18%|█▊        | 250/1398 [30:08<3:26:38, 10.80s/it]"
     ]
    },
    {
     "name": "stdout",
     "output_type": "stream",
     "text": [
      "✅ AutoCAD restarted successfully!\n"
     ]
    },
    {
     "name": "stderr",
     "output_type": "stream",
     "text": [
      "Exploding texts...:  21%|██▏       | 299/1398 [35:48<2:00:32,  6.58s/it]"
     ]
    },
    {
     "name": "stdout",
     "output_type": "stream",
     "text": [
      "🔄 Restarting AutoCAD to refresh memory...\n"
     ]
    },
    {
     "name": "stderr",
     "output_type": "stream",
     "text": [
      "Exploding texts...:  21%|██▏       | 300/1398 [36:10<3:27:55, 11.36s/it]"
     ]
    },
    {
     "name": "stdout",
     "output_type": "stream",
     "text": [
      "✅ AutoCAD restarted successfully!\n"
     ]
    },
    {
     "name": "stderr",
     "output_type": "stream",
     "text": [
      "Exploding texts...:  25%|██▍       | 349/1398 [41:59<2:13:29,  7.64s/it]"
     ]
    },
    {
     "name": "stdout",
     "output_type": "stream",
     "text": [
      "🔄 Restarting AutoCAD to refresh memory...\n"
     ]
    },
    {
     "name": "stderr",
     "output_type": "stream",
     "text": [
      "Exploding texts...:  25%|██▌       | 350/1398 [42:23<3:38:12, 12.49s/it]"
     ]
    },
    {
     "name": "stdout",
     "output_type": "stream",
     "text": [
      "✅ AutoCAD restarted successfully!\n"
     ]
    },
    {
     "name": "stderr",
     "output_type": "stream",
     "text": [
      "Exploding texts...:  29%|██▊       | 399/1398 [48:32<2:25:39,  8.75s/it]"
     ]
    },
    {
     "name": "stdout",
     "output_type": "stream",
     "text": [
      "🔄 Restarting AutoCAD to refresh memory...\n"
     ]
    },
    {
     "name": "stderr",
     "output_type": "stream",
     "text": [
      "Exploding texts...:  29%|██▊       | 400/1398 [48:55<3:38:01, 13.11s/it]"
     ]
    },
    {
     "name": "stdout",
     "output_type": "stream",
     "text": [
      "✅ AutoCAD restarted successfully!\n"
     ]
    },
    {
     "name": "stderr",
     "output_type": "stream",
     "text": [
      "Exploding texts...:  32%|███▏      | 449/1398 [55:00<2:10:53,  8.28s/it]"
     ]
    },
    {
     "name": "stdout",
     "output_type": "stream",
     "text": [
      "🔄 Restarting AutoCAD to refresh memory...\n"
     ]
    },
    {
     "name": "stderr",
     "output_type": "stream",
     "text": [
      "Exploding texts...:  32%|███▏      | 450/1398 [55:24<3:26:47, 13.09s/it]"
     ]
    },
    {
     "name": "stdout",
     "output_type": "stream",
     "text": [
      "✅ AutoCAD restarted successfully!\n"
     ]
    },
    {
     "name": "stderr",
     "output_type": "stream",
     "text": [
      "Exploding texts...:  36%|███▌      | 499/1398 [1:01:03<1:34:54,  6.33s/it]"
     ]
    },
    {
     "name": "stdout",
     "output_type": "stream",
     "text": [
      "🔄 Restarting AutoCAD to refresh memory...\n"
     ]
    },
    {
     "name": "stderr",
     "output_type": "stream",
     "text": [
      "Exploding texts...:  36%|███▌      | 500/1398 [1:01:25<2:47:12, 11.17s/it]"
     ]
    },
    {
     "name": "stdout",
     "output_type": "stream",
     "text": [
      "✅ AutoCAD restarted successfully!\n"
     ]
    },
    {
     "name": "stderr",
     "output_type": "stream",
     "text": [
      "Exploding texts...:  39%|███▉      | 549/1398 [1:07:07<1:54:22,  8.08s/it]"
     ]
    },
    {
     "name": "stdout",
     "output_type": "stream",
     "text": [
      "🔄 Restarting AutoCAD to refresh memory...\n"
     ]
    },
    {
     "name": "stderr",
     "output_type": "stream",
     "text": [
      "Exploding texts...:  39%|███▉      | 550/1398 [1:07:31<3:03:29, 12.98s/it]"
     ]
    },
    {
     "name": "stdout",
     "output_type": "stream",
     "text": [
      "✅ AutoCAD restarted successfully!\n"
     ]
    },
    {
     "name": "stderr",
     "output_type": "stream",
     "text": [
      "Exploding texts...:  43%|████▎     | 599/1398 [1:13:25<1:35:35,  7.18s/it]"
     ]
    },
    {
     "name": "stdout",
     "output_type": "stream",
     "text": [
      "🔄 Restarting AutoCAD to refresh memory...\n"
     ]
    },
    {
     "name": "stderr",
     "output_type": "stream",
     "text": [
      "Exploding texts...:  43%|████▎     | 600/1398 [1:13:48<2:39:45, 12.01s/it]"
     ]
    },
    {
     "name": "stdout",
     "output_type": "stream",
     "text": [
      "✅ AutoCAD restarted successfully!\n"
     ]
    },
    {
     "name": "stderr",
     "output_type": "stream",
     "text": [
      "Exploding texts...:  46%|████▋     | 649/1398 [1:19:27<1:25:50,  6.88s/it]"
     ]
    },
    {
     "name": "stdout",
     "output_type": "stream",
     "text": [
      "🔄 Restarting AutoCAD to refresh memory...\n"
     ]
    },
    {
     "name": "stderr",
     "output_type": "stream",
     "text": [
      "Exploding texts...:  46%|████▋     | 650/1398 [1:19:50<2:26:00, 11.71s/it]"
     ]
    },
    {
     "name": "stdout",
     "output_type": "stream",
     "text": [
      "✅ AutoCAD restarted successfully!\n"
     ]
    },
    {
     "name": "stderr",
     "output_type": "stream",
     "text": [
      "Exploding texts...:  50%|█████     | 699/1398 [1:25:04<1:08:55,  5.92s/it]"
     ]
    },
    {
     "name": "stdout",
     "output_type": "stream",
     "text": [
      "🔄 Restarting AutoCAD to refresh memory...\n"
     ]
    },
    {
     "name": "stderr",
     "output_type": "stream",
     "text": [
      "Exploding texts...:  50%|█████     | 700/1398 [1:25:26<2:05:10, 10.76s/it]"
     ]
    },
    {
     "name": "stdout",
     "output_type": "stream",
     "text": [
      "✅ AutoCAD restarted successfully!\n"
     ]
    },
    {
     "name": "stderr",
     "output_type": "stream",
     "text": [
      "Exploding texts...:  54%|█████▎    | 749/1398 [1:30:14<1:03:47,  5.90s/it]"
     ]
    },
    {
     "name": "stdout",
     "output_type": "stream",
     "text": [
      "🔄 Restarting AutoCAD to refresh memory...\n"
     ]
    },
    {
     "name": "stderr",
     "output_type": "stream",
     "text": [
      "Exploding texts...:  54%|█████▎    | 750/1398 [1:30:36<1:55:55, 10.73s/it]"
     ]
    },
    {
     "name": "stdout",
     "output_type": "stream",
     "text": [
      "✅ AutoCAD restarted successfully!\n"
     ]
    },
    {
     "name": "stderr",
     "output_type": "stream",
     "text": [
      "Exploding texts...:  57%|█████▋    | 799/1398 [1:35:23<58:33,  5.87s/it]  "
     ]
    },
    {
     "name": "stdout",
     "output_type": "stream",
     "text": [
      "🔄 Restarting AutoCAD to refresh memory...\n"
     ]
    },
    {
     "name": "stderr",
     "output_type": "stream",
     "text": [
      "Exploding texts...:  57%|█████▋    | 800/1398 [1:35:45<1:46:12, 10.66s/it]"
     ]
    },
    {
     "name": "stdout",
     "output_type": "stream",
     "text": [
      "✅ AutoCAD restarted successfully!\n"
     ]
    },
    {
     "name": "stderr",
     "output_type": "stream",
     "text": [
      "Exploding texts...:  61%|██████    | 849/1398 [1:40:31<53:18,  5.83s/it]  "
     ]
    },
    {
     "name": "stdout",
     "output_type": "stream",
     "text": [
      "🔄 Restarting AutoCAD to refresh memory...\n"
     ]
    },
    {
     "name": "stderr",
     "output_type": "stream",
     "text": [
      "Exploding texts...:  61%|██████    | 850/1398 [1:40:53<1:37:29, 10.67s/it]"
     ]
    },
    {
     "name": "stdout",
     "output_type": "stream",
     "text": [
      "✅ AutoCAD restarted successfully!\n"
     ]
    },
    {
     "name": "stderr",
     "output_type": "stream",
     "text": [
      "Exploding texts...:  64%|██████▍   | 899/1398 [1:45:41<48:37,  5.85s/it]  "
     ]
    },
    {
     "name": "stdout",
     "output_type": "stream",
     "text": [
      "🔄 Restarting AutoCAD to refresh memory...\n"
     ]
    },
    {
     "name": "stderr",
     "output_type": "stream",
     "text": [
      "Exploding texts...:  64%|██████▍   | 900/1398 [1:46:03<1:28:38, 10.68s/it]"
     ]
    },
    {
     "name": "stdout",
     "output_type": "stream",
     "text": [
      "✅ AutoCAD restarted successfully!\n"
     ]
    },
    {
     "name": "stderr",
     "output_type": "stream",
     "text": [
      "Exploding texts...:  68%|██████▊   | 949/1398 [1:50:50<43:42,  5.84s/it]  "
     ]
    },
    {
     "name": "stdout",
     "output_type": "stream",
     "text": [
      "🔄 Restarting AutoCAD to refresh memory...\n"
     ]
    },
    {
     "name": "stderr",
     "output_type": "stream",
     "text": [
      "Exploding texts...:  68%|██████▊   | 950/1398 [1:51:12<1:19:26, 10.64s/it]"
     ]
    },
    {
     "name": "stdout",
     "output_type": "stream",
     "text": [
      "✅ AutoCAD restarted successfully!\n"
     ]
    },
    {
     "name": "stderr",
     "output_type": "stream",
     "text": [
      "Exploding texts...:  71%|███████▏  | 999/1398 [1:55:59<38:55,  5.85s/it]  "
     ]
    },
    {
     "name": "stdout",
     "output_type": "stream",
     "text": [
      "🔄 Restarting AutoCAD to refresh memory...\n"
     ]
    },
    {
     "name": "stderr",
     "output_type": "stream",
     "text": [
      "Exploding texts...:  72%|███████▏  | 1000/1398 [1:56:21<1:10:38, 10.65s/it]"
     ]
    },
    {
     "name": "stdout",
     "output_type": "stream",
     "text": [
      "✅ AutoCAD restarted successfully!\n"
     ]
    },
    {
     "name": "stderr",
     "output_type": "stream",
     "text": [
      "Exploding texts...:  75%|███████▌  | 1049/1398 [2:01:09<34:01,  5.85s/it]  "
     ]
    },
    {
     "name": "stdout",
     "output_type": "stream",
     "text": [
      "🔄 Restarting AutoCAD to refresh memory...\n"
     ]
    },
    {
     "name": "stderr",
     "output_type": "stream",
     "text": [
      "Exploding texts...:  75%|███████▌  | 1050/1398 [2:01:31<1:01:59, 10.69s/it]"
     ]
    },
    {
     "name": "stdout",
     "output_type": "stream",
     "text": [
      "✅ AutoCAD restarted successfully!\n"
     ]
    },
    {
     "name": "stderr",
     "output_type": "stream",
     "text": [
      "Exploding texts...:  79%|███████▊  | 1099/1398 [2:06:17<29:08,  5.85s/it]  "
     ]
    },
    {
     "name": "stdout",
     "output_type": "stream",
     "text": [
      "🔄 Restarting AutoCAD to refresh memory...\n"
     ]
    },
    {
     "name": "stderr",
     "output_type": "stream",
     "text": [
      "Exploding texts...:  79%|███████▊  | 1100/1398 [2:06:39<53:01, 10.68s/it]"
     ]
    },
    {
     "name": "stdout",
     "output_type": "stream",
     "text": [
      "✅ AutoCAD restarted successfully!\n"
     ]
    },
    {
     "name": "stderr",
     "output_type": "stream",
     "text": [
      "Exploding texts...:  82%|████████▏ | 1149/1398 [2:11:26<24:14,  5.84s/it]"
     ]
    },
    {
     "name": "stdout",
     "output_type": "stream",
     "text": [
      "🔄 Restarting AutoCAD to refresh memory...\n"
     ]
    },
    {
     "name": "stderr",
     "output_type": "stream",
     "text": [
      "Exploding texts...:  82%|████████▏ | 1150/1398 [2:11:48<44:04, 10.66s/it]"
     ]
    },
    {
     "name": "stdout",
     "output_type": "stream",
     "text": [
      "✅ AutoCAD restarted successfully!\n"
     ]
    },
    {
     "name": "stderr",
     "output_type": "stream",
     "text": [
      "Exploding texts...:  86%|████████▌ | 1199/1398 [2:16:36<19:27,  5.87s/it]"
     ]
    },
    {
     "name": "stdout",
     "output_type": "stream",
     "text": [
      "🔄 Restarting AutoCAD to refresh memory...\n"
     ]
    },
    {
     "name": "stderr",
     "output_type": "stream",
     "text": [
      "Exploding texts...:  86%|████████▌ | 1200/1398 [2:16:58<35:20, 10.71s/it]"
     ]
    },
    {
     "name": "stdout",
     "output_type": "stream",
     "text": [
      "✅ AutoCAD restarted successfully!\n"
     ]
    },
    {
     "name": "stderr",
     "output_type": "stream",
     "text": [
      "Exploding texts...:  89%|████████▉ | 1249/1398 [2:21:45<14:25,  5.81s/it]"
     ]
    },
    {
     "name": "stdout",
     "output_type": "stream",
     "text": [
      "🔄 Restarting AutoCAD to refresh memory...\n"
     ]
    },
    {
     "name": "stderr",
     "output_type": "stream",
     "text": [
      "Exploding texts...:  89%|████████▉ | 1250/1398 [2:22:07<26:15, 10.65s/it]"
     ]
    },
    {
     "name": "stdout",
     "output_type": "stream",
     "text": [
      "✅ AutoCAD restarted successfully!\n"
     ]
    },
    {
     "name": "stderr",
     "output_type": "stream",
     "text": [
      "Exploding texts...:  93%|█████████▎| 1299/1398 [2:26:55<09:40,  5.86s/it]"
     ]
    },
    {
     "name": "stdout",
     "output_type": "stream",
     "text": [
      "🔄 Restarting AutoCAD to refresh memory...\n"
     ]
    },
    {
     "name": "stderr",
     "output_type": "stream",
     "text": [
      "Exploding texts...:  93%|█████████▎| 1300/1398 [2:27:17<17:27, 10.69s/it]"
     ]
    },
    {
     "name": "stdout",
     "output_type": "stream",
     "text": [
      "✅ AutoCAD restarted successfully!\n"
     ]
    },
    {
     "name": "stderr",
     "output_type": "stream",
     "text": [
      "Exploding texts...:  96%|█████████▋| 1349/1398 [2:32:04<04:46,  5.85s/it]"
     ]
    },
    {
     "name": "stdout",
     "output_type": "stream",
     "text": [
      "🔄 Restarting AutoCAD to refresh memory...\n"
     ]
    },
    {
     "name": "stderr",
     "output_type": "stream",
     "text": [
      "Exploding texts...:  97%|█████████▋| 1350/1398 [2:32:26<08:31, 10.66s/it]"
     ]
    },
    {
     "name": "stdout",
     "output_type": "stream",
     "text": [
      "✅ AutoCAD restarted successfully!\n"
     ]
    },
    {
     "name": "stderr",
     "output_type": "stream",
     "text": [
      "Exploding texts...: 100%|██████████| 1398/1398 [2:37:08<00:00,  6.74s/it]"
     ]
    },
    {
     "name": "stdout",
     "output_type": "stream",
     "text": [
      "✅ All DXF texts exploded suscesfuly.\n"
     ]
    },
    {
     "name": "stderr",
     "output_type": "stream",
     "text": [
      "\n"
     ]
    }
   ],
   "source": [
    "import time\n",
    "from tqdm import tqdm\n",
    "import win32com.client\n",
    "\n",
    "# Start AutoCAD\n",
    "acad = win32com.client.Dispatch(\"AutoCAD.Application\")\n",
    "acad.Visible = True # optional: run in background\n",
    "time.sleep(5)  # Give time for AutoCAD to fully open\n",
    "\n",
    "# Restart settings\n",
    "restart_every = 50  # restart AutoCAD every 50 DXFs\n",
    "counter = 0  # counter for processed DXFs\n",
    "\n",
    "# Timing Settings\n",
    "open_delay = 1.0\n",
    "activate_delay = 0.5\n",
    "command_delay = 2\n",
    "save_delay = 1.0\n",
    "close_delay = 0.2\n",
    "\n",
    "commandLine = [\n",
    "        'TXTEXP',\n",
    "        'ALL',\n",
    "        '',\n",
    "        'EXPLODE',\n",
    "        'ALL',\n",
    "        ''\n",
    "    ]\n",
    "\n",
    "command = commandLine[0] + ' ' + '\\n'.join(commandLine[1:]) + '\\n'\n",
    "\n",
    "for file in tqdm(dxf_files, desc=\"Exploding texts...\"):    \n",
    "    # Open DXF\n",
    "    doc = acad.Documents.Open(file); time.sleep(open_delay)\n",
    "    doc.Activate(); time.sleep(activate_delay)\n",
    "    modelSpace = doc.ModelSpace\n",
    "    \n",
    "    # Send command to explode\n",
    "    acad.ActiveDocument.SendCommand(command)\n",
    "    time.sleep(command_delay)\n",
    "\n",
    "    # Save new version\n",
    "    fileName = os.path.basename(file)\n",
    "    savePath = os.path.join(output_folder, f\"{fileName}\")\n",
    "    doc.SaveAs(savePath)\n",
    "    time.sleep(save_delay)\n",
    "    doc.Close(False)\n",
    "    time.sleep(close_delay)\n",
    "    \n",
    "    # Increment counter\n",
    "    counter += 1\n",
    "    \n",
    "    if counter % restart_every == 0:\n",
    "        print(\"🔄 Restarting AutoCAD to refresh memory...\")\n",
    "        \n",
    "        for doc in acad.Documents:\n",
    "            try: doc.Close(False); time.sleep(close_delay)\n",
    "            except: pass\n",
    "        \n",
    "        # Close current AutoCAD\n",
    "        acad.Quit()\n",
    "        time.sleep(3)  # Wait a bit for AutoCAD to close\n",
    "        \n",
    "        # Restart AutoCAD\n",
    "        acad = win32com.client.Dispatch(\"AutoCAD.Application\")\n",
    "        acad.Visible = True\n",
    "        time.sleep(5)  # Give time for AutoCAD to fully open\n",
    "        print(\"✅ AutoCAD restarted successfully!\")\n",
    "\n",
    "print(\"✅ All DXF texts exploded suscesfuly.\")"
   ]
  },
  {
   "cell_type": "code",
   "execution_count": null,
   "id": "ec1857cc",
   "metadata": {},
   "outputs": [],
   "source": []
  }
 ],
 "metadata": {
  "kernelspec": {
   "display_name": "dl_torch",
   "language": "python",
   "name": "python3"
  },
  "language_info": {
   "codemirror_mode": {
    "name": "ipython",
    "version": 3
   },
   "file_extension": ".py",
   "mimetype": "text/x-python",
   "name": "python",
   "nbconvert_exporter": "python",
   "pygments_lexer": "ipython3",
   "version": "3.10.16"
  }
 },
 "nbformat": 4,
 "nbformat_minor": 5
}
