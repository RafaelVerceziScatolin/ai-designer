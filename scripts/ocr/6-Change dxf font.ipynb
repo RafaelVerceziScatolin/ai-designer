{
 "cells": [
  {
   "cell_type": "code",
   "execution_count": 1,
   "id": "cd25b132",
   "metadata": {},
   "outputs": [
    {
     "name": "stdout",
     "output_type": "stream",
     "text": [
      "Found 113 DXF files. Processing...\n"
     ]
    }
   ],
   "source": [
    "import os\n",
    "\n",
    "#dxf_folder = r\"C:\\Users\\rafael.scatolin\\OneDrive - Orguel\\ai_designer_database\\dxf files\\training\"\n",
    "dxf_folder = r\"C:\\Users\\Rafael\\Desktop\\training_dataset\\dxf files\\training\\1-temp\"\n",
    "dxf_files = [os.path.join(dxf_folder, file) for file in os.listdir(dxf_folder) if file.endswith('.dxf')]\n",
    "\n",
    "output_folder = r\"C:\\Users\\Rafael\\Desktop\\training_dataset\\dxf files\\training\\2-converted\"\n",
    "\n",
    "print(f\"Found {len(dxf_files)} DXF files. Processing...\")"
   ]
  },
  {
   "cell_type": "code",
   "execution_count": 2,
   "id": "a85b0286",
   "metadata": {},
   "outputs": [
    {
     "name": "stderr",
     "output_type": "stream",
     "text": [
      "Processing:   7%|▋         | 8/113 [04:58<1:01:30, 35.14s/it]"
     ]
    },
    {
     "name": "stdout",
     "output_type": "stream",
     "text": [
      "🔄 Restarting AutoCAD to refresh memory...\n",
      "✅ AutoCAD restarted successfully!\n"
     ]
    },
    {
     "name": "stderr",
     "output_type": "stream",
     "text": [
      "Processing:  14%|█▍        | 16/113 [09:46<58:00, 35.89s/it]  "
     ]
    },
    {
     "name": "stdout",
     "output_type": "stream",
     "text": [
      "🔄 Restarting AutoCAD to refresh memory...\n",
      "✅ AutoCAD restarted successfully!\n"
     ]
    },
    {
     "name": "stderr",
     "output_type": "stream",
     "text": [
      "Processing:  21%|██        | 24/113 [14:56<57:06, 38.50s/it]  "
     ]
    },
    {
     "name": "stdout",
     "output_type": "stream",
     "text": [
      "🔄 Restarting AutoCAD to refresh memory...\n"
     ]
    },
    {
     "name": "stderr",
     "output_type": "stream",
     "text": [
      "Processing:  22%|██▏       | 25/113 [16:00<1:07:41, 46.16s/it]"
     ]
    },
    {
     "name": "stdout",
     "output_type": "stream",
     "text": [
      "✅ AutoCAD restarted successfully!\n"
     ]
    },
    {
     "name": "stderr",
     "output_type": "stream",
     "text": [
      "Processing:  29%|██▉       | 33/113 [20:37<48:53, 36.67s/it]  "
     ]
    },
    {
     "name": "stdout",
     "output_type": "stream",
     "text": [
      "🔄 Restarting AutoCAD to refresh memory...\n",
      "✅ AutoCAD restarted successfully!\n"
     ]
    },
    {
     "name": "stderr",
     "output_type": "stream",
     "text": [
      "Processing:  36%|███▋      | 41/113 [25:22<38:24, 32.00s/it]"
     ]
    },
    {
     "name": "stdout",
     "output_type": "stream",
     "text": [
      "🔄 Restarting AutoCAD to refresh memory...\n",
      "✅ AutoCAD restarted successfully!\n"
     ]
    },
    {
     "name": "stderr",
     "output_type": "stream",
     "text": [
      "Processing:  43%|████▎     | 49/113 [30:04<35:14, 33.04s/it]"
     ]
    },
    {
     "name": "stdout",
     "output_type": "stream",
     "text": [
      "🔄 Restarting AutoCAD to refresh memory...\n"
     ]
    },
    {
     "name": "stderr",
     "output_type": "stream",
     "text": [
      "Processing:  44%|████▍     | 50/113 [30:53<39:46, 37.89s/it]"
     ]
    },
    {
     "name": "stdout",
     "output_type": "stream",
     "text": [
      "✅ AutoCAD restarted successfully!\n"
     ]
    },
    {
     "name": "stderr",
     "output_type": "stream",
     "text": [
      "Processing:  51%|█████▏    | 58/113 [36:11<34:39, 37.82s/it]"
     ]
    },
    {
     "name": "stdout",
     "output_type": "stream",
     "text": [
      "🔄 Restarting AutoCAD to refresh memory...\n",
      "✅ AutoCAD restarted successfully!\n"
     ]
    },
    {
     "name": "stderr",
     "output_type": "stream",
     "text": [
      "Processing:  58%|█████▊    | 66/113 [41:13<31:35, 40.34s/it]"
     ]
    },
    {
     "name": "stdout",
     "output_type": "stream",
     "text": [
      "🔄 Restarting AutoCAD to refresh memory...\n",
      "✅ AutoCAD restarted successfully!\n"
     ]
    },
    {
     "name": "stderr",
     "output_type": "stream",
     "text": [
      "Processing:  65%|██████▌   | 74/113 [46:39<24:59, 38.45s/it]"
     ]
    },
    {
     "name": "stdout",
     "output_type": "stream",
     "text": [
      "🔄 Restarting AutoCAD to refresh memory...\n"
     ]
    },
    {
     "name": "stderr",
     "output_type": "stream",
     "text": [
      "Processing:  66%|██████▋   | 75/113 [47:37<28:13, 44.58s/it]"
     ]
    },
    {
     "name": "stdout",
     "output_type": "stream",
     "text": [
      "✅ AutoCAD restarted successfully!\n"
     ]
    },
    {
     "name": "stderr",
     "output_type": "stream",
     "text": [
      "Processing:  73%|███████▎  | 83/113 [51:55<16:55, 33.85s/it]"
     ]
    },
    {
     "name": "stdout",
     "output_type": "stream",
     "text": [
      "🔄 Restarting AutoCAD to refresh memory...\n",
      "✅ AutoCAD restarted successfully!\n"
     ]
    },
    {
     "name": "stderr",
     "output_type": "stream",
     "text": [
      "Processing:  81%|████████  | 91/113 [56:29<11:38, 31.74s/it]"
     ]
    },
    {
     "name": "stdout",
     "output_type": "stream",
     "text": [
      "🔄 Restarting AutoCAD to refresh memory...\n",
      "✅ AutoCAD restarted successfully!\n"
     ]
    },
    {
     "name": "stderr",
     "output_type": "stream",
     "text": [
      "Processing:  88%|████████▊ | 99/113 [1:01:52<08:17, 35.53s/it]"
     ]
    },
    {
     "name": "stdout",
     "output_type": "stream",
     "text": [
      "🔄 Restarting AutoCAD to refresh memory...\n"
     ]
    },
    {
     "name": "stderr",
     "output_type": "stream",
     "text": [
      "Processing:  88%|████████▊ | 100/113 [1:02:45<08:50, 40.79s/it]"
     ]
    },
    {
     "name": "stdout",
     "output_type": "stream",
     "text": [
      "✅ AutoCAD restarted successfully!\n"
     ]
    },
    {
     "name": "stderr",
     "output_type": "stream",
     "text": [
      "Processing:  96%|█████████▌| 108/113 [1:07:45<02:52, 34.51s/it]"
     ]
    },
    {
     "name": "stdout",
     "output_type": "stream",
     "text": [
      "🔄 Restarting AutoCAD to refresh memory...\n",
      "✅ AutoCAD restarted successfully!\n"
     ]
    },
    {
     "name": "stderr",
     "output_type": "stream",
     "text": [
      "Processing: 100%|██████████| 113/113 [1:10:28<00:00, 37.42s/it]"
     ]
    },
    {
     "name": "stdout",
     "output_type": "stream",
     "text": [
      "✅ All DXF files converted with multiple fonts and width factors.\n"
     ]
    },
    {
     "name": "stderr",
     "output_type": "stream",
     "text": [
      "\n"
     ]
    }
   ],
   "source": [
    "import sys\n",
    "import time\n",
    "from tqdm import tqdm\n",
    "import win32com.client\n",
    "from pathlib import Path\n",
    "sys.path.append(str(Path.home() / \"orguel_ml\"))\n",
    "from orguel_ml.ocr import character_set, width_factors\n",
    "\n",
    "# Start AutoCAD\n",
    "acad = win32com.client.Dispatch(\"AutoCAD.Application\")\n",
    "acad.Visible = True # optional: run in background\n",
    "time.sleep(5)  # Give time for AutoCAD to fully open\n",
    "\n",
    "# Restart settings\n",
    "restart_every = 50  # restart AutoCAD every 50 DXFs\n",
    "counter = 0  # counter for processed DXFs\n",
    "\n",
    "# Timing Settings\n",
    "open_delay = 1.0\n",
    "activate_delay = 0.5\n",
    "command_delay = 0.25\n",
    "save_delay = 1.0\n",
    "close_delay = 0.2\n",
    "\n",
    "for file in tqdm(dxf_files, desc=\"Processing\"):\n",
    "    fileName = os.path.basename(file)\n",
    "    baseName, _ = os.path.splitext(fileName)\n",
    "    \n",
    "    for fontName, fontFile in character_set[\"font\"][\"type\"].items():\n",
    "        \n",
    "        commandLine = [\n",
    "            '-STYLE',\n",
    "            'Standard',\n",
    "            f'{fontName}',\n",
    "            '0',\n",
    "            '1',\n",
    "            '0',\n",
    "            'N',\n",
    "            'N',\n",
    "            'N'\n",
    "        ]\n",
    "        \n",
    "        command = commandLine[0] + ' ' + '\\n'.join(commandLine[1:]) + '\\n'\n",
    "        \n",
    "        for widthFactor in width_factors:\n",
    "            # Open DXF\n",
    "            doc = acad.Documents.Open(file); time.sleep(open_delay)\n",
    "            doc.Activate(); time.sleep(activate_delay)\n",
    "            modelSpace = doc.ModelSpace\n",
    "            \n",
    "            # Send Style Update\n",
    "            acad.ActiveDocument.SendCommand(command)\n",
    "            time.sleep(command_delay)\n",
    "            \n",
    "            # Update all TEXT entities\n",
    "            for text in modelSpace:\n",
    "                if text.ObjectName != \"AcDbText\": continue\n",
    "                text.StyleName = \"Standard\"\n",
    "            \n",
    "            # Apply WidthFactor\n",
    "            acad.ActiveDocument.SendCommand(f'(SetWidthFactor {widthFactor})\\n')\n",
    "            time.sleep(command_delay)\n",
    "            \n",
    "            # Save new version\n",
    "            suffix = f\"_{fontName}__{widthFactor:.2f}\".replace('.', '_')\n",
    "            savePath = os.path.join(output_folder, f\"{baseName}{suffix}.dxf\")\n",
    "            doc.SaveAs(savePath)\n",
    "            time.sleep(save_delay)\n",
    "            doc.Close(False)\n",
    "            time.sleep(close_delay)\n",
    "            \n",
    "            # Increment counter\n",
    "            counter += 1\n",
    "            \n",
    "            if counter % restart_every == 0:\n",
    "                print(\"🔄 Restarting AutoCAD to refresh memory...\")\n",
    "                \n",
    "                for doc in acad.Documents:\n",
    "                    try: doc.Close(False); time.sleep(close_delay)\n",
    "                    except: pass\n",
    "                \n",
    "                # Close current AutoCAD\n",
    "                acad.Quit()\n",
    "                time.sleep(3)  # Wait a bit for AutoCAD to close\n",
    "                \n",
    "                # Restart AutoCAD\n",
    "                acad = win32com.client.Dispatch(\"AutoCAD.Application\")\n",
    "                acad.Visible = True\n",
    "                time.sleep(5)  # Give time for AutoCAD to fully open\n",
    "                print(\"✅ AutoCAD restarted successfully!\")\n",
    "            \n",
    "print(\"✅ All DXF files converted with multiple fonts and width factors.\")"
   ]
  },
  {
   "cell_type": "code",
   "execution_count": null,
   "id": "2e36d117",
   "metadata": {},
   "outputs": [],
   "source": []
  }
 ],
 "metadata": {
  "kernelspec": {
   "display_name": "dl_torch",
   "language": "python",
   "name": "python3"
  },
  "language_info": {
   "codemirror_mode": {
    "name": "ipython",
    "version": 3
   },
   "file_extension": ".py",
   "mimetype": "text/x-python",
   "name": "python",
   "nbconvert_exporter": "python",
   "pygments_lexer": "ipython3",
   "version": "3.10.16"
  }
 },
 "nbformat": 4,
 "nbformat_minor": 5
}
