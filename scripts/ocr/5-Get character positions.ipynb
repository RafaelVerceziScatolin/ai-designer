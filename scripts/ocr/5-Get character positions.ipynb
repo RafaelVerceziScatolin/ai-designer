{
 "cells": [
  {
   "cell_type": "code",
   "execution_count": 1,
   "id": "a44c140b",
   "metadata": {},
   "outputs": [
    {
     "name": "stdout",
     "output_type": "stream",
     "text": [
      "Found 46 DXF files. Processing...\n",
      "➡️ Open Autocad before running the loop\n"
     ]
    }
   ],
   "source": [
    "import os\n",
    "\n",
    "#dxf_folder = r\"C:\\Users\\rafael.scatolin\\OneDrive - Orguel\\ai_designer_database\\dxf files\\training\"\n",
    "dxf_folder = r\"C:\\Users\\Rafael\\Desktop\\training_dataset\\dxf files\\training2\"\n",
    "dxf_files = [os.path.join(dxf_folder, file) for file in os.listdir(dxf_folder) if file.endswith('.dxf')]\n",
    "\n",
    "print(f\"Found {len(dxf_files)} DXF files. Processing...\")\n",
    "print(f\"➡️ Open Autocad before running the loop\")"
   ]
  },
  {
   "cell_type": "code",
   "execution_count": 2,
   "id": "3e2dc2e9",
   "metadata": {},
   "outputs": [
    {
     "name": "stderr",
     "output_type": "stream",
     "text": [
      "Building character position dataframe: 100%|██████████| 46/46 [03:24<00:00,  4.45s/it]\n"
     ]
    }
   ],
   "source": [
    "from typing import List, Dict\n",
    "from pathlib import Path\n",
    "import math\n",
    "import time\n",
    "import pickle\n",
    "from tqdm import tqdm\n",
    "import win32com.client\n",
    "from shapely.affinity import scale, rotate, translate\n",
    "\n",
    "# ----------  load the reference metrics  ----------\n",
    "with open(str(Path.home()/\"orguel_ml\"/\"scripts\"/\"ocr\"/\"character_metrics.pkl\"), \"rb\") as f:\n",
    "    characterMetrics = pickle.load(f)\n",
    "\n",
    "acad = win32com.client.Dispatch(\"AutoCAD.Application\")\n",
    "acad.Visible = True # optional: run in background\n",
    "\n",
    "time.sleep(1) # Wait a moment to allow it to initialize\n",
    "\n",
    "positions: List[Dict] = []\n",
    "for file in tqdm(dxf_files, desc=\"Building character position dataframe\"):\n",
    "    doc = acad.Documents.Open(file)\n",
    "    modelSpace = doc.ModelSpace\n",
    "    \n",
    "    for text in modelSpace:\n",
    "        if text.ObjectName != \"AcDbText\": continue\n",
    "        \n",
    "        font = acad.ActiveDocument.TextStyles.Item(text.StyleName).FontFile.lower()\n",
    "        height = text.Height\n",
    "        widthFactor = getattr(text, \"WidthFactor\", 1.0)\n",
    "        rotation = text.Rotation\n",
    "        insertion_x, insertion_y, _ = text.InsertionPoint\n",
    "        \n",
    "        for character in text.TextString:\n",
    "            if character == \" \": continue\n",
    "            \n",
    "            # 1. look-up reference metrics (normalised to H=1)\n",
    "            metrics = characterMetrics[font][character]\n",
    "            \n",
    "            # 2. build the glyph’s bbox polygon (correct scaling)\n",
    "            bbox = metrics[\"bbox\"]\n",
    "            bbox = scale(bbox, xfact=height*widthFactor, yfact=height, origin=(0, 0))\n",
    "            bbox = rotate(bbox, rotation, origin=(0, 0), use_radians=True)\n",
    "            bbox = translate(bbox, xoff=insertion_x, yoff=insertion_y)\n",
    "            \n",
    "            # 3. save the row\n",
    "            positions.append(\n",
    "                {\n",
    "                    \"file\": file,\n",
    "                    \"character\": character,\n",
    "                    \"insertion\": (insertion_x, insertion_y),\n",
    "                    \"rotation\": rotation,\n",
    "                    \"height\": height,\n",
    "                    \"bbox\": bbox\n",
    "                }\n",
    "            )\n",
    "            \n",
    "            # 4. shift cursor for the next glyph\n",
    "            advance = metrics[\"width\"] * height * widthFactor\n",
    "            insertion_x += advance * math.cos(rotation)\n",
    "            insertion_y += advance * math.sin(rotation)\n",
    "    \n",
    "    doc.Close(False)\n",
    "    time.sleep(0.1)"
   ]
  },
  {
   "cell_type": "code",
   "execution_count": 3,
   "id": "45e25ccb",
   "metadata": {},
   "outputs": [
    {
     "name": "stdout",
     "output_type": "stream",
     "text": [
      "Labeled 20948 characters using AutoCAD COM.\n"
     ]
    }
   ],
   "source": [
    "import pandas\n",
    "\n",
    "# Convert to DataFrame\n",
    "dataframe = pandas.DataFrame(positions)\n",
    "dataframe.to_pickle(\"character_positions.pkl\")\n",
    "print(f\"Labeled {len(dataframe)} characters using AutoCAD COM.\")"
   ]
  },
  {
   "cell_type": "code",
   "execution_count": null,
   "id": "c23b8c24",
   "metadata": {},
   "outputs": [],
   "source": []
  }
 ],
 "metadata": {
  "kernelspec": {
   "display_name": "dl_torch",
   "language": "python",
   "name": "python3"
  },
  "language_info": {
   "codemirror_mode": {
    "name": "ipython",
    "version": 3
   },
   "file_extension": ".py",
   "mimetype": "text/x-python",
   "name": "python",
   "nbconvert_exporter": "python",
   "pygments_lexer": "ipython3",
   "version": "3.10.16"
  }
 },
 "nbformat": 4,
 "nbformat_minor": 5
}
