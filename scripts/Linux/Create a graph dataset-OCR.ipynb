{
 "cells": [
  {
   "cell_type": "code",
   "execution_count": 1,
   "id": "0d5cbfb9",
   "metadata": {},
   "outputs": [
    {
     "name": "stdout",
     "output_type": "stream",
     "text": [
      "Found 678 DXF files. Processing...\n",
      "Found 720 DXF files. Processing...\n"
     ]
    }
   ],
   "source": [
    "import os\n",
    "\n",
    "drawing_dxf_folder = \"/home/rafael/Área de trabalho/training/drawings\"\n",
    "character_dxf_folder = \"/home/rafael/Área de trabalho/training/characters\"\n",
    "drawing_dxf_files = [os.path.join(drawing_dxf_folder, file) for file in os.listdir(drawing_dxf_folder) if file.endswith('.dxf')]\n",
    "character_dxf_files = [os.path.join(character_dxf_folder, file) for file in os.listdir(character_dxf_folder) if file.endswith('.dxf')]\n",
    "\n",
    "print(f\"Found {len(drawing_dxf_files)} DXF files. Processing...\")\n",
    "print(f\"Found {len(character_dxf_files)} DXF files. Processing...\")"
   ]
  },
  {
   "cell_type": "code",
   "execution_count": null,
   "id": "909263ea",
   "metadata": {},
   "outputs": [
    {
     "name": "stderr",
     "output_type": "stream",
     "text": [
      "Creating graphs:   0%|          | 0/2 [00:00<?, ?it/s]"
     ]
    },
    {
     "name": "stdout",
     "output_type": "stream",
     "text": [
      "Processing: /home/rafael/Área de trabalho/training/drawings/78118-BILD-GOTIE-TIPO-REV00_Arial__0_80.dxf\n",
      "[DEBUG] Calling CreateGraph with: /home/rafael/Área de trabalho/training/drawings/78118-BILD-GOTIE-TIPO-REV00_Arial__0_80.dxf\n",
      "[DEBUG] Reading DXF file: /home/rafael/Área de trabalho/training/drawings/78118-BILD-GOTIE-TIPO-REV00_Arial__0_80.dxf\n",
      "[DEBUG] DXF read successful\n",
      "[DEBUG] Starting line collection...\n",
      "[DEBUG] Collected 12811 lines\n",
      "[DEBUG] Extracting geometry...\n",
      "[DEBUG] Finished building dataframe with 12811 rows\n",
      "[DEBUG] Running ParallelDetection...\n"
     ]
    }
   ],
   "source": [
    "import sys\n",
    "import pickle\n",
    "from pathlib import Path\n",
    "from itertools import product\n",
    "sys.path.append(str(Path.home() / \"orguel_ml\"))\n",
    "from orguel_ml.ocr import CreateGraphDataset#, rotations, scales\n",
    "\n",
    "rotations = [0]\n",
    "scales = [1.0]\n",
    "\n",
    "with open(str(Path.home()/\"orguel_ml\"/\"scripts\"/\"ocr\"/\"character_positions.pkl\"), \"rb\") as f:\n",
    "    character_positions = pickle.load(f)\n",
    "\n",
    "drawing_arguments = [\n",
    "    (file, character_positions, angle, 1.0, None)\n",
    "    for file in drawing_dxf_files[:1]\n",
    "    for angle in rotations\n",
    "]\n",
    "\n",
    "normalization_factor = 190.01587749482331\n",
    "\n",
    "character_arguments = [\n",
    "    (file, character_positions, angle, scale, normalization_factor)\n",
    "    for file in character_dxf_files[:1]\n",
    "    for angle, scale in product(rotations, scales)\n",
    "]\n",
    "\n",
    "arguments = drawing_arguments + character_arguments\n",
    "\n",
    "# Build dataset\n",
    "graph_dataset = CreateGraphDataset(arguments)\n",
    "\n",
    "print(f\"Number of graphs: {len(graph_dataset)}\")"
   ]
  },
  {
   "cell_type": "code",
   "execution_count": null,
   "id": "22c48298",
   "metadata": {},
   "outputs": [
    {
     "name": "stdout",
     "output_type": "stream",
     "text": [
      "Dataset saved to: /home/rafael/Área de trabalho/Linux/graph_dataset.pt\n"
     ]
    }
   ],
   "source": [
    "import torch\n",
    "\n",
    "# save the dataset\n",
    "save_path = \"/home/rafael/Área de trabalho/Linux/training/graph_dataset.pt\"\n",
    "torch.save(graph_dataset.graphs, save_path)\n",
    "\n",
    "print(f\"Dataset saved to: {save_path}\")"
   ]
  }
 ],
 "metadata": {
  "kernelspec": {
   "display_name": "dl_torch",
   "language": "python",
   "name": "python3"
  },
  "language_info": {
   "codemirror_mode": {
    "name": "ipython",
    "version": 3
   },
   "file_extension": ".py",
   "mimetype": "text/x-python",
   "name": "python",
   "nbconvert_exporter": "python",
   "pygments_lexer": "ipython3",
   "version": "3.10.16"
  }
 },
 "nbformat": 4,
 "nbformat_minor": 5
}
