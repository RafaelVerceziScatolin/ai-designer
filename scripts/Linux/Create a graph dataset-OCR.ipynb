{
 "cells": [
  {
   "cell_type": "code",
   "execution_count": null,
   "id": "0d5cbfb9",
   "metadata": {},
   "outputs": [],
   "source": [
    "import os\n",
    "\n",
    "drawing_dxf_folder = \"/home/rafael/Área de trabalho/Linux/training/drawings\"\n",
    "character_dxf_folder = \"/home/rafael/Área de trabalho/Linux/training/characters\"\n",
    "drawing_dxf_files = [os.path.join(drawing_dxf_folder, file) for file in os.listdir(drawing_dxf_folder) if file.endswith('.dxf')]\n",
    "character_dxf_files = [os.path.join(character_dxf_folder, file) for file in os.listdir(character_dxf_folder) if file.endswith('.dxf')]\n",
    "\n",
    "print(f\"Found {len(drawing_dxf_files)} DXF files. Processing...\")\n",
    "print(f\"Found {len(character_dxf_files)} DXF files. Processing...\")"
   ]
  },
  {
   "cell_type": "code",
   "execution_count": null,
   "id": "909263ea",
   "metadata": {},
   "outputs": [],
   "source": [
    "import sys\n",
    "import pickle\n",
    "from pathlib import Path\n",
    "from itertools import product\n",
    "sys.path.append(str(Path.home() / \"orguel_ml\"))\n",
    "from orguel_ml.ocr import CreateGraphDataset, rotations, scales\n",
    "\n",
    "with open(str(Path.home()/\"orguel_ml\"/\"scripts\"/\"ocr\"/\"character_positions.pkl\"), \"rb\") as f:\n",
    "    character_positions = pickle.load(f)\n",
    "\n",
    "drawing_arguments = [\n",
    "    (file, character_positions, angle, 1.0, None)\n",
    "    for file in drawing_dxf_files\n",
    "    for angle in rotations\n",
    "]\n",
    "\n",
    "normalization_factor = 190.01587749482331\n",
    "\n",
    "character_arguments = [\n",
    "    (file, character_positions, angle, scale, normalization_factor)\n",
    "    for file in character_dxf_files\n",
    "    for angle, scale in product(rotations, scales)\n",
    "]\n",
    "\n",
    "arguments = drawing_arguments + character_arguments\n",
    "\n",
    "# Build dataset\n",
    "graph_dataset = CreateGraphDataset(arguments)\n",
    "\n",
    "print(f\"Number of graphs: {len(graph_dataset)}\")"
   ]
  },
  {
   "cell_type": "code",
   "execution_count": null,
   "id": "22c48298",
   "metadata": {},
   "outputs": [
    {
     "name": "stdout",
     "output_type": "stream",
     "text": [
      "Dataset saved to: /home/rafael/Área de trabalho/Linux/graph_dataset.pt\n"
     ]
    }
   ],
   "source": [
    "import torch\n",
    "\n",
    "# save the dataset\n",
    "save_path = \"/home/rafael/Área de trabalho/Linux/graph_dataset.pt\"\n",
    "torch.save(graph_dataset.graphs, save_path)\n",
    "\n",
    "print(f\"Dataset saved to: {save_path}\")"
   ]
  }
 ],
 "metadata": {
  "kernelspec": {
   "display_name": "dl_torch",
   "language": "python",
   "name": "python3"
  },
  "language_info": {
   "codemirror_mode": {
    "name": "ipython",
    "version": 3
   },
   "file_extension": ".py",
   "mimetype": "text/x-python",
   "name": "python",
   "nbconvert_exporter": "python",
   "pygments_lexer": "ipython3",
   "version": "3.10.16"
  }
 },
 "nbformat": 4,
 "nbformat_minor": 5
}
