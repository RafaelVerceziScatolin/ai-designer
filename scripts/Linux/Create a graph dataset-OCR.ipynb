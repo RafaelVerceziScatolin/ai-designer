{
 "cells": [
  {
   "cell_type": "code",
   "execution_count": 1,
   "id": "0d5cbfb9",
   "metadata": {},
   "outputs": [
    {
     "name": "stdout",
     "output_type": "stream",
     "text": [
      "Found 620 DXF files. Processing...\n"
     ]
    }
   ],
   "source": [
    "import os\n",
    "\n",
    "#dxf_folder = r\"C:\\Users\\Rafael\\Desktop\\text_recognition\\DXF files\\training\"\n",
    "dxf_folder = \"/home/rafael/Área de trabalho/Linux/training\"\n",
    "dxf_files = [os.path.join(dxf_folder, file) for file in os.listdir(dxf_folder) if file.endswith('.dxf')]\n",
    "\n",
    "print(f\"Found {len(dxf_files)} DXF files. Processing...\")"
   ]
  },
  {
   "cell_type": "code",
   "execution_count": null,
   "id": "909263ea",
   "metadata": {},
   "outputs": [
    {
     "name": "stderr",
     "output_type": "stream",
     "text": [
      "Creating graphs: 100%|██████████| 620/620 [1:09:56<00:00,  6.77s/it]"
     ]
    },
    {
     "name": "stdout",
     "output_type": "stream",
     "text": [
      "Number of graphs: 620\n"
     ]
    },
    {
     "name": "stderr",
     "output_type": "stream",
     "text": [
      "\n"
     ]
    }
   ],
   "source": [
    "import sys\n",
    "#sys.path.append(\"D:\\orguel_ml_library\")\n",
    "sys.path.append(\"/media/rafael/HD/orguel_ml_library\")\n",
    "from orguel_ml import CreateGraphDataset\n",
    "from orguel_ml.ocr import CreateGraph\n",
    "\n",
    "# Build dataset\n",
    "graph_dataset = CreateGraphDataset(dxf_files, CreateGraph)\n",
    "\n",
    "print(f\"Number of graphs: {len(graph_dataset)}\")"
   ]
  },
  {
   "cell_type": "code",
   "execution_count": 3,
   "id": "22c48298",
   "metadata": {},
   "outputs": [
    {
     "name": "stdout",
     "output_type": "stream",
     "text": [
      "Dataset saved to: /home/rafael/Área de trabalho/Linux/graph_dataset.pt\n"
     ]
    }
   ],
   "source": [
    "import torch\n",
    "\n",
    "# save the dataset\n",
    "#save_path = r\"C:\\Users\\Rafael\\Desktop\\text_recognition\"\n",
    "save_path = \"/home/rafael/Área de trabalho/Linux/graph_dataset.pt\"\n",
    "torch.save(graph_dataset.graphs, save_path)\n",
    "\n",
    "print(f\"Dataset saved to: {save_path}\")"
   ]
  },
  {
   "cell_type": "code",
   "execution_count": null,
   "id": "d746e4dc",
   "metadata": {},
   "outputs": [],
   "source": []
  }
 ],
 "metadata": {
  "kernelspec": {
   "display_name": "dl_torch",
   "language": "python",
   "name": "python3"
  },
  "language_info": {
   "codemirror_mode": {
    "name": "ipython",
    "version": 3
   },
   "file_extension": ".py",
   "mimetype": "text/x-python",
   "name": "python",
   "nbconvert_exporter": "python",
   "pygments_lexer": "ipython3",
   "version": "3.10.16"
  }
 },
 "nbformat": 4,
 "nbformat_minor": 5
}
