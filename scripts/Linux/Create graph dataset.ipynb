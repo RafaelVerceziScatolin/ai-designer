{
 "cells": [
  {
   "cell_type": "code",
   "execution_count": 1,
   "id": "8422c28e",
   "metadata": {},
   "outputs": [
    {
     "name": "stdout",
     "output_type": "stream",
     "text": [
      "Total: 120 DXF files / OS: Linux\n"
     ]
    }
   ],
   "source": [
    "import os\n",
    "import torch\n",
    "from platform import system\n",
    "\n",
    "system = system()\n",
    "\n",
    "# Read the training folder\n",
    "if system=='Windows': training_folder = \"D:\\\\ml\\\\training_dataset\\\\training\"; save_path = \"D:\\\\ml\\\\graph_dataset.pt\"\n",
    "elif system=='Linux': training_folder = \"/media/rafael/HD/ml/training_dataset/training\"; save_path = \"n/media/rafael/HD/ml/training_dataset/graph_dataset.pt\"\n",
    "\n",
    "dxf_files = [os.path.join(training_folder, file) for file in os.listdir(training_folder) if file.endswith('.dxf')]\n",
    "\n",
    "print(f\"Total: {len(dxf_files)} DXF files / OS: {system}\")"
   ]
  },
  {
   "cell_type": "code",
   "execution_count": 2,
   "id": "baed0071",
   "metadata": {},
   "outputs": [
    {
     "name": "stdout",
     "output_type": "stream",
     "text": [
      "steps: 24\n",
      "rorations: (0, 15, 30, 45, 60, 75, 90, 105, 120, 135, 150, 165, 180, 195, 210, 225, 240, 255, 270, 285, 300, 315, 330, 345)\n"
     ]
    }
   ],
   "source": [
    "mirror_axes = (None, 'x', 'y')\n",
    "rotations = tuple(range(0, 360, 15))\n",
    "\n",
    "print(f\"steps: {len(rotations)}\"); print(f\"rorations: {rotations}\")"
   ]
  },
  {
   "cell_type": "code",
   "execution_count": 3,
   "id": "e81d4321",
   "metadata": {},
   "outputs": [
    {
     "name": "stderr",
     "output_type": "stream",
     "text": [
      "Extracting coordinates: 100%|██████████| 120/120 [00:01<00:00, 91.21it/s]"
     ]
    },
    {
     "name": "stdout",
     "output_type": "stream",
     "text": [
      "Number of dataframes: 120\n"
     ]
    },
    {
     "name": "stderr",
     "output_type": "stream",
     "text": [
      "\n"
     ]
    }
   ],
   "source": [
    "import sys\n",
    "from pathlib import Path\n",
    "sys.path.append(str(Path.home() / \"orguel_ml\"))\n",
    "import orguel_ml\n",
    "\n",
    "# Build coordinate dataset\n",
    "coordinate_dataset = orguel_ml.CoordinateDataset(dxf_files)\n",
    "n_dataframes = len(coordinate_dataset)\n",
    "\n",
    "print(f\"Number of dataframes: {n_dataframes}\")"
   ]
  },
  {
   "cell_type": "code",
   "execution_count": 4,
   "id": "4a272cdc",
   "metadata": {},
   "outputs": [
    {
     "name": "stderr",
     "output_type": "stream",
     "text": [
      "Building graphs: 100%|██████████| 8640/8640 [00:51<00:00, 166.63it/s]"
     ]
    },
    {
     "name": "stdout",
     "output_type": "stream",
     "text": [
      "Number of graphs: 8640\n"
     ]
    },
    {
     "name": "stderr",
     "output_type": "stream",
     "text": [
      "\n"
     ]
    }
   ],
   "source": [
    "# Build graph dataset\n",
    "graph_dataset = orguel_ml.GraphDataset(coordinate_dataset, rotations, mirror_axes)\n",
    "n_graphs = len(graph_dataset)\n",
    "\n",
    "print(f\"Number of graphs: {n_graphs}\")"
   ]
  },
  {
   "cell_type": "code",
   "execution_count": null,
   "id": "e450196f",
   "metadata": {},
   "outputs": [],
   "source": []
  },
  {
   "cell_type": "code",
   "execution_count": 5,
   "id": "d4166560",
   "metadata": {},
   "outputs": [
    {
     "name": "stdout",
     "output_type": "stream",
     "text": [
      "Graphs saved to: D:\\ml\\graph_dataset.pt\n"
     ]
    }
   ],
   "source": [
    "# save the dataset\n",
    "torch.save(graph_dataset, save_path)\n",
    "print(f\"Graphs saved to: {save_path}\")"
   ]
  },
  {
   "cell_type": "code",
   "execution_count": null,
   "id": "404cdb09",
   "metadata": {},
   "outputs": [],
   "source": []
  },
  {
   "cell_type": "code",
   "execution_count": null,
   "id": "4798e85a",
   "metadata": {},
   "outputs": [],
   "source": [
    "torch.load(save_path)"
   ]
  }
 ],
 "metadata": {
  "kernelspec": {
   "display_name": "dl_torch",
   "language": "python",
   "name": "python3"
  },
  "language_info": {
   "codemirror_mode": {
    "name": "ipython",
    "version": 3
   },
   "file_extension": ".py",
   "mimetype": "text/x-python",
   "name": "python",
   "nbconvert_exporter": "python",
   "pygments_lexer": "ipython3",
   "version": "3.10.17"
  }
 },
 "nbformat": 4,
 "nbformat_minor": 5
}
