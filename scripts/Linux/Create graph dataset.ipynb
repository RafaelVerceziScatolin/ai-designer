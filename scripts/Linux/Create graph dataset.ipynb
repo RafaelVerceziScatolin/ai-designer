{
 "cells": [
  {
   "cell_type": "code",
   "execution_count": null,
   "id": "8422c28e",
   "metadata": {},
   "outputs": [
    {
     "name": "stdout",
     "output_type": "stream",
     "text": [
      "Total: 120 DXF files / OS: Linux\n"
     ]
    }
   ],
   "source": [
    "import os\n",
    "import sys\n",
    "import torch\n",
    "from pathlib import Path\n",
    "from platform import system\n",
    "sys.path.append(str(Path.home() / \"orguel_ml\"))\n",
    "\n",
    "system = system()\n",
    "\n",
    "# Read the training folder\n",
    "if system == 'Windows': training_folder = \"D:\\\\ml\\\\training_dataset\\\\training\"; save_path = \"D:\\\\ml\\\\graph_dataset.pt\"\n",
    "elif system == 'Linux': training_folder = \"/media/rafael/HD/ml/training_dataset/training\"; save_path = \"/media/rafael/HD/ml/graph_dataset.pt\"\n",
    "\n",
    "dxf_files = [os.path.join(training_folder, file) for file in os.listdir(training_folder) if file.endswith('.dxf')]\n",
    "\n",
    "print(f\"Total: {len(dxf_files)} DXF files / OS: {system}\")"
   ]
  },
  {
   "cell_type": "code",
   "execution_count": null,
   "id": "baed0071",
   "metadata": {},
   "outputs": [
    {
     "name": "stdout",
     "output_type": "stream",
     "text": [
      "steps: 24\n",
      "rorations: (0, 15, 30, 45, 60, 75, 90, 105, 120, 135, 150, 165, 180, 195, 210, 225, 240, 255, 270, 285, 300, 315, 330, 345)\n"
     ]
    }
   ],
   "source": [
    "# Setup\n",
    "mirror_axes = (None, 'x', 'y')\n",
    "rotations = tuple(range(0, 360, 15))\n",
    "\n",
    "print(f\"steps: {len(rotations)}\"); print(f\"rorations: {rotations}\")"
   ]
  },
  {
   "cell_type": "code",
   "execution_count": null,
   "id": "e81d4321",
   "metadata": {},
   "outputs": [
    {
     "name": "stderr",
     "output_type": "stream",
     "text": [
      "Extracting coordinates: 100%|██████████| 120/120 [00:01<00:00, 73.34it/s] "
     ]
    },
    {
     "name": "stdout",
     "output_type": "stream",
     "text": [
      "Number of dataframes: 120\n"
     ]
    },
    {
     "name": "stderr",
     "output_type": "stream",
     "text": [
      "\n"
     ]
    }
   ],
   "source": [
    "import orguel_ml\n",
    "\n",
    "# Build coordinate dataset\n",
    "coordinate_dataset = orguel_ml.CoordinateDataset(dxf_files)\n",
    "n_dataframes = len(coordinate_dataset)\n",
    "\n",
    "print(f\"Number of dataframes: {n_dataframes}\")"
   ]
  },
  {
   "cell_type": "code",
   "execution_count": 4,
   "id": "4a272cdc",
   "metadata": {},
   "outputs": [
    {
     "name": "stderr",
     "output_type": "stream",
     "text": [
      "Building graphs: 100%|██████████| 8640/8640 [00:26<00:00, 323.45it/s]"
     ]
    },
    {
     "name": "stdout",
     "output_type": "stream",
     "text": [
      "Number of graphs: 8640\n"
     ]
    },
    {
     "name": "stderr",
     "output_type": "stream",
     "text": [
      "\n"
     ]
    }
   ],
   "source": [
    "# Build graph dataset\n",
    "graph_dataset = orguel_ml.GraphDataset(coordinate_dataset, rotations, mirror_axes)\n",
    "n_graphs = len(graph_dataset)\n",
    "\n",
    "print(f\"Number of graphs: {n_graphs}\")"
   ]
  },
  {
   "cell_type": "code",
   "execution_count": 7,
   "id": "d4166560",
   "metadata": {},
   "outputs": [
    {
     "name": "stdout",
     "output_type": "stream",
     "text": [
      "Graphs saved to: /media/rafael/HD/ml/graph_dataset.pt\n"
     ]
    }
   ],
   "source": [
    "# save the dataset\n",
    "torch.save(graph_dataset, save_path)\n",
    "print(f\"Graphs saved to: {save_path}\")"
   ]
  },
  {
   "cell_type": "code",
   "execution_count": null,
   "id": "404cdb09",
   "metadata": {},
   "outputs": [],
   "source": []
  }
 ],
 "metadata": {
  "kernelspec": {
   "display_name": "dl_torch",
   "language": "python",
   "name": "python3"
  },
  "language_info": {
   "codemirror_mode": {
    "name": "ipython",
    "version": 3
   },
   "file_extension": ".py",
   "mimetype": "text/x-python",
   "name": "python",
   "nbconvert_exporter": "python",
   "pygments_lexer": "ipython3",
   "version": "3.10.17"
  }
 },
 "nbformat": 4,
 "nbformat_minor": 5
}
