{
 "cells": [
  {
   "cell_type": "code",
   "execution_count": 1,
   "id": "8d4bdf5d",
   "metadata": {},
   "outputs": [
    {
     "name": "stdout",
     "output_type": "stream",
     "text": [
      "Found 62 DXF files. Processing...\n",
      "➡️ Open Autocad before running the loop\n"
     ]
    }
   ],
   "source": [
    "import os\n",
    "\n",
    "#dxf_folder = r\"C:\\Users\\rafael.scatolin\\OneDrive - Orguel\\ai_designer_database\\dxf files\\training\"\n",
    "dxf_folder = r\"C:\\Users\\Rafael\\Desktop\\training_dataset\\dxf files\\training2\"\n",
    "dxf_files = [os.path.join(dxf_folder, file) for file in os.listdir(dxf_folder) if file.endswith('.dxf')]\n",
    "\n",
    "print(f\"Found {len(dxf_files)} DXF files. Processing...\")\n",
    "print(f\"➡️ Open Autocad before running the loop\")"
   ]
  },
  {
   "cell_type": "code",
   "execution_count": 2,
   "id": "7f128c72",
   "metadata": {},
   "outputs": [
    {
     "name": "stderr",
     "output_type": "stream",
     "text": [
      "Collecting missing characters: 100%|██████████| 62/62 [02:39<00:00,  2.57s/it]"
     ]
    },
    {
     "name": "stdout",
     "output_type": "stream",
     "text": [
      "✅ Missing characters found:  º\n"
     ]
    },
    {
     "name": "stderr",
     "output_type": "stream",
     "text": [
      "\n"
     ]
    }
   ],
   "source": [
    "import sys\n",
    "from pathlib import Path\n",
    "sys.path.append(str(Path.home() / \"orguel_ml\"))\n",
    "from orguel_ml.ocr import character_set\n",
    "import time\n",
    "from tqdm import tqdm\n",
    "import win32com.client\n",
    "\n",
    "characters_list = ''.join(character_set[\"characters\"][\"type\"].values())\n",
    "\n",
    "acad = win32com.client.Dispatch(\"AutoCAD.Application\")\n",
    "acad.Visible = True # optional: run in background\n",
    "\n",
    "time.sleep(1) # Wait a moment to allow it to initialize\n",
    "\n",
    "charactersMissing = set()\n",
    "for file in tqdm(dxf_files, desc=\"Collecting missing characters\"):\n",
    "    doc = acad.Documents.Open(file)\n",
    "    modelSpace = doc.ModelSpace\n",
    "    \n",
    "    for text in modelSpace:\n",
    "        if text.ObjectName != \"AcDbText\": continue\n",
    "        \n",
    "        for character in text.TextString:\n",
    "            if character not in characters_list:\n",
    "                charactersMissing.add(character)\n",
    "    \n",
    "    doc.Close(False)\n",
    "    time.sleep(0.1)\n",
    "\n",
    "charactersMissing = ''.join(sorted(charactersMissing))\n",
    "if charactersMissing: print(f\"✅ Missing characters found: {charactersMissing}\")\n",
    "else: print(\"✅ No missing characters found! Dataset is complete.\")"
   ]
  },
  {
   "cell_type": "code",
   "execution_count": null,
   "id": "7f4583a5",
   "metadata": {},
   "outputs": [],
   "source": []
  }
 ],
 "metadata": {
  "kernelspec": {
   "display_name": "dl_torch",
   "language": "python",
   "name": "python3"
  },
  "language_info": {
   "codemirror_mode": {
    "name": "ipython",
    "version": 3
   },
   "file_extension": ".py",
   "mimetype": "text/x-python",
   "name": "python",
   "nbconvert_exporter": "python",
   "pygments_lexer": "ipython3",
   "version": "3.10.16"
  }
 },
 "nbformat": 4,
 "nbformat_minor": 5
}
