{
 "cells": [
  {
   "cell_type": "code",
   "execution_count": 1,
   "id": "704d431e",
   "metadata": {},
   "outputs": [],
   "source": [
    "import pickle\n",
    "from pathlib import Path\n",
    "\n",
    "with open(str(Path.home()/\"orguel_ml\"/\"scripts\"/\"ocr\"/\"character_positions.pkl\"), \"rb\") as f:\n",
    "    characterPositions = pickle.load(f)\n",
    "\n",
    "# Linux base folders\n",
    "character_folder = Path(\"/home/rafael/Área de trabalho/Linux/training/characters\")\n",
    "drawing_folder = Path(\"/home/rafael/Área de trabalho/Linux/training/drawings\")\n",
    "\n",
    "def resolve_linux_path(win_path):\n",
    "    filename = Path(win_path).name\n",
    "\n",
    "    if \"ascii\" in filename or \"width\" in filename:\n",
    "        return character_folder / filename\n",
    "    else:\n",
    "        return drawing_folder / filename"
   ]
  },
  {
   "cell_type": "code",
   "execution_count": 2,
   "id": "ef8d7c87",
   "metadata": {},
   "outputs": [
    {
     "name": "stdout",
     "output_type": "stream",
     "text": [
      "0    /home/rafael/Área de trabalho/training/drawings/16979-09-STEFANI_NOGUEIRA-MAGNOLIA-TIPO-REV00_Arial__0_80.dxf\n",
      "1    /home/rafael/Área de trabalho/training/drawings/16979-09-STEFANI_NOGUEIRA-MAGNOLIA-TIPO-REV00_Arial__0_80.dxf\n",
      "2    /home/rafael/Área de trabalho/training/drawings/16979-09-STEFANI_NOGUEIRA-MAGNOLIA-TIPO-REV00_Arial__0_80.dxf\n",
      "3    /home/rafael/Área de trabalho/training/drawings/16979-09-STEFANI_NOGUEIRA-MAGNOLIA-TIPO-REV00_Arial__0_80.dxf\n",
      "4    /home/rafael/Área de trabalho/training/drawings/16979-09-STEFANI_NOGUEIRA-MAGNOLIA-TIPO-REV00_Arial__0_80.dxf\n",
      "5    /home/rafael/Área de trabalho/training/drawings/16979-09-STEFANI_NOGUEIRA-MAGNOLIA-TIPO-REV00_Arial__0_80.dxf\n",
      "6    /home/rafael/Área de trabalho/training/drawings/16979-09-STEFANI_NOGUEIRA-MAGNOLIA-TIPO-REV00_Arial__0_80.dxf\n",
      "7    /home/rafael/Área de trabalho/training/drawings/16979-09-STEFANI_NOGUEIRA-MAGNOLIA-TIPO-REV00_Arial__0_80.dxf\n",
      "8    /home/rafael/Área de trabalho/training/drawings/16979-09-STEFANI_NOGUEIRA-MAGNOLIA-TIPO-REV00_Arial__0_80.dxf\n",
      "9    /home/rafael/Área de trabalho/training/drawings/16979-09-STEFANI_NOGUEIRA-MAGNOLIA-TIPO-REV00_Arial__0_80.dxf\n",
      "Name: file, dtype: object\n"
     ]
    }
   ],
   "source": [
    "import pandas as pd\n",
    "pd.set_option('display.max_colwidth', None)\n",
    "print(characterPositions['file'].head(10))"
   ]
  },
  {
   "cell_type": "code",
   "execution_count": 6,
   "id": "2fad7e1f",
   "metadata": {},
   "outputs": [],
   "source": [
    "characterPositions['file'] = characterPositions['file'].apply(\n",
    "    lambda p: p.split(\"C:\\\\\")[-1].split(\"\\\\\")[-1]  # gets the actual file name from embedded Windows path\n",
    ")\n",
    "drawing_folder = Path(\"/home/rafael/Área de trabalho/training/drawings\")\n",
    "characterPositions['file'] = characterPositions['file'].apply(\n",
    "    lambda f: str(drawing_folder / f)\n",
    ")"
   ]
  },
  {
   "cell_type": "code",
   "execution_count": 7,
   "id": "b34ca0e1",
   "metadata": {},
   "outputs": [
    {
     "name": "stdout",
     "output_type": "stream",
     "text": [
      "0    /home/rafael/Área de trabalho/training/drawings/16979-09-STEFANI_NOGUEIRA-MAGNOLIA-TIPO-REV00_Arial__0_80.dxf\n",
      "1    /home/rafael/Área de trabalho/training/drawings/16979-09-STEFANI_NOGUEIRA-MAGNOLIA-TIPO-REV00_Arial__0_80.dxf\n",
      "2    /home/rafael/Área de trabalho/training/drawings/16979-09-STEFANI_NOGUEIRA-MAGNOLIA-TIPO-REV00_Arial__0_80.dxf\n",
      "3    /home/rafael/Área de trabalho/training/drawings/16979-09-STEFANI_NOGUEIRA-MAGNOLIA-TIPO-REV00_Arial__0_80.dxf\n",
      "4    /home/rafael/Área de trabalho/training/drawings/16979-09-STEFANI_NOGUEIRA-MAGNOLIA-TIPO-REV00_Arial__0_80.dxf\n",
      "5    /home/rafael/Área de trabalho/training/drawings/16979-09-STEFANI_NOGUEIRA-MAGNOLIA-TIPO-REV00_Arial__0_80.dxf\n",
      "6    /home/rafael/Área de trabalho/training/drawings/16979-09-STEFANI_NOGUEIRA-MAGNOLIA-TIPO-REV00_Arial__0_80.dxf\n",
      "7    /home/rafael/Área de trabalho/training/drawings/16979-09-STEFANI_NOGUEIRA-MAGNOLIA-TIPO-REV00_Arial__0_80.dxf\n",
      "8    /home/rafael/Área de trabalho/training/drawings/16979-09-STEFANI_NOGUEIRA-MAGNOLIA-TIPO-REV00_Arial__0_80.dxf\n",
      "9    /home/rafael/Área de trabalho/training/drawings/16979-09-STEFANI_NOGUEIRA-MAGNOLIA-TIPO-REV00_Arial__0_80.dxf\n",
      "Name: file, dtype: object\n"
     ]
    }
   ],
   "source": [
    "pd.set_option('display.max_colwidth', None)\n",
    "print(characterPositions['file'].head(10))"
   ]
  },
  {
   "cell_type": "code",
   "execution_count": 4,
   "id": "a5eb530f",
   "metadata": {},
   "outputs": [
    {
     "data": {
      "text/html": [
       "<div>\n",
       "<style scoped>\n",
       "    .dataframe tbody tr th:only-of-type {\n",
       "        vertical-align: middle;\n",
       "    }\n",
       "\n",
       "    .dataframe tbody tr th {\n",
       "        vertical-align: top;\n",
       "    }\n",
       "\n",
       "    .dataframe thead th {\n",
       "        text-align: right;\n",
       "    }\n",
       "</style>\n",
       "<table border=\"1\" class=\"dataframe\">\n",
       "  <thead>\n",
       "    <tr style=\"text-align: right;\">\n",
       "      <th></th>\n",
       "      <th>file</th>\n",
       "      <th>character</th>\n",
       "      <th>insertion</th>\n",
       "      <th>rotation</th>\n",
       "      <th>height</th>\n",
       "      <th>bbox</th>\n",
       "      <th>width</th>\n",
       "      <th>font</th>\n",
       "    </tr>\n",
       "  </thead>\n",
       "  <tbody>\n",
       "    <tr>\n",
       "      <th>0</th>\n",
       "      <td>/home/rafael/Área de trabalho/Linux/training/d...</td>\n",
       "      <td>P</td>\n",
       "      <td>(903.3410905061154, 1889.1567540814858)</td>\n",
       "      <td>0.0</td>\n",
       "      <td>12.0</td>\n",
       "      <td>POLYGON ((914.5225366179844 1889.1567540814858...</td>\n",
       "      <td>0.8</td>\n",
       "      <td>Arial</td>\n",
       "    </tr>\n",
       "    <tr>\n",
       "      <th>1</th>\n",
       "      <td>/home/rafael/Área de trabalho/Linux/training/d...</td>\n",
       "      <td>2</td>\n",
       "      <td>(914.5225366179844, 1889.1567540814858)</td>\n",
       "      <td>0.0</td>\n",
       "      <td>12.0</td>\n",
       "      <td>POLYGON ((923.8458654037962 1889.1567540814858...</td>\n",
       "      <td>0.8</td>\n",
       "      <td>Arial</td>\n",
       "    </tr>\n",
       "    <tr>\n",
       "      <th>2</th>\n",
       "      <td>/home/rafael/Área de trabalho/Linux/training/d...</td>\n",
       "      <td>P</td>\n",
       "      <td>(1027.196562506115, 468.99005308148753)</td>\n",
       "      <td>0.0</td>\n",
       "      <td>12.0</td>\n",
       "      <td>POLYGON ((1038.378008617984 468.99005308148753...</td>\n",
       "      <td>0.8</td>\n",
       "      <td>Arial</td>\n",
       "    </tr>\n",
       "    <tr>\n",
       "      <th>3</th>\n",
       "      <td>/home/rafael/Área de trabalho/Linux/training/d...</td>\n",
       "      <td>3</td>\n",
       "      <td>(1038.378008617984, 468.99005308148753)</td>\n",
       "      <td>0.0</td>\n",
       "      <td>12.0</td>\n",
       "      <td>POLYGON ((1047.7013374037958 468.7772290705734...</td>\n",
       "      <td>0.8</td>\n",
       "      <td>Arial</td>\n",
       "    </tr>\n",
       "    <tr>\n",
       "      <th>4</th>\n",
       "      <td>/home/rafael/Área de trabalho/Linux/training/d...</td>\n",
       "      <td>6</td>\n",
       "      <td>(1047.7013374037958, 468.99005308148753)</td>\n",
       "      <td>0.0</td>\n",
       "      <td>12.0</td>\n",
       "      <td>POLYGON ((1057.0246661896076 468.7854146094548...</td>\n",
       "      <td>0.8</td>\n",
       "      <td>Arial</td>\n",
       "    </tr>\n",
       "    <tr>\n",
       "      <th>...</th>\n",
       "      <td>...</td>\n",
       "      <td>...</td>\n",
       "      <td>...</td>\n",
       "      <td>...</td>\n",
       "      <td>...</td>\n",
       "      <td>...</td>\n",
       "      <td>...</td>\n",
       "      <td>...</td>\n",
       "    </tr>\n",
       "    <tr>\n",
       "      <th>454783</th>\n",
       "      <td>/home/rafael/Área de trabalho/Linux/training/c...</td>\n",
       "      <td>ó</td>\n",
       "      <td>(45.0, -30.0)</td>\n",
       "      <td>0.0</td>\n",
       "      <td>1.0</td>\n",
       "      <td>POLYGON ((45.76190476190476 -30, 45.7619047619...</td>\n",
       "      <td>1.2</td>\n",
       "      <td>ROMANS</td>\n",
       "    </tr>\n",
       "    <tr>\n",
       "      <th>454784</th>\n",
       "      <td>/home/rafael/Área de trabalho/Linux/training/c...</td>\n",
       "      <td>ô</td>\n",
       "      <td>(50.0, -30.0)</td>\n",
       "      <td>0.0</td>\n",
       "      <td>1.0</td>\n",
       "      <td>POLYGON ((50.76190476190476 -30, 50.7619047619...</td>\n",
       "      <td>1.2</td>\n",
       "      <td>ROMANS</td>\n",
       "    </tr>\n",
       "    <tr>\n",
       "      <th>454785</th>\n",
       "      <td>/home/rafael/Área de trabalho/Linux/training/c...</td>\n",
       "      <td>÷</td>\n",
       "      <td>(55.0, -30.0)</td>\n",
       "      <td>0.0</td>\n",
       "      <td>1.0</td>\n",
       "      <td>POLYGON ((55.714285714285715 -30, 55.714285714...</td>\n",
       "      <td>1.2</td>\n",
       "      <td>ROMANS</td>\n",
       "    </tr>\n",
       "    <tr>\n",
       "      <th>454786</th>\n",
       "      <td>/home/rafael/Área de trabalho/Linux/training/c...</td>\n",
       "      <td>ø</td>\n",
       "      <td>(60.0, -30.0)</td>\n",
       "      <td>0.0</td>\n",
       "      <td>1.0</td>\n",
       "      <td>POLYGON ((60.76190476190476 -30, 60.7619047619...</td>\n",
       "      <td>1.2</td>\n",
       "      <td>ROMANS</td>\n",
       "    </tr>\n",
       "    <tr>\n",
       "      <th>454787</th>\n",
       "      <td>/home/rafael/Área de trabalho/Linux/training/c...</td>\n",
       "      <td>ú</td>\n",
       "      <td>(65.0, -30.0)</td>\n",
       "      <td>0.0</td>\n",
       "      <td>1.0</td>\n",
       "      <td>POLYGON ((65.71428571428571 -30, 65.7142857142...</td>\n",
       "      <td>1.2</td>\n",
       "      <td>ROMANS</td>\n",
       "    </tr>\n",
       "  </tbody>\n",
       "</table>\n",
       "<p>454788 rows × 8 columns</p>\n",
       "</div>"
      ],
      "text/plain": [
       "                                                     file character  \\\n",
       "0       /home/rafael/Área de trabalho/Linux/training/d...         P   \n",
       "1       /home/rafael/Área de trabalho/Linux/training/d...         2   \n",
       "2       /home/rafael/Área de trabalho/Linux/training/d...         P   \n",
       "3       /home/rafael/Área de trabalho/Linux/training/d...         3   \n",
       "4       /home/rafael/Área de trabalho/Linux/training/d...         6   \n",
       "...                                                   ...       ...   \n",
       "454783  /home/rafael/Área de trabalho/Linux/training/c...         ó   \n",
       "454784  /home/rafael/Área de trabalho/Linux/training/c...         ô   \n",
       "454785  /home/rafael/Área de trabalho/Linux/training/c...         ÷   \n",
       "454786  /home/rafael/Área de trabalho/Linux/training/c...         ø   \n",
       "454787  /home/rafael/Área de trabalho/Linux/training/c...         ú   \n",
       "\n",
       "                                       insertion  rotation  height  \\\n",
       "0        (903.3410905061154, 1889.1567540814858)       0.0    12.0   \n",
       "1        (914.5225366179844, 1889.1567540814858)       0.0    12.0   \n",
       "2        (1027.196562506115, 468.99005308148753)       0.0    12.0   \n",
       "3        (1038.378008617984, 468.99005308148753)       0.0    12.0   \n",
       "4       (1047.7013374037958, 468.99005308148753)       0.0    12.0   \n",
       "...                                          ...       ...     ...   \n",
       "454783                             (45.0, -30.0)       0.0     1.0   \n",
       "454784                             (50.0, -30.0)       0.0     1.0   \n",
       "454785                             (55.0, -30.0)       0.0     1.0   \n",
       "454786                             (60.0, -30.0)       0.0     1.0   \n",
       "454787                             (65.0, -30.0)       0.0     1.0   \n",
       "\n",
       "                                                     bbox  width    font  \n",
       "0       POLYGON ((914.5225366179844 1889.1567540814858...    0.8   Arial  \n",
       "1       POLYGON ((923.8458654037962 1889.1567540814858...    0.8   Arial  \n",
       "2       POLYGON ((1038.378008617984 468.99005308148753...    0.8   Arial  \n",
       "3       POLYGON ((1047.7013374037958 468.7772290705734...    0.8   Arial  \n",
       "4       POLYGON ((1057.0246661896076 468.7854146094548...    0.8   Arial  \n",
       "...                                                   ...    ...     ...  \n",
       "454783  POLYGON ((45.76190476190476 -30, 45.7619047619...    1.2  ROMANS  \n",
       "454784  POLYGON ((50.76190476190476 -30, 50.7619047619...    1.2  ROMANS  \n",
       "454785  POLYGON ((55.714285714285715 -30, 55.714285714...    1.2  ROMANS  \n",
       "454786  POLYGON ((60.76190476190476 -30, 60.7619047619...    1.2  ROMANS  \n",
       "454787  POLYGON ((65.71428571428571 -30, 65.7142857142...    1.2  ROMANS  \n",
       "\n",
       "[454788 rows x 8 columns]"
      ]
     },
     "execution_count": 4,
     "metadata": {},
     "output_type": "execute_result"
    }
   ],
   "source": [
    "characterPositions['file'] = characterPositions['file'].apply(resolve_linux_path).astype(str)\n",
    "characterPositions"
   ]
  },
  {
   "cell_type": "code",
   "execution_count": 8,
   "id": "0cbdd9d0",
   "metadata": {},
   "outputs": [
    {
     "name": "stdout",
     "output_type": "stream",
     "text": [
      "character_positions dataframe saved suscesfully\n"
     ]
    }
   ],
   "source": [
    "characterPositions.to_pickle(\"character_positions.pkl\")\n",
    "print(\"character_positions dataframe saved suscesfully\")"
   ]
  },
  {
   "cell_type": "code",
   "execution_count": 5,
   "id": "a08df5d6",
   "metadata": {},
   "outputs": [
    {
     "data": {
      "text/plain": [
       "file         /home/rafael/Área de trabalho/Linux/training/d...\n",
       "character                                                    2\n",
       "insertion               (2073.198382506116, 795.5196690814872)\n",
       "rotation                                                   0.0\n",
       "height                                                    10.0\n",
       "bbox         POLYGON ((2080.967823160959 795.5196690814872,...\n",
       "width                                                      0.8\n",
       "font                                                     Arial\n",
       "Name: 123, dtype: object"
      ]
     },
     "execution_count": 5,
     "metadata": {},
     "output_type": "execute_result"
    }
   ],
   "source": [
    "characterPositions.loc[123]"
   ]
  },
  {
   "cell_type": "code",
   "execution_count": null,
   "id": "791cf784",
   "metadata": {},
   "outputs": [],
   "source": []
  }
 ],
 "metadata": {
  "kernelspec": {
   "display_name": "dl_torch",
   "language": "python",
   "name": "python3"
  },
  "language_info": {
   "codemirror_mode": {
    "name": "ipython",
    "version": 3
   },
   "file_extension": ".py",
   "mimetype": "text/x-python",
   "name": "python",
   "nbconvert_exporter": "python",
   "pygments_lexer": "ipython3",
   "version": "3.10.17"
  }
 },
 "nbformat": 4,
 "nbformat_minor": 5
}
