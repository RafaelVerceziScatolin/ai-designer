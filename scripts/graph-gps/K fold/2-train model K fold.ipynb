{
 "cells": [
  {
   "cell_type": "code",
   "execution_count": 1,
   "metadata": {},
   "outputs": [
    {
     "name": "stderr",
     "output_type": "stream",
     "text": [
      "/tmp/ipykernel_5397/3346811239.py:4: FutureWarning: You are using `torch.load` with `weights_only=False` (the current default value), which uses the default pickle module implicitly. It is possible to construct malicious pickle data which will execute arbitrary code during unpickling (See https://github.com/pytorch/pytorch/blob/main/SECURITY.md#untrusted-models for more details). In a future release, the default value for `weights_only` will be flipped to `True`. This limits the functions that could be executed during unpickling. Arbitrary objects will no longer be allowed to be loaded via this mode unless they are explicitly allowlisted by the user via `torch.serialization.add_safe_globals`. We recommend you start setting `weights_only=True` for any use case where you don't have full control of the loaded file. Please open an issue on GitHub for any issues related to this experimental feature.\n",
      "  dataset = torch.load(dataset_path)\n"
     ]
    },
    {
     "name": "stdout",
     "output_type": "stream",
     "text": [
      "Graphs loaded: 880\n"
     ]
    }
   ],
   "source": [
    "import torch\n",
    "\n",
    "dataset_path = \"/home/rafael/Área de trabalho/Linux/graph_dataset.pt\"\n",
    "dataset = torch.load(dataset_path)\n",
    "\n",
    "print(f\"Graphs loaded: {len(dataset)}\")"
   ]
  },
  {
   "cell_type": "code",
   "execution_count": 2,
   "metadata": {},
   "outputs": [],
   "source": [
    "from sklearn.model_selection import KFold\n",
    "from orguel_ml import BalanceClassWeights\n",
    "\n",
    "# Device\n",
    "device = torch.device(\"cuda:0\" if torch.cuda.is_available() else \"cpu\")\n",
    "\n",
    "# Setup\n",
    "k_folds = 5\n",
    "epochs = 20\n",
    "batch_size = 2\n",
    "learning_rate = 0.007\n",
    "\n",
    "class_weights = BalanceClassWeights(dataset, device)\n",
    "\n",
    "# K-Fold cross validation\n",
    "kf = KFold(n_splits=k_folds, shuffle=True, random_state=42)"
   ]
  },
  {
   "cell_type": "code",
   "execution_count": 3,
   "metadata": {},
   "outputs": [
    {
     "name": "stdout",
     "output_type": "stream",
     "text": [
      "\n",
      "Starting Fold 0\n",
      "Fold 0 | Epoch 1 | Train Loss: 0.9528 | Val Loss: 0.3885 | Train Acc: 0.71 | Val Acc: 0.90\n",
      "Fold 0 | Epoch 2 | Train Loss: 0.6424 | Val Loss: 0.2839 | Train Acc: 0.91 | Val Acc: 0.93\n",
      "Fold 0 | Epoch 3 | Train Loss: 0.5940 | Val Loss: 0.2381 | Train Acc: 0.93 | Val Acc: 0.95\n",
      "Fold 0 | Epoch 4 | Train Loss: 0.5635 | Val Loss: 0.2493 | Train Acc: 0.95 | Val Acc: 0.95\n",
      "Fold 0 | Epoch 5 | Train Loss: 0.5646 | Val Loss: 0.2105 | Train Acc: 0.95 | Val Acc: 0.96\n",
      "Fold 0 | Epoch 6 | Train Loss: 0.5565 | Val Loss: 0.2474 | Train Acc: 0.95 | Val Acc: 0.96\n",
      "Fold 0 | Epoch 7 | Train Loss: 0.5451 | Val Loss: 0.2072 | Train Acc: 0.95 | Val Acc: 0.96\n",
      "Fold 0 | Epoch 8 | Train Loss: 0.5353 | Val Loss: 0.1931 | Train Acc: 0.96 | Val Acc: 0.97\n",
      "Fold 0 | Epoch 9 | Train Loss: 0.5251 | Val Loss: 0.2186 | Train Acc: 0.96 | Val Acc: 0.96\n",
      "Fold 0 | Epoch 10 | Train Loss: 0.5243 | Val Loss: 0.2071 | Train Acc: 0.96 | Val Acc: 0.96\n",
      "Fold 0 | Epoch 11 | Train Loss: 0.5208 | Val Loss: 0.1790 | Train Acc: 0.96 | Val Acc: 0.97\n",
      "Fold 0 | Epoch 12 | Train Loss: 0.5058 | Val Loss: 0.1513 | Train Acc: 0.97 | Val Acc: 0.98\n",
      "Fold 0 | Epoch 13 | Train Loss: 0.5245 | Val Loss: 0.1875 | Train Acc: 0.96 | Val Acc: 0.97\n",
      "Fold 0 | Epoch 14 | Train Loss: 0.5068 | Val Loss: 0.1617 | Train Acc: 0.97 | Val Acc: 0.97\n",
      "Fold 0 | Epoch 15 | Train Loss: 0.5034 | Val Loss: 0.1716 | Train Acc: 0.97 | Val Acc: 0.97\n",
      "Fold 0 | Epoch 16 | Train Loss: 0.5137 | Val Loss: 0.1718 | Train Acc: 0.97 | Val Acc: 0.97\n",
      "Fold 0 | Epoch 17 | Train Loss: 0.5178 | Val Loss: 0.1665 | Train Acc: 0.96 | Val Acc: 0.97\n",
      "Fold 0 | Epoch 18 | Train Loss: 0.5062 | Val Loss: 0.1686 | Train Acc: 0.97 | Val Acc: 0.97\n",
      "Fold 0 | Epoch 19 | Train Loss: 0.4988 | Val Loss: 0.2132 | Train Acc: 0.97 | Val Acc: 0.95\n",
      "Fold 0 | Epoch 20 | Train Loss: 0.5049 | Val Loss: 0.2268 | Train Acc: 0.97 | Val Acc: 0.96\n",
      "\n",
      "Starting Fold 1\n",
      "Fold 1 | Epoch 1 | Train Loss: 0.8908 | Val Loss: 0.3542 | Train Acc: 0.75 | Val Acc: 0.93\n",
      "Fold 1 | Epoch 2 | Train Loss: 0.6358 | Val Loss: 0.2278 | Train Acc: 0.92 | Val Acc: 0.95\n",
      "Fold 1 | Epoch 3 | Train Loss: 0.5782 | Val Loss: 0.2065 | Train Acc: 0.94 | Val Acc: 0.96\n",
      "Fold 1 | Epoch 4 | Train Loss: 0.5733 | Val Loss: 0.2164 | Train Acc: 0.94 | Val Acc: 0.96\n",
      "Fold 1 | Epoch 5 | Train Loss: 0.5427 | Val Loss: 0.1763 | Train Acc: 0.95 | Val Acc: 0.97\n",
      "Fold 1 | Epoch 6 | Train Loss: 0.5337 | Val Loss: 0.1942 | Train Acc: 0.96 | Val Acc: 0.97\n",
      "Fold 1 | Epoch 7 | Train Loss: 0.5341 | Val Loss: 0.1850 | Train Acc: 0.96 | Val Acc: 0.97\n",
      "Fold 1 | Epoch 8 | Train Loss: 0.5348 | Val Loss: 0.1965 | Train Acc: 0.96 | Val Acc: 0.97\n",
      "Fold 1 | Epoch 9 | Train Loss: 0.5307 | Val Loss: 0.1571 | Train Acc: 0.96 | Val Acc: 0.97\n",
      "Fold 1 | Epoch 10 | Train Loss: 0.5223 | Val Loss: 0.1822 | Train Acc: 0.96 | Val Acc: 0.97\n",
      "Fold 1 | Epoch 11 | Train Loss: 0.5144 | Val Loss: 0.2112 | Train Acc: 0.96 | Val Acc: 0.96\n",
      "Fold 1 | Epoch 12 | Train Loss: 0.5044 | Val Loss: 0.1657 | Train Acc: 0.97 | Val Acc: 0.97\n",
      "Fold 1 | Epoch 13 | Train Loss: 0.5020 | Val Loss: 0.1899 | Train Acc: 0.97 | Val Acc: 0.97\n",
      "Fold 1 | Epoch 14 | Train Loss: 0.5220 | Val Loss: 0.2041 | Train Acc: 0.96 | Val Acc: 0.96\n",
      "Fold 1 | Epoch 15 | Train Loss: 0.5101 | Val Loss: 0.1520 | Train Acc: 0.97 | Val Acc: 0.98\n",
      "Fold 1 | Epoch 16 | Train Loss: 0.4949 | Val Loss: 0.1568 | Train Acc: 0.97 | Val Acc: 0.98\n",
      "Fold 1 | Epoch 17 | Train Loss: 0.5067 | Val Loss: 0.1499 | Train Acc: 0.97 | Val Acc: 0.98\n",
      "Fold 1 | Epoch 18 | Train Loss: 0.4903 | Val Loss: 0.1614 | Train Acc: 0.97 | Val Acc: 0.98\n",
      "Fold 1 | Epoch 19 | Train Loss: 0.4995 | Val Loss: 0.1684 | Train Acc: 0.97 | Val Acc: 0.98\n",
      "Fold 1 | Epoch 20 | Train Loss: 0.5034 | Val Loss: 0.1496 | Train Acc: 0.97 | Val Acc: 0.98\n",
      "\n",
      "Starting Fold 2\n",
      "Fold 2 | Epoch 1 | Train Loss: 1.0072 | Val Loss: 0.4677 | Train Acc: 0.68 | Val Acc: 0.87\n",
      "Fold 2 | Epoch 2 | Train Loss: 0.6738 | Val Loss: 0.3058 | Train Acc: 0.90 | Val Acc: 0.93\n",
      "Fold 2 | Epoch 3 | Train Loss: 0.6063 | Val Loss: 0.2289 | Train Acc: 0.93 | Val Acc: 0.95\n",
      "Fold 2 | Epoch 4 | Train Loss: 0.5621 | Val Loss: 0.2387 | Train Acc: 0.95 | Val Acc: 0.95\n",
      "Fold 2 | Epoch 5 | Train Loss: 0.5518 | Val Loss: 0.2019 | Train Acc: 0.95 | Val Acc: 0.97\n",
      "Fold 2 | Epoch 6 | Train Loss: 0.5369 | Val Loss: 0.2273 | Train Acc: 0.96 | Val Acc: 0.96\n",
      "Fold 2 | Epoch 7 | Train Loss: 0.5442 | Val Loss: 0.1963 | Train Acc: 0.95 | Val Acc: 0.97\n",
      "Fold 2 | Epoch 8 | Train Loss: 0.5288 | Val Loss: 0.1977 | Train Acc: 0.96 | Val Acc: 0.97\n",
      "Fold 2 | Epoch 9 | Train Loss: 0.5149 | Val Loss: 0.1822 | Train Acc: 0.97 | Val Acc: 0.97\n",
      "Fold 2 | Epoch 10 | Train Loss: 0.5230 | Val Loss: 0.1916 | Train Acc: 0.96 | Val Acc: 0.97\n",
      "Fold 2 | Epoch 11 | Train Loss: 0.5122 | Val Loss: 0.1637 | Train Acc: 0.97 | Val Acc: 0.98\n",
      "Fold 2 | Epoch 12 | Train Loss: 0.5157 | Val Loss: 0.1597 | Train Acc: 0.96 | Val Acc: 0.98\n",
      "Fold 2 | Epoch 13 | Train Loss: 0.4959 | Val Loss: 0.1660 | Train Acc: 0.97 | Val Acc: 0.98\n",
      "Fold 2 | Epoch 14 | Train Loss: 0.5043 | Val Loss: 0.2063 | Train Acc: 0.97 | Val Acc: 0.96\n",
      "Fold 2 | Epoch 15 | Train Loss: 0.5096 | Val Loss: 0.1910 | Train Acc: 0.97 | Val Acc: 0.97\n",
      "Fold 2 | Epoch 16 | Train Loss: 0.4975 | Val Loss: 0.1482 | Train Acc: 0.97 | Val Acc: 0.98\n",
      "Fold 2 | Epoch 17 | Train Loss: 0.4979 | Val Loss: 0.1958 | Train Acc: 0.97 | Val Acc: 0.97\n",
      "Fold 2 | Epoch 18 | Train Loss: 0.5041 | Val Loss: 0.1627 | Train Acc: 0.97 | Val Acc: 0.98\n",
      "Fold 2 | Epoch 19 | Train Loss: 0.4829 | Val Loss: 0.1524 | Train Acc: 0.98 | Val Acc: 0.98\n",
      "Fold 2 | Epoch 20 | Train Loss: 0.4897 | Val Loss: 0.1462 | Train Acc: 0.97 | Val Acc: 0.98\n",
      "\n",
      "Starting Fold 3\n",
      "Fold 3 | Epoch 1 | Train Loss: 0.9323 | Val Loss: 0.4272 | Train Acc: 0.73 | Val Acc: 0.89\n",
      "Fold 3 | Epoch 2 | Train Loss: 0.6500 | Val Loss: 0.3275 | Train Acc: 0.91 | Val Acc: 0.91\n",
      "Fold 3 | Epoch 3 | Train Loss: 0.5948 | Val Loss: 0.3441 | Train Acc: 0.93 | Val Acc: 0.91\n",
      "Fold 3 | Epoch 4 | Train Loss: 0.5611 | Val Loss: 0.2677 | Train Acc: 0.94 | Val Acc: 0.93\n",
      "Fold 3 | Epoch 5 | Train Loss: 0.5648 | Val Loss: 0.2247 | Train Acc: 0.94 | Val Acc: 0.96\n",
      "Fold 3 | Epoch 6 | Train Loss: 0.5568 | Val Loss: 0.2742 | Train Acc: 0.95 | Val Acc: 0.95\n",
      "Fold 3 | Epoch 7 | Train Loss: 0.5309 | Val Loss: 0.2017 | Train Acc: 0.96 | Val Acc: 0.97\n",
      "Fold 3 | Epoch 8 | Train Loss: 0.5284 | Val Loss: 0.2105 | Train Acc: 0.96 | Val Acc: 0.96\n",
      "Fold 3 | Epoch 9 | Train Loss: 0.5482 | Val Loss: 0.2504 | Train Acc: 0.95 | Val Acc: 0.95\n",
      "Fold 3 | Epoch 10 | Train Loss: 0.5337 | Val Loss: 0.2401 | Train Acc: 0.96 | Val Acc: 0.95\n",
      "Fold 3 | Epoch 11 | Train Loss: 0.5299 | Val Loss: 0.2827 | Train Acc: 0.96 | Val Acc: 0.93\n",
      "Fold 3 | Epoch 12 | Train Loss: 0.5442 | Val Loss: 0.2206 | Train Acc: 0.95 | Val Acc: 0.96\n",
      "Fold 3 | Epoch 13 | Train Loss: 0.5221 | Val Loss: 0.2067 | Train Acc: 0.96 | Val Acc: 0.96\n",
      "Fold 3 | Epoch 14 | Train Loss: 0.5316 | Val Loss: 0.2164 | Train Acc: 0.96 | Val Acc: 0.96\n",
      "Fold 3 | Epoch 15 | Train Loss: 0.5183 | Val Loss: 0.1919 | Train Acc: 0.96 | Val Acc: 0.96\n",
      "Fold 3 | Epoch 16 | Train Loss: 0.5279 | Val Loss: 0.1971 | Train Acc: 0.96 | Val Acc: 0.96\n",
      "Fold 3 | Epoch 17 | Train Loss: 0.5199 | Val Loss: 0.2104 | Train Acc: 0.96 | Val Acc: 0.96\n",
      "Fold 3 | Epoch 18 | Train Loss: 0.5096 | Val Loss: 0.2192 | Train Acc: 0.97 | Val Acc: 0.96\n",
      "Fold 3 | Epoch 19 | Train Loss: 0.5073 | Val Loss: 0.1803 | Train Acc: 0.97 | Val Acc: 0.97\n",
      "Fold 3 | Epoch 20 | Train Loss: 0.5047 | Val Loss: 0.1708 | Train Acc: 0.97 | Val Acc: 0.97\n",
      "\n",
      "Starting Fold 4\n",
      "Fold 4 | Epoch 1 | Train Loss: 0.9258 | Val Loss: 0.4105 | Train Acc: 0.72 | Val Acc: 0.89\n",
      "Fold 4 | Epoch 2 | Train Loss: 0.6445 | Val Loss: 0.3135 | Train Acc: 0.91 | Val Acc: 0.93\n",
      "Fold 4 | Epoch 3 | Train Loss: 0.6052 | Val Loss: 0.2698 | Train Acc: 0.93 | Val Acc: 0.94\n",
      "Fold 4 | Epoch 4 | Train Loss: 0.5789 | Val Loss: 0.2502 | Train Acc: 0.94 | Val Acc: 0.95\n",
      "Fold 4 | Epoch 5 | Train Loss: 0.5517 | Val Loss: 0.2115 | Train Acc: 0.95 | Val Acc: 0.96\n",
      "Fold 4 | Epoch 6 | Train Loss: 0.5419 | Val Loss: 0.1882 | Train Acc: 0.95 | Val Acc: 0.97\n",
      "Fold 4 | Epoch 7 | Train Loss: 0.5337 | Val Loss: 0.2081 | Train Acc: 0.96 | Val Acc: 0.96\n",
      "Fold 4 | Epoch 8 | Train Loss: 0.5260 | Val Loss: 0.1969 | Train Acc: 0.96 | Val Acc: 0.96\n",
      "Fold 4 | Epoch 9 | Train Loss: 0.5306 | Val Loss: 0.1738 | Train Acc: 0.96 | Val Acc: 0.97\n",
      "Fold 4 | Epoch 10 | Train Loss: 0.5201 | Val Loss: 0.1712 | Train Acc: 0.96 | Val Acc: 0.97\n",
      "Fold 4 | Epoch 11 | Train Loss: 0.5122 | Val Loss: 0.2045 | Train Acc: 0.97 | Val Acc: 0.97\n",
      "Fold 4 | Epoch 12 | Train Loss: 0.5416 | Val Loss: 0.1933 | Train Acc: 0.96 | Val Acc: 0.96\n",
      "Fold 4 | Epoch 13 | Train Loss: 0.5222 | Val Loss: 0.1921 | Train Acc: 0.96 | Val Acc: 0.97\n",
      "Fold 4 | Epoch 14 | Train Loss: 0.5147 | Val Loss: 0.1902 | Train Acc: 0.97 | Val Acc: 0.96\n",
      "Fold 4 | Epoch 15 | Train Loss: 0.5137 | Val Loss: 0.2050 | Train Acc: 0.97 | Val Acc: 0.96\n",
      "Fold 4 | Epoch 16 | Train Loss: 0.5190 | Val Loss: 0.1776 | Train Acc: 0.96 | Val Acc: 0.98\n",
      "Fold 4 | Epoch 17 | Train Loss: 0.5134 | Val Loss: 0.1613 | Train Acc: 0.97 | Val Acc: 0.97\n",
      "Fold 4 | Epoch 18 | Train Loss: 0.5001 | Val Loss: 0.1631 | Train Acc: 0.97 | Val Acc: 0.98\n",
      "Fold 4 | Epoch 19 | Train Loss: 0.5063 | Val Loss: 0.1733 | Train Acc: 0.97 | Val Acc: 0.97\n",
      "Fold 4 | Epoch 20 | Train Loss: 0.4969 | Val Loss: 0.1528 | Train Acc: 0.97 | Val Acc: 0.98\n",
      "\n",
      "All folds complete. You can now launch TensorBoard:\n"
     ]
    }
   ],
   "source": [
    "import torch.nn.functional as F\n",
    "from orguel_ml import GraphGPSNetwork\n",
    "from torch_geometric.loader import DataLoader\n",
    "from torch.utils.tensorboard import SummaryWriter\n",
    "\n",
    "for fold, (train_indices, validation_indices) in enumerate(kf.split(dataset)):\n",
    "    print(f\"\\nStarting Fold {fold}\")\n",
    "    writer = SummaryWriter(log_dir=f\"runs/kfold/fold_{fold}\")\n",
    "\n",
    "    trainData = [dataset[i] for i in train_indices]\n",
    "    validationData = [dataset[i] for i in validation_indices]\n",
    "\n",
    "    trainLoader = DataLoader(trainData, batch_size=batch_size, shuffle=True)\n",
    "    validationLoader = DataLoader(validationData, batch_size=batch_size)\n",
    "    \n",
    "    model = GraphGPSNetwork().to(device)\n",
    "    optimizer = torch.optim.Adam(model.parameters(), lr=learning_rate, weight_decay=1e-4)\n",
    "    scheduler = torch.optim.lr_scheduler.CyclicLR(optimizer, base_lr=0.001, max_lr=0.01, step_size_up=5, mode=\"triangular\")\n",
    "    \n",
    "    # Train\n",
    "    for epoch in range(epochs):\n",
    "        model.train()\n",
    "        acumulateLoss = 0\n",
    "        correctPredictions = 0\n",
    "        totalNodesProcessed = 0\n",
    "\n",
    "        for batch in trainLoader:\n",
    "            batch = batch.to(device)\n",
    "            optimizer.zero_grad()\n",
    "            output = model(batch)\n",
    "            loss = F.cross_entropy(output, batch.y, weight=class_weights, label_smoothing=0.1)\n",
    "            loss.backward()\n",
    "            optimizer.step()\n",
    "            scheduler.step()\n",
    "\n",
    "            acumulateLoss += loss.item()\n",
    "            prediction = output.argmax(dim=1)\n",
    "            correctPredictions += (prediction == batch.y).sum().item()\n",
    "            totalNodesProcessed += batch.num_nodes\n",
    "\n",
    "        trainAccuracy = correctPredictions / totalNodesProcessed\n",
    "        averageTrainLoss = acumulateLoss / len(trainLoader)\n",
    "\n",
    "        # Validation\n",
    "        model.eval()\n",
    "        acumulateLoss = 0\n",
    "        correctPredictions = 0\n",
    "        totalNodesProcessed = 0\n",
    "\n",
    "        with torch.no_grad():\n",
    "            for batch in validationLoader:\n",
    "                batch = batch.to(device)\n",
    "                output = model(batch)\n",
    "                loss = F.cross_entropy(output, batch.y, weight=class_weights)\n",
    "                acumulateLoss += loss.item()\n",
    "                prediction = output.argmax(dim=1)\n",
    "                correctPredictions += (prediction == batch.y).sum().item()\n",
    "                totalNodesProcessed += batch.num_nodes\n",
    "\n",
    "        validationAccuracy = correctPredictions / totalNodesProcessed\n",
    "        averageValidationLoss = acumulateLoss / len(validationLoader)\n",
    "\n",
    "        # Logging\n",
    "        writer.add_scalar(\"Loss/train\", averageTrainLoss, epoch)\n",
    "        writer.add_scalar(\"Loss/val\", averageValidationLoss, epoch)\n",
    "        writer.add_scalar(\"Accuracy/train\", trainAccuracy, epoch)\n",
    "        writer.add_scalar(\"Accuracy/val\", validationAccuracy, epoch)\n",
    "        print(f\"Fold {fold} | Epoch {epoch+1} | Train Loss: {averageTrainLoss:.4f} | Val Loss: {averageValidationLoss:.4f} | Train Acc: {trainAccuracy:.2f} | Val Acc: {validationAccuracy:.2f}\")\n",
    "\n",
    "    writer.close()\n",
    "\n",
    "print(\"\\nAll folds complete. You can now launch TensorBoard:\")"
   ]
  },
  {
   "cell_type": "code",
   "execution_count": 7,
   "metadata": {},
   "outputs": [
    {
     "name": "stdout",
     "output_type": "stream",
     "text": [
      "The tensorboard extension is already loaded. To reload it, use:\n",
      "  %reload_ext tensorboard\n"
     ]
    },
    {
     "data": {
      "text/plain": [
       "Reusing TensorBoard on port 6007 (pid 6211), started 0:00:08 ago. (Use '!kill 6211' to kill it.)"
      ]
     },
     "metadata": {},
     "output_type": "display_data"
    },
    {
     "data": {
      "text/html": [
       "\n",
       "      <iframe id=\"tensorboard-frame-bf556605fbd6ac30\" width=\"100%\" height=\"800\" frameborder=\"0\">\n",
       "      </iframe>\n",
       "      <script>\n",
       "        (function() {\n",
       "          const frame = document.getElementById(\"tensorboard-frame-bf556605fbd6ac30\");\n",
       "          const url = new URL(\"http://localhost\");\n",
       "          const port = 6007;\n",
       "          if (port) {\n",
       "            url.port = port;\n",
       "          }\n",
       "          frame.src = url;\n",
       "        })();\n",
       "      </script>\n",
       "    "
      ],
      "text/plain": [
       "<IPython.core.display.HTML object>"
      ]
     },
     "metadata": {},
     "output_type": "display_data"
    }
   ],
   "source": [
    "# Start tensorboard\n",
    "%load_ext tensorboard\n",
    "%tensorboard --logdir runs/kfold/"
   ]
  },
  {
   "cell_type": "code",
   "execution_count": 6,
   "metadata": {},
   "outputs": [
    {
     "name": "stdout",
     "output_type": "stream",
     "text": [
      "Model saved to /home/rafael/Área de trabalho/Linux/GraphGPSNetwork.pt\n"
     ]
    }
   ],
   "source": [
    "# Save model to a file\n",
    "save_path = \"/home/rafael/Área de trabalho/Linux/GraphGPSNetwork.pt\"\n",
    "torch.save(model.state_dict(), save_path)\n",
    "\n",
    "print(f\"Model saved to {save_path}\")"
   ]
  },
  {
   "cell_type": "code",
   "execution_count": 7,
   "metadata": {},
   "outputs": [
    {
     "name": "stdout",
     "output_type": "stream",
     "text": [
      "Counter({0: 152448, 1: 133504, 3: 130224, 2: 7648})\n"
     ]
    }
   ],
   "source": [
    "from collections import Counter\n",
    "\n",
    "# number of labels of each class\n",
    "labels = [data.y.tolist() for data in dataset]\n",
    "flat_labels = [item for sublist in labels for item in sublist]\n",
    "print(Counter(flat_labels))"
   ]
  }
 ],
 "metadata": {
  "kernelspec": {
   "display_name": "dl_torch",
   "language": "python",
   "name": "python3"
  },
  "language_info": {
   "codemirror_mode": {
    "name": "ipython",
    "version": 3
   },
   "file_extension": ".py",
   "mimetype": "text/x-python",
   "name": "python",
   "nbconvert_exporter": "python",
   "pygments_lexer": "ipython3",
   "version": "3.10.16"
  }
 },
 "nbformat": 4,
 "nbformat_minor": 2
}
