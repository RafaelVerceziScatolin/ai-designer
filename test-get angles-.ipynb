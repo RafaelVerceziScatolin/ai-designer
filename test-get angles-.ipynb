{
 "cells": [
  {
   "cell_type": "code",
   "execution_count": 1,
   "id": "57c1ffa2",
   "metadata": {},
   "outputs": [],
   "source": [
    "\n",
    "from enum import IntEnum\n",
    "\n",
    "class _dataframe_field(IntEnum):\n",
    "    original_index = 0\n",
    "    line_flag = 1\n",
    "    circle_flag = 2\n",
    "    arc_flag = 3\n",
    "    point_flag = 4\n",
    "    start_x = 5\n",
    "    start_y = 6\n",
    "    end_x = 7\n",
    "    end_y = 8\n",
    "    mid_x = 9\n",
    "    mid_y = 10\n",
    "    angle = 11\n",
    "    length = perimeter = 12\n",
    "    d_x = 13\n",
    "    d_y = 14\n",
    "    u_x = 15\n",
    "    u_y = 16\n",
    "    n_x = 17\n",
    "    n_y = 18\n",
    "    center_x = 19\n",
    "    center_y = 20\n",
    "    radius = 21\n",
    "    start_angle = 22\n",
    "    end_angle = 23\n",
    "    arc_span = 24\n",
    "    \n",
    "    @classmethod\n",
    "    def count(cls) -> int: return len(cls)\n",
    "\n",
    "class _edge_attribute(IntEnum):\n",
    "    parallel = 0\n",
    "    colinear = 1\n",
    "    perpendicular_distance = 2\n",
    "    overlap_ratio = 3\n",
    "    oblique = 4\n",
    "    intersection_min = 5\n",
    "    intersection_max = 6\n",
    "    angle_difference_sin = 7\n",
    "    angle_difference_cos_min = 8\n",
    "    angle_difference_cos_max = 9\n",
    "    \n",
    "    @classmethod\n",
    "    def count(cls) -> int: return len(cls)\n",
    "\n",
    "from typing import Tuple\n",
    "import math\n",
    "import torch\n",
    "from torch import Tensor\n",
    "from torch import newaxis\n",
    "\n",
    "@staticmethod\n",
    "def create_obbs(elements:Tensor, width:float, length_extension:float=0.0) -> Tuple[Tensor, Tensor]:\n",
    "    \n",
    "    F = _dataframe_field\n",
    "    n_elements = elements.size(1)\n",
    "    \n",
    "    # Filter supported elements\n",
    "    is_line = elements[F.line_flag] == 1\n",
    "    is_circle_or_arc = (elements[F.circle_flag] == 1) | (elements[F.arc_flag] == 1)\n",
    "    \n",
    "    filter = is_line | is_circle_or_arc\n",
    "    \n",
    "    obbs = torch.empty((n_elements, 4, 2), dtype=torch.float32)\n",
    "    \n",
    "    if is_line.any():\n",
    "        # === LINE ELEMENTS ===\n",
    "        lines = elements[:, is_line]\n",
    "        \n",
    "        # Half dimensions\n",
    "        half_width = width / 2\n",
    "        half_length = (lines[F.length] + length_extension) / 2\n",
    "        \n",
    "        # Compute displacements\n",
    "        dx_length = lines[F.u_x] * half_length\n",
    "        dy_length = lines[F.u_y] * half_length\n",
    "        dx_width = lines[F.n_x] * half_width\n",
    "        dy_width = lines[F.n_y] * half_width\n",
    "        \n",
    "        # Corners (4 per OBB)\n",
    "        corner1 = torch.stack([lines[F.mid_x] - dx_length - dx_width,\n",
    "                                lines[F.mid_y] - dy_length - dy_width], dim=1)\n",
    "        \n",
    "        corner2 = torch.stack([lines[F.mid_x] + dx_length - dx_width,\n",
    "                                lines[F.mid_y] + dy_length - dy_width], dim=1)\n",
    "        \n",
    "        corner3 = torch.stack([lines[F.mid_x] + dx_length + dx_width,\n",
    "                                lines[F.mid_y] + dy_length + dy_width], dim=1)\n",
    "        \n",
    "        corner4 = torch.stack([lines[F.mid_x] - dx_length + dx_width,\n",
    "                                lines[F.mid_y] - dy_length + dy_width], dim=1)\n",
    "        \n",
    "        # Stack corners\n",
    "        obbs[is_line] = torch.stack([corner1, corner2, corner3, corner4], dim=1)\n",
    "    \n",
    "    if is_circle_or_arc.any():\n",
    "        # === ARC ELEMENTS ===\n",
    "        arcs = elements[:, is_circle_or_arc]\n",
    "        \n",
    "        margin = width / 2\n",
    "        \n",
    "        u_x, u_y, n_x, n_y = arcs[F.u_x], arcs[F.u_y], arcs[F.n_x], arcs[F.n_y]\n",
    "        arc_span, radius = arcs[F.arc_span], arcs[F.radius]\n",
    "        \n",
    "        dx_length = torch.where(arc_span < torch.pi, n_x * (radius * torch.sin(arc_span/2) + margin), n_x * (radius + margin))\n",
    "        dy_length = torch.where(arc_span < torch.pi, n_y * (radius * torch.sin(arc_span/2) + margin), n_y * (radius + margin))\n",
    "        \n",
    "        dx_width = u_x * (radius * (1 - torch.cos(arc_span/2)) + margin)\n",
    "        dy_width = u_y * (radius * (1 - torch.cos(arc_span/2)) + margin)\n",
    "        \n",
    "        dx_margin = u_x * margin\n",
    "        dy_margin = u_y * margin\n",
    "        \n",
    "        corner1 = torch.stack([arcs[F.mid_x] - dx_length + dx_margin,\n",
    "                                arcs[F.mid_y] - dy_length + dy_margin], dim=1)\n",
    "        \n",
    "        corner2 = torch.stack([arcs[F.mid_x] + dx_length + dx_margin,\n",
    "                                arcs[F.mid_y] + dy_length + dy_margin], dim=1)\n",
    "        \n",
    "        corner3 = torch.stack([arcs[F.mid_x] + dx_length - dx_width,\n",
    "                                arcs[F.mid_y] + dy_length - dy_width], dim=1)\n",
    "        \n",
    "        corner4 = torch.stack([arcs[F.mid_x] - dx_length - dx_width,\n",
    "                                arcs[F.mid_y] - dy_length - dy_width], dim=1)\n",
    "        \n",
    "        obbs[is_circle_or_arc] = torch.stack([corner1, corner2, corner3, corner4], dim=1)\n",
    "    \n",
    "    elements = elements[:, filter]\n",
    "    obbs = obbs[filter]\n",
    "    \n",
    "    return elements, obbs # Shape obbs (n_elements, 4, 2)\n",
    "\n",
    "@staticmethod\n",
    "def find_overlaping_pairs(elements:Tensor, obbs:Tensor) -> Tuple[Tensor, Tensor]:\n",
    "    \n",
    "    F = _dataframe_field\n",
    "    \n",
    "    # Compute AABBs (Axis-Aligned Bounding Boxes)\n",
    "    min_x = obbs[..., 0].min(dim=1).values\n",
    "    max_x = obbs[..., 0].max(dim=1).values\n",
    "    min_y = obbs[..., 1].min(dim=1).values\n",
    "    max_y = obbs[..., 1].max(dim=1).values\n",
    "    \n",
    "    # Computing AABB intersection matrix\n",
    "    mask_x = (min_x[:, newaxis] <= max_x[newaxis, :]) & (min_x[newaxis, :] <= max_x[:, newaxis])\n",
    "    mask_y = (min_y[:, newaxis] <= max_y[newaxis, :]) & (min_y[newaxis, :] <= max_y[:, newaxis])\n",
    "    aabb_overlap = mask_x & mask_y\n",
    "    \n",
    "    # Candidate pairs\n",
    "    pairs = torch.argwhere(aabb_overlap) # shape (n, 2)\n",
    "    i, j = pairs[:, 0], pairs[:, 1]\n",
    "    \n",
    "    # Remove self-comparisons and duplicates\n",
    "    mask = (i < j)\n",
    "    i, j = i[mask], j[mask]\n",
    "    \n",
    "    # Get OBBs for pairs\n",
    "    obbs_i, obbs_j = obbs[i], obbs[j]\n",
    "    \n",
    "    # axes per box\n",
    "    axes_i = torch.stack([elements[F.u_x, i], elements[F.u_y, i], elements[F.n_x, i], elements[F.n_y, i]], dim=1).reshape(-1,2,2)\n",
    "    axes_j = torch.stack([elements[F.u_x, j], elements[F.u_y, j], elements[F.n_x, j], elements[F.n_y, j]], dim=1).reshape(-1,2,2)\n",
    "    axes = torch.cat([axes_i, axes_j], axis=1) # shape (n_pairs, 4, 2)\n",
    "    \n",
    "    # Project corners onto axes\n",
    "    projections_i = torch.einsum('nij,nkj->nik', axes, obbs_i) # Shape (n_pairs, 4, 4)\n",
    "    projections_j = torch.einsum('nij,nkj->nik', axes, obbs_j)\n",
    "    \n",
    "    # Interval comparisons on each axis\n",
    "    min_i = projections_i.min(dim=2).values\n",
    "    max_i = projections_i.max(dim=2).values\n",
    "    min_j = projections_j.min(dim=2).values\n",
    "    max_j = projections_j.max(dim=2).values\n",
    "    \n",
    "    separating_axis = (max_i < min_j) | (max_j < min_i) # True if a separating axis exists\n",
    "    obb_overlap = ~torch.any(separating_axis, dim=1) # True if overlap\n",
    "    \n",
    "    return i[obb_overlap], j[obb_overlap]\n",
    "\n",
    "@staticmethod\n",
    "def get_overlap_ratios(lines_a:Tensor, lines_b:Tensor) -> Tuple[Tensor, Tensor, Tensor]:\n",
    "    \n",
    "    F = _dataframe_field\n",
    "    \n",
    "    # Gather line info\n",
    "    start_xa, start_ya = lines_a[F.start_x], lines_a[F.start_y]\n",
    "    u_xa, u_ya = lines_a[F.u_x], lines_a[F.u_y]\n",
    "    length_a = lines_a[F.length]\n",
    "\n",
    "    start_xb, start_yb = lines_b[F.start_x], lines_b[F.start_y]\n",
    "    end_xb, end_yb = lines_b[F.end_x], lines_b[F.end_y]\n",
    "    mid_xb, mid_yb = lines_b[F.mid_x], lines_b[F.mid_y]\n",
    "    u_xb, u_yb = lines_b[F.u_x], lines_b[F.u_y]\n",
    "    length_b = lines_b[F.length]\n",
    "    \n",
    "    # Project B's endpoints onto A\n",
    "    t1 = (start_xb - start_xa) * u_xa + (start_yb - start_ya) * u_ya\n",
    "    t2 = (end_xb - start_xa) * u_xa + (end_yb - start_ya) * u_ya\n",
    "\n",
    "    # Get the projected range\n",
    "    tmin, tmax = torch.minimum(t1, t2), torch.maximum(t1, t2)\n",
    "    \n",
    "    # Clip the projection range within [0, length_a]\n",
    "    overlap_start = torch.clamp(tmin, min=0)\n",
    "    overlap_end = torch.clamp(tmax, max=length_a)\n",
    "    overlap_mid = (overlap_start + overlap_end) / 2\n",
    "    \n",
    "    # Overlap ratio\n",
    "    overlap_length = torch.clamp(overlap_end - overlap_start, min=0)\n",
    "    overlap_a_b = overlap_length / length_a\n",
    "    overlap_b_a = overlap_length / length_b\n",
    "    \n",
    "    # Midpoint of projected overlap on line A\n",
    "    overlap_mid_xa = start_xa + u_xa * overlap_mid\n",
    "    overlap_mid_ya = start_ya + u_ya * overlap_mid\n",
    "    \n",
    "    # Perpendicular distance to line B\n",
    "    dx = overlap_mid_xa - mid_xb\n",
    "    dy = overlap_mid_ya - mid_yb\n",
    "    \n",
    "    distance = (dx * -u_yb + dy * u_xb).abs() # From overlaping segment midpoint on line_a to line_b\n",
    "    \n",
    "    return overlap_a_b, overlap_b_a, distance # Each: shape (n_pairs,)\n"
   ]
  },
  {
   "cell_type": "code",
   "execution_count": 2,
   "id": "8fc3c4f6",
   "metadata": {},
   "outputs": [],
   "source": [
    "import ezdxf\n",
    "\n",
    "dxf_file = \"C:\\\\Users\\\\Rafael\\\\Desktop\\\\test.dxf\"\n",
    "\n",
    "doc = ezdxf.readfile(dxf_file)\n",
    "modelSpace = doc.modelspace()\n",
    "\n",
    "entities = [entity for entity in modelSpace if entity.dxftype() in ('LINE', 'POINT', 'CIRCLE', 'ARC')]\n",
    "\n",
    "F = _dataframe_field\n",
    "dataframe = torch.zeros((F.count(), len(entities)), dtype=torch.float32)\n",
    "\n",
    "for i, entity in enumerate(entities):\n",
    "    dataframe[F.original_index,i] = i\n",
    "    entity_type = entity.dxftype()\n",
    "    \n",
    "    if entity_type == 'LINE':\n",
    "        dataframe[F.line_flag,i] = 1\n",
    "        dataframe[F.start_x,i], dataframe[F.start_y,i], _ = entity.dxf.start\n",
    "        dataframe[F.end_x,i], dataframe[F.end_y,i], _ = entity.dxf.end\n",
    "    \n",
    "    elif entity_type == 'POINT':\n",
    "        dataframe[F.point_flag,i] = 1\n",
    "        dataframe[F.mid_x,i], dataframe[F.mid_y,i], _ = entity.dxf.location\n",
    "        \n",
    "    elif entity_type in ('CIRCLE', 'ARC'):\n",
    "        dataframe[F.circle_flag,i] = 1 if entity_type == 'CIRCLE' else 0\n",
    "        dataframe[F.arc_flag,i] = 1 if entity_type == 'ARC' else 0\n",
    "        dataframe[F.radius,i] = entity.dxf.radius\n",
    "        dataframe[F.center_x,i], dataframe[F.center_y,i], _ = entity.dxf.center\n",
    "        dataframe[F.start_angle,i] = 0 if entity_type == 'CIRCLE' else entity.dxf.start_angle\n",
    "        dataframe[F.end_angle,i] = 360 if entity_type == 'CIRCLE' else entity.dxf.end_angle\n",
    "        \n",
    "# === LINES ===\n",
    "is_line = dataframe[F.line_flag] == 1\n",
    "\n",
    "min_length = 1e-3\n",
    "\n",
    "dataframe[F.mid_x] = torch.where(is_line, (dataframe[F.start_x] + dataframe[F.end_x]) / 2, dataframe[F.mid_x])\n",
    "dataframe[F.mid_y] = torch.where(is_line, (dataframe[F.start_y] + dataframe[F.end_y]) / 2, dataframe[F.mid_y])\n",
    "\n",
    "dataframe[F.d_x] = torch.where(is_line, dataframe[F.end_x] - dataframe[F.start_x], dataframe[F.d_x])\n",
    "dataframe[F.d_y] = torch.where(is_line, dataframe[F.end_y] - dataframe[F.start_y], dataframe[F.d_y])\n",
    "dataframe[F.angle] = torch.where(is_line, torch.arctan2(dataframe[F.d_y], dataframe[F.d_x]) % (2*torch.pi), dataframe[F.angle])\n",
    "dataframe[F.length] = torch.where(is_line, torch.sqrt(dataframe[F.d_x]**2 + dataframe[F.d_y]**2), dataframe[F.length])\n",
    "\n",
    "is_line &= (dataframe[F.length] > min_length)\n",
    "\n",
    "# Unit direction and unit perpendicular vectors\n",
    "dataframe[F.u_x] = torch.where(is_line, dataframe[F.d_x] / dataframe[F.length], dataframe[F.u_x])\n",
    "dataframe[F.u_y] = torch.where(is_line, dataframe[F.d_y] / dataframe[F.length], dataframe[F.u_y])\n",
    "dataframe[F.n_x] = torch.where(is_line, -dataframe[F.u_y], dataframe[F.n_x])\n",
    "dataframe[F.n_y] = torch.where(is_line, dataframe[F.u_x], dataframe[F.n_y])\n",
    "\n",
    "# === POINTS ===\n",
    "is_point = dataframe[F.point_flag] == 1\n",
    "\n",
    "for field in [F.start_x, F.end_x]: dataframe[field] = torch.where(is_point, dataframe[F.mid_x], dataframe[field])\n",
    "for field in [F.start_y, F.end_y]: dataframe[field] = torch.where(is_point, dataframe[F.mid_y], dataframe[field])\n",
    "\n",
    "is_line_point = (dataframe[F.line_flag] == 1) & (dataframe[F.length] <= min_length)\n",
    "\n",
    "dataframe[F.point_flag] = torch.where(is_line_point, 1, dataframe[F.point_flag])\n",
    "dataframe[F.line_flag] = torch.where(is_line_point, 0, dataframe[F.line_flag])\n",
    "\n",
    "# === CIRCLES AND ARCS ===\n",
    "is_circle = dataframe[F.circle_flag] == 1\n",
    "is_arc = dataframe[F.arc_flag] == 1\n",
    "is_circle_or_arc = is_circle | is_arc\n",
    "\n",
    "dataframe[F.start_angle] = torch.where(is_circle_or_arc, torch.deg2rad(dataframe[F.start_angle]), dataframe[F.start_angle])\n",
    "dataframe[F.end_angle] = torch.where(is_circle_or_arc, torch.deg2rad(dataframe[F.end_angle]), dataframe[F.end_angle])\n",
    "\n",
    "dataframe[F.arc_span] = torch.where(is_circle, 2 * torch.pi, dataframe[F.arc_span])\n",
    "dataframe[F.arc_span] = torch.where(is_arc, ((dataframe[F.end_angle] - dataframe[F.start_angle]) % (2*torch.pi)), dataframe[F.arc_span])\n",
    "\n",
    "mid_angle = torch.where(is_circle_or_arc, (dataframe[F.start_angle] + dataframe[F.arc_span] / 2) % (2*torch.pi), 0)\n",
    "\n",
    "dataframe[F.start_x] = torch.where(is_circle_or_arc, dataframe[F.center_x] + dataframe[F.radius] * torch.cos(dataframe[F.start_angle]), dataframe[F.start_x])\n",
    "dataframe[F.start_y] = torch.where(is_circle_or_arc, dataframe[F.center_y] + dataframe[F.radius] * torch.sin(dataframe[F.start_angle]), dataframe[F.start_y])\n",
    "dataframe[F.end_x] = torch.where(is_circle_or_arc, dataframe[F.center_x] + dataframe[F.radius] * torch.cos(dataframe[F.end_angle]), dataframe[F.end_x])\n",
    "dataframe[F.end_y] = torch.where(is_circle_or_arc, dataframe[F.center_y] + dataframe[F.radius] * torch.sin(dataframe[F.end_angle]), dataframe[F.end_y])\n",
    "dataframe[F.mid_x] = torch.where(is_circle_or_arc, dataframe[F.center_x] + dataframe[F.radius] * torch.cos(mid_angle), dataframe[F.mid_x])\n",
    "dataframe[F.mid_y] = torch.where(is_circle_or_arc, dataframe[F.center_y] + dataframe[F.radius] * torch.sin(mid_angle), dataframe[F.mid_y])\n",
    "\n",
    "dataframe[F.u_x] = torch.where(is_circle_or_arc, (dataframe[F.mid_x] - dataframe[F.center_x]) / dataframe[F.radius], dataframe[F.u_x])\n",
    "dataframe[F.u_y] = torch.where(is_circle_or_arc, (dataframe[F.mid_y] - dataframe[F.center_y]) / dataframe[F.radius], dataframe[F.u_y])\n",
    "dataframe[F.n_x] = torch.where(is_circle_or_arc, -dataframe[F.u_y], dataframe[F.n_x])\n",
    "dataframe[F.n_y] = torch.where(is_circle_or_arc, dataframe[F.u_x], dataframe[F.n_y])\n",
    "\n",
    "dataframe[F.perimeter] = torch.where(is_circle_or_arc, dataframe[F.radius] * dataframe[F.arc_span], dataframe[F.perimeter])"
   ]
  },
  {
   "cell_type": "code",
   "execution_count": 3,
   "id": "fd93ba3f",
   "metadata": {},
   "outputs": [],
   "source": [
    "line_obb_width = 2\n",
    "parallel_angle_tolerance = 0.02\n",
    "\n",
    "angle_tolerance = None"
   ]
  },
  {
   "cell_type": "code",
   "execution_count": 4,
   "id": "63806b11",
   "metadata": {},
   "outputs": [
    {
     "data": {
      "text/plain": [
       "'\\n# Compute absolute angle difference for line-line pairs in [0, pi]\\nline_line_pair = (elements_a[F.line_flag] == 1) & (elements_b[F.line_flag] == 1)\\nangle_difference = torch.where(line_line_pair, torch.abs(elements_a[F.angle] - elements_b[F.angle]), 0)\\nangle_difference = torch.where(line_line_pair, torch.minimum(angle_difference, torch.pi - angle_difference), angle_difference)\\n\\n# Keep only pairs with angle difference above threshold\\noblique = torch.where(line_line_pair, angle_difference > angle_tolerance, True)\\nelements_a, elements_b = elements_a[:, oblique], elements_b[:, oblique]\\n'"
      ]
     },
     "execution_count": 4,
     "metadata": {},
     "output_type": "execute_result"
    }
   ],
   "source": [
    "obb_width = line_obb_width\n",
    "angle_tolerance = math.radians(angle_tolerance or parallel_angle_tolerance)\n",
    "\n",
    "# Compute OBBs\n",
    "elements, obbs = create_obbs(elements=dataframe, width=obb_width, length_extension=obb_width) # Shape obbs (n_lines, 4, 2)\n",
    "\n",
    "# Get the pairs of overlapping obbs\n",
    "i, j = find_overlaping_pairs(elements, obbs)\n",
    "elements_a, elements_b = elements[:, i], elements[:, j]\n",
    "'''\n",
    "# Compute absolute angle difference for line-line pairs in [0, pi]\n",
    "line_line_pair = (elements_a[F.line_flag] == 1) & (elements_b[F.line_flag] == 1)\n",
    "angle_difference = torch.where(line_line_pair, torch.abs(elements_a[F.angle] - elements_b[F.angle]), 0)\n",
    "angle_difference = torch.where(line_line_pair, torch.minimum(angle_difference, torch.pi - angle_difference), angle_difference)\n",
    "\n",
    "# Keep only pairs with angle difference above threshold\n",
    "oblique = torch.where(line_line_pair, angle_difference > angle_tolerance, True)\n",
    "elements_a, elements_b = elements_a[:, oblique], elements_b[:, oblique]\n",
    "'''"
   ]
  },
  {
   "cell_type": "code",
   "execution_count": 5,
   "id": "1cd46f0e",
   "metadata": {},
   "outputs": [],
   "source": [
    "n_pairs = elements_a.size(1)\n",
    "\n",
    "# Filter supported pairs\n",
    "is_line_a = elements_a[F.line_flag] == 1\n",
    "is_line_b = elements_b[F.line_flag] == 1\n",
    "is_arc_a = (elements_a[F.circle_flag] == 1) | (elements_a[F.arc_flag] == 1)\n",
    "is_arc_b = (elements_b[F.circle_flag] == 1) | (elements_b[F.arc_flag] == 1)\n",
    "\n",
    "line_line_pair = is_line_a & is_line_b\n",
    "line_arc_pair, arc_line_pair = is_line_a & is_arc_b, is_arc_a & is_line_b\n",
    "\n",
    "filter = line_line_pair | (line_arc_pair | arc_line_pair)"
   ]
  },
  {
   "cell_type": "code",
   "execution_count": 6,
   "id": "9adcf3d5",
   "metadata": {},
   "outputs": [],
   "source": [
    "intersection_a_min = torch.empty(n_pairs, dtype=torch.float32)\n",
    "intersection_a_max = torch.empty(n_pairs, dtype=torch.float32)\n",
    "intersection_b_min = torch.empty(n_pairs, dtype=torch.float32)\n",
    "intersection_b_max = torch.empty(n_pairs, dtype=torch.float32)\n",
    "\n",
    "angle_difference_b_a_sin_min = torch.empty(n_pairs, dtype=torch.float32)\n",
    "angle_difference_b_a_cos_min = torch.empty(n_pairs, dtype=torch.float32)\n",
    "angle_difference_b_a_sin_max = torch.empty(n_pairs, dtype=torch.float32)\n",
    "angle_difference_b_a_cos_max = torch.empty(n_pairs, dtype=torch.float32)"
   ]
  },
  {
   "cell_type": "code",
   "execution_count": 7,
   "id": "85852c10",
   "metadata": {},
   "outputs": [
    {
     "data": {
      "text/plain": [
       "(tensor([True, True, True, True, True, True, True, True, True, True, True, True,\n",
       "         True, True, True, True, True, True, True, True, True, True]),\n",
       " tensor([False, False, False, False, False, False, False,  True, False, False,\n",
       "         False, False, False, False, False, False, False, False, False, False,\n",
       "          True,  True]))"
      ]
     },
     "execution_count": 7,
     "metadata": {},
     "output_type": "execute_result"
    }
   ],
   "source": [
    "filter, line_line_pair"
   ]
  },
  {
   "cell_type": "code",
   "execution_count": 8,
   "id": "5e94aab0",
   "metadata": {},
   "outputs": [],
   "source": [
    "lines_a = elements_a[:, line_line_pair]\n",
    "lines_b = elements_b[:, line_line_pair]"
   ]
  },
  {
   "cell_type": "code",
   "execution_count": 9,
   "id": "fad9202b",
   "metadata": {},
   "outputs": [
    {
     "data": {
      "text/plain": [
       "tensor([5.2315, 1.5708, 0.0000])"
      ]
     },
     "execution_count": 9,
     "metadata": {},
     "output_type": "execute_result"
    }
   ],
   "source": [
    "# get angle difference sin and cos\n",
    "angle_difference_b_a = (lines_b[F.angle] - lines_a[F.angle]) % (2*torch.pi)\n",
    "angle_difference_b_a"
   ]
  },
  {
   "cell_type": "code",
   "execution_count": 10,
   "id": "f97b4045",
   "metadata": {},
   "outputs": [
    {
     "data": {
      "text/plain": [
       "tensor([1.0517, 1.5708, 0.0000])"
      ]
     },
     "execution_count": 10,
     "metadata": {},
     "output_type": "execute_result"
    }
   ],
   "source": [
    "min_difference = angle_difference_b_a % torch.pi\n",
    "min_difference = torch.minimum(min_difference, torch.pi - min_difference)\n",
    "min_difference"
   ]
  },
  {
   "cell_type": "code",
   "execution_count": 11,
   "id": "3092b00d",
   "metadata": {},
   "outputs": [
    {
     "data": {
      "text/plain": [
       "tensor([ True,  True, False])"
      ]
     },
     "execution_count": 11,
     "metadata": {},
     "output_type": "execute_result"
    }
   ],
   "source": [
    "oblique = min_difference >= angle_tolerance\n",
    "oblique"
   ]
  },
  {
   "cell_type": "code",
   "execution_count": 12,
   "id": "a449472a",
   "metadata": {},
   "outputs": [
    {
     "data": {
      "text/plain": [
       "tensor([ True,  True,  True,  True,  True,  True,  True,  True,  True,  True,\n",
       "         True,  True,  True,  True,  True,  True,  True,  True,  True,  True,\n",
       "         True, False])"
      ]
     },
     "execution_count": 12,
     "metadata": {},
     "output_type": "execute_result"
    }
   ],
   "source": [
    "lines_a = lines_a[:, oblique]\n",
    "lines_b = lines_b[:, oblique]\n",
    "angle_difference_b_a = angle_difference_b_a[oblique]\n",
    "filter[line_line_pair] = oblique\n",
    "filter"
   ]
  },
  {
   "cell_type": "code",
   "execution_count": 13,
   "id": "e10c01b4",
   "metadata": {},
   "outputs": [
    {
     "data": {
      "text/plain": [
       "tensor([False, False, False, False, False, False, False,  True, False, False,\n",
       "        False, False, False, False, False, False, False, False, False, False,\n",
       "         True,  True])"
      ]
     },
     "execution_count": 13,
     "metadata": {},
     "output_type": "execute_result"
    }
   ],
   "source": [
    "line_line_pair"
   ]
  },
  {
   "cell_type": "code",
   "execution_count": 14,
   "id": "b6ecd3c2",
   "metadata": {},
   "outputs": [
    {
     "data": {
      "text/plain": [
       "tensor([False, False, False, False, False, False, False,  True, False, False,\n",
       "        False, False, False, False, False, False, False, False, False, False,\n",
       "         True, False])"
      ]
     },
     "execution_count": 14,
     "metadata": {},
     "output_type": "execute_result"
    }
   ],
   "source": [
    "line_line_pair &= filter\n",
    "line_line_pair"
   ]
  },
  {
   "cell_type": "code",
   "execution_count": 15,
   "id": "25195580",
   "metadata": {},
   "outputs": [
    {
     "data": {
      "text/plain": [
       "torch.Size([25, 2])"
      ]
     },
     "execution_count": 15,
     "metadata": {},
     "output_type": "execute_result"
    }
   ],
   "source": [
    "lines_b.size()"
   ]
  },
  {
   "cell_type": "code",
   "execution_count": null,
   "id": "69c5b497",
   "metadata": {},
   "outputs": [],
   "source": [
    "lines_a, lines_b, filter[line_line_pair] = lines_a[:, oblique], lines_b[:, oblique], oblique"
   ]
  },
  {
   "cell_type": "code",
   "execution_count": null,
   "id": "611eb877",
   "metadata": {},
   "outputs": [],
   "source": [
    "lines_a, lines_b = lines_a[:, oblique], lines_b[:, oblique]\n",
    "filter[line_line_pair] = oblique"
   ]
  }
 ],
 "metadata": {
  "kernelspec": {
   "display_name": "dl_torch",
   "language": "python",
   "name": "python3"
  },
  "language_info": {
   "codemirror_mode": {
    "name": "ipython",
    "version": 3
   },
   "file_extension": ".py",
   "mimetype": "text/x-python",
   "name": "python",
   "nbconvert_exporter": "python",
   "pygments_lexer": "ipython3",
   "version": "3.10.16"
  }
 },
 "nbformat": 4,
 "nbformat_minor": 5
}
