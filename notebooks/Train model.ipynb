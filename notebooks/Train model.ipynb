{
 "cells": [
  {
   "cell_type": "code",
   "execution_count": 1,
   "id": "04bcac2c",
   "metadata": {},
   "outputs": [
    {
     "name": "stderr",
     "output_type": "stream",
     "text": [
      "/tmp/ipykernel_9683/3722063709.py:12: FutureWarning: You are using `torch.load` with `weights_only=False` (the current default value), which uses the default pickle module implicitly. It is possible to construct malicious pickle data which will execute arbitrary code during unpickling (See https://github.com/pytorch/pytorch/blob/main/SECURITY.md#untrusted-models for more details). In a future release, the default value for `weights_only` will be flipped to `True`. This limits the functions that could be executed during unpickling. Arbitrary objects will no longer be allowed to be loaded via this mode unless they are explicitly allowlisted by the user via `torch.serialization.add_safe_globals`. We recommend you start setting `weights_only=True` for any use case where you don't have full control of the loaded file. Please open an issue on GitHub for any issues related to this experimental feature.\n",
      "  dataset = torch.load(dataset_path)\n"
     ]
    },
    {
     "name": "stdout",
     "output_type": "stream",
     "text": [
      "Graphs loaded: 4320 / OS: Linux / device: cuda\n"
     ]
    }
   ],
   "source": [
    "import sys\n",
    "import torch\n",
    "from pathlib import Path\n",
    "from platform import system\n",
    "sys.path.append(str(Path.home() / \"orguel_ml\"))\n",
    "\n",
    "system = system()\n",
    "\n",
    "if system == 'Windows': dataset_path = \"D:\\\\ml\\\\graph_dataset.pt\"\n",
    "elif system == 'Linux': dataset_path = \"/media/rafael/HD/ml/graph_dataset.pt\"\n",
    "\n",
    "dataset = torch.load(dataset_path)\n",
    "device = torch.device('cuda') if torch.cuda.is_available() else torch.device('cpu')\n",
    "\n",
    "print(f\"Graphs loaded: {len(dataset)} / OS: {system} / device: {device}\")"
   ]
  },
  {
   "cell_type": "code",
   "execution_count": 2,
   "id": "6e97ef13",
   "metadata": {},
   "outputs": [
    {
     "name": "stdout",
     "output_type": "stream",
     "text": [
      "label counts: {0: 494106, 1: 584066, 2: 21005, 3: 261625, 4: 47992, 5: 96758, 6: 690573}\n"
     ]
    },
    {
     "name": "stderr",
     "output_type": "stream",
     "text": [
      "/home/rafael/anaconda3/envs/dl_torch/lib/python3.10/site-packages/torch/optim/lr_scheduler.py:60: UserWarning: The verbose parameter is deprecated. Please use get_last_lr() to access the learning rate.\n",
      "  warnings.warn(\n"
     ]
    }
   ],
   "source": [
    "import orguel_ml\n",
    "import torch.nn as nn\n",
    "from sklearn.model_selection import train_test_split\n",
    "from torch_geometric.loader import DataLoader\n",
    "from torch.utils.tensorboard import SummaryWriter\n",
    "\n",
    "# Setup\n",
    "test_size = 0.1\n",
    "batch_size = 16\n",
    "learning_rate = 0.001\n",
    "weight_decay = 1e-4\n",
    "n_targets = 7\n",
    "smoothing_exp = 0.2\n",
    "label_smoothing = 0.1\n",
    "epochs = 20\n",
    "\n",
    "# split the dataset:\n",
    "training_dataset, validation_dataset = train_test_split(dataset, test_size=test_size, shuffle=True, random_state=42)\n",
    "\n",
    "# DataLoaders\n",
    "training_loader = DataLoader(training_dataset, batch_size=batch_size, shuffle=True)\n",
    "validation_loader = DataLoader(validation_dataset, batch_size=batch_size, shuffle=False)\n",
    "\n",
    "# degree histogram from *training* graphs only\n",
    "pna_degree = orguel_ml.compute_pna_degree(training_dataset)\n",
    "model = orguel_ml.GraphNeuralNetwork(pna_degree).to(device)\n",
    "\n",
    "# Optimizer, scheduler, loss\n",
    "optimizer = torch.optim.AdamW(model.parameters(), lr=learning_rate, weight_decay=weight_decay)\n",
    "scheduler = torch.optim.lr_scheduler.ReduceLROnPlateau(optimizer, mode='min', factor=0.5, patience=3, min_lr=1e-5, threshold=1e-5, verbose=True)\n",
    "#scheduler = torch.optim.lr_scheduler.CyclicLR(optimizer, base_lr=0.0025, max_lr=0.005, step_size_up=5, mode=\"triangular\")\n",
    "\n",
    "class_weights, label_counts = orguel_ml.balance_class_weights(training_dataset, n_targets, smoothing_exp, device)\n",
    "criterion = nn.CrossEntropyLoss(weight=class_weights, label_smoothing=label_smoothing)\n",
    "\n",
    "# TensorBoard writer\n",
    "writer = SummaryWriter(log_dir=\"TensorBoard\")\n",
    "\n",
    "# Train/Eval loops\n",
    "_is_device_cuda = True if device.type=='cuda' else False\n",
    "scaler = torch.amp.GradScaler(device.type, enabled=_is_device_cuda) # mixed precision for speed\n",
    "\n",
    "def run_epoch(loader, training=False):\n",
    "    \n",
    "    model.train() if training else model.eval()\n",
    "    \n",
    "    n_batches = len(loader)\n",
    "    total_loss, correct, total_nodes = 0., 0, 0\n",
    "    \n",
    "    with torch.enable_grad() if training else torch.inference_mode():\n",
    "        for batch in loader:\n",
    "            batch = batch.to(device)\n",
    "            \n",
    "            with torch.amp.autocast(device.type, enabled=_is_device_cuda):\n",
    "                logits = model(batch); loss = criterion(logits, batch.y)\n",
    "            \n",
    "            if training:\n",
    "                optimizer.zero_grad(set_to_none=True)\n",
    "                scaler.scale(loss).backward()\n",
    "                scaler.unscale_(optimizer)\n",
    "                torch.nn.utils.clip_grad_norm_(model.parameters(), max_norm=1.0)\n",
    "                scaler.step(optimizer)\n",
    "                scaler.update()\n",
    "                #scheduler.step() # CyclicLR\n",
    "            \n",
    "            total_loss += loss.item()\n",
    "            predicted = logits.argmax(dim=1)\n",
    "            correct += (predicted==batch.y).sum().item()\n",
    "            total_nodes += batch.num_nodes\n",
    "    \n",
    "    average_loss = total_loss / n_batches\n",
    "    accuracy = correct / total_nodes\n",
    "    \n",
    "    return average_loss, accuracy\n",
    "\n",
    "print(f\"label counts: {dict(sorted(label_counts.items()))}\")"
   ]
  },
  {
   "cell_type": "code",
   "execution_count": null,
   "id": "cbf28039",
   "metadata": {},
   "outputs": [
    {
     "name": "stdout",
     "output_type": "stream",
     "text": [
      "Epoch 001 | TRAINING   Loss: 0.8834   Accuracy: 0.862 | VALIDATION   Loss: 0.6038   Accuracy: 0.977 | LR 0.001000\n",
      "Epoch 002 | TRAINING   Loss: 0.6053   Accuracy: 0.986 | VALIDATION   Loss: 0.5603   Accuracy: 0.994 | LR 0.001000\n",
      "Epoch 003 | TRAINING   Loss: 0.5797   Accuracy: 0.994 | VALIDATION   Loss: 0.5525   Accuracy: 0.996 | LR 0.001000\n",
      "Epoch 004 | TRAINING   Loss: 0.5735   Accuracy: 0.996 | VALIDATION   Loss: 0.5494   Accuracy: 0.997 | LR 0.001000\n",
      "Epoch 005 | TRAINING   Loss: 0.5695   Accuracy: 0.997 | VALIDATION   Loss: 0.5490   Accuracy: 0.997 | LR 0.001000\n",
      "Epoch 006 | TRAINING   Loss: 0.5734   Accuracy: 0.995 | VALIDATION   Loss: 0.6057   Accuracy: 0.979 | LR 0.001000\n"
     ]
    }
   ],
   "source": [
    "# Training/Validation loop\n",
    "for epoch in range(1, epochs+1):\n",
    "    training_loss, training_accuracy = run_epoch(training_loader, training=True)\n",
    "    validation_loss, validation_accuracy = run_epoch(validation_loader)\n",
    "    \n",
    "    scheduler.step(validation_loss)  # ReduceLROnPlateau on validation loss\n",
    "    learning_rate = optimizer.param_groups[0]['lr']\n",
    "    \n",
    "    # Logs\n",
    "    writer.add_scalar(\"Loss/train\", training_loss,       epoch)\n",
    "    writer.add_scalar(\"Loss/val\",   validation_loss,     epoch)\n",
    "    writer.add_scalar(\"Acc/train\",  training_accuracy,   epoch)\n",
    "    writer.add_scalar(\"Acc/val\",    validation_accuracy, epoch)\n",
    "    writer.add_scalar(\"LR\",         learning_rate,       epoch)\n",
    "    \n",
    "    print(f\"Epoch {epoch:03d} | \"\n",
    "          f\"TRAINING   Loss: {training_loss:.4f}   Accuracy: {training_accuracy:.3f} | \"\n",
    "          f\"VALIDATION   Loss: {validation_loss:.4f}   Accuracy: {validation_accuracy:.3f} | \"\n",
    "          f\"LR {learning_rate:.6f}\")\n",
    "    \n",
    "writer.close()\n",
    "print(\"\\nDone. Launch TensorBoard with: tensorboard --logdir TensorBoard\")"
   ]
  },
  {
   "cell_type": "code",
   "execution_count": null,
   "id": "5fab7290",
   "metadata": {},
   "outputs": [],
   "source": []
  },
  {
   "cell_type": "code",
   "execution_count": null,
   "id": "2bafc501",
   "metadata": {},
   "outputs": [],
   "source": []
  }
 ],
 "metadata": {
  "kernelspec": {
   "display_name": "dl_torch",
   "language": "python",
   "name": "python3"
  },
  "language_info": {
   "codemirror_mode": {
    "name": "ipython",
    "version": 3
   },
   "file_extension": ".py",
   "mimetype": "text/x-python",
   "name": "python",
   "nbconvert_exporter": "python",
   "pygments_lexer": "ipython3",
   "version": "3.10.18"
  }
 },
 "nbformat": 4,
 "nbformat_minor": 5
}
