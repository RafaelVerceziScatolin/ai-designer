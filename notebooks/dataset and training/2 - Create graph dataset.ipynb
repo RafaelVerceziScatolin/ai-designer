{
 "cells": [
  {
   "cell_type": "code",
   "execution_count": null,
   "id": "5f4be914",
   "metadata": {},
   "outputs": [
    {
     "name": "stderr",
     "output_type": "stream",
     "text": [
      "c:\\Users\\Rafael\\anaconda3\\envs\\dl_torch\\lib\\site-packages\\torch\\cuda\\__init__.py:58: FutureWarning: The pynvml package is deprecated. Please install nvidia-ml-py instead. If you did not install pynvml directly, please report this to the maintainers of the package that installed pynvml for you.\n",
      "  import pynvml  # type: ignore[import]\n"
     ]
    },
    {
     "name": "stdout",
     "output_type": "stream",
     "text": [
      "Total: 10 DXF files / OS: Windows\n"
     ]
    }
   ],
   "source": [
    "import os\n",
    "import sys\n",
    "from pathlib import Path\n",
    "from platform import system\n",
    "sys.path.append(str(Path.home() / \"orguel_ml\"))\n",
    "\n",
    "# Read the training folder\n",
    "original_folder = Path(os.getenv(\"HD\")) / \"training_dataset\" / \"original\"\n",
    "target_folder = Path(os.getenv(\"HD\")) / \"training_dataset\" / \"target\"\n",
    "save_path = Path(os.getenv(\"HD\")) / \"graph_dataset.pt\"\n",
    "\n",
    "dxf_files = [(os.path.join(original_folder, file), os.path.join(target_folder, file)) for file in os.listdir(original_folder) if file.endswith('.dxf')]\n",
    "\n",
    "print(f\"Total: {len(dxf_files)} DXF files / OS: {system()}\")"
   ]
  },
  {
   "cell_type": "code",
   "execution_count": null,
   "id": "df655ca1",
   "metadata": {},
   "outputs": [],
   "source": [
    "# Setup\n",
    "mirror_axes = [None, 'x', 'y']\n",
    "rotations = list(range(0, 360, 30))\n",
    "\n",
    "print(f\"steps: {len(rotations)}\"); print(f\"rorations: {rotations}\")"
   ]
  },
  {
   "cell_type": "code",
   "execution_count": null,
   "id": "42a5b648",
   "metadata": {},
   "outputs": [],
   "source": [
    "import orguel_ml\n",
    "\n",
    "# Build coordinate dataset\n",
    "coordinate_dataset = orguel_ml.CoordinateDataset(dxf_files)\n",
    "n_dataframes = len(coordinate_dataset)\n",
    "\n",
    "print(f\"Number of dataframes: {n_dataframes}\")"
   ]
  },
  {
   "cell_type": "code",
   "execution_count": null,
   "id": "cfd0b2e8",
   "metadata": {},
   "outputs": [],
   "source": [
    "# Build graph dataset\n",
    "graph_dataset = orguel_ml.GraphDataset(coordinate_dataset, mirror_axes, rotations)\n",
    "n_graphs = len(graph_dataset)\n",
    "\n",
    "print(f\"Number of graphs: {n_graphs}\")"
   ]
  },
  {
   "cell_type": "code",
   "execution_count": null,
   "id": "02d447ef",
   "metadata": {},
   "outputs": [],
   "source": [
    "import torch\n",
    "\n",
    "# save the dataset\n",
    "torch.save(graph_dataset, save_path)\n",
    "print(f\"Graphs saved to: {save_path}\")"
   ]
  }
 ],
 "metadata": {
  "kernelspec": {
   "display_name": "dl_torch",
   "language": "python",
   "name": "python3"
  },
  "language_info": {
   "codemirror_mode": {
    "name": "ipython",
    "version": 3
   },
   "file_extension": ".py",
   "mimetype": "text/x-python",
   "name": "python",
   "nbconvert_exporter": "python",
   "pygments_lexer": "ipython3",
   "version": "3.10.18"
  }
 },
 "nbformat": 4,
 "nbformat_minor": 5
}
