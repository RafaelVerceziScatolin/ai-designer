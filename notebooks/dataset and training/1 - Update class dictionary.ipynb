{
 "cells": [
  {
   "cell_type": "code",
   "execution_count": 1,
   "id": "84a146f5",
   "metadata": {},
   "outputs": [
    {
     "name": "stderr",
     "output_type": "stream",
     "text": [
      "c:\\Users\\Rafael\\anaconda3\\envs\\dl_torch\\lib\\site-packages\\torch\\cuda\\__init__.py:58: FutureWarning: The pynvml package is deprecated. Please install nvidia-ml-py instead. If you did not install pynvml directly, please report this to the maintainers of the package that installed pynvml for you.\n",
      "  import pynvml  # type: ignore[import]\n"
     ]
    }
   ],
   "source": [
    "import os\n",
    "import sys\n",
    "import ezdxf\n",
    "import json\n",
    "from pathlib import Path\n",
    "sys.path.append(str(Path.home() / \"orguel_ml\"))\n",
    "import orguel_ml\n",
    "\n",
    "# Update class dictionary\n",
    "layers_dxf = Path(os.getenv(\"HD\")) / \"classification_layers.dxf\"\n",
    "layers_json = Path(os.getenv(\"HD\")) / \"classification_layers.json\"\n",
    "\n",
    "doc = ezdxf.readfile(layers_dxf); modelspace = doc.modelspace()\n",
    "layers = [entity.dxf.layer for entity in modelspace if entity.dxftype() in orguel_ml.supported_entities]\n",
    "\n",
    "class_dictionary = {layer: i for i, layer in enumerate(sorted(set(layers)))}\n",
    "\n",
    "with open(layers_json, \"w\") as file: json.dump(class_dictionary, file, indent=4)"
   ]
  },
  {
   "cell_type": "code",
   "execution_count": null,
   "id": "ad6fc4e2",
   "metadata": {},
   "outputs": [],
   "source": []
  }
 ],
 "metadata": {
  "kernelspec": {
   "display_name": "dl_torch",
   "language": "python",
   "name": "python3"
  },
  "language_info": {
   "codemirror_mode": {
    "name": "ipython",
    "version": 3
   },
   "file_extension": ".py",
   "mimetype": "text/x-python",
   "name": "python",
   "nbconvert_exporter": "python",
   "pygments_lexer": "ipython3",
   "version": "3.10.18"
  }
 },
 "nbformat": 4,
 "nbformat_minor": 5
}
