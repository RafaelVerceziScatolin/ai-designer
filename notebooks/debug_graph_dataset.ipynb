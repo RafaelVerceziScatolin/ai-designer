{
 "cells": [
  {
   "cell_type": "code",
   "execution_count": 21,
   "id": "d466d543",
   "metadata": {},
   "outputs": [
    {
     "name": "stdout",
     "output_type": "stream",
     "text": [
      "Total: 10 DXF files / OS: Linux\n"
     ]
    }
   ],
   "source": [
    "import os\n",
    "import sys\n",
    "import torch\n",
    "from pathlib import Path\n",
    "from platform import system\n",
    "sys.path.append(str(Path.home() / \"orguel_ml\"))\n",
    "\n",
    "system = system()\n",
    "\n",
    "# Read the training folder\n",
    "if system == 'Windows': training_folder = \"D:\\\\ml\\\\training_dataset\\\\training\"; save_path = \"D:\\\\ml\\\\graph_dataset.pt\"\n",
    "elif system == 'Linux': training_folder = \"/media/rafael/HD/ml/training_dataset/training\"; save_path = \"/media/rafael/HD/ml/graph_dataset.pt\"\n",
    "\n",
    "dxf_files = [os.path.join(training_folder, file) for file in os.listdir(training_folder) if file.endswith('.dxf')]\n",
    "\n",
    "print(f\"Total: {len(dxf_files)} DXF files / OS: {system}\")"
   ]
  },
  {
   "cell_type": "code",
   "execution_count": 22,
   "id": "b1a2a5bc",
   "metadata": {},
   "outputs": [
    {
     "name": "stdout",
     "output_type": "stream",
     "text": [
      "steps: 24\n",
      "rorations: [0, 15, 30, 45, 60, 75, 90, 105, 120, 135, 150, 165, 180, 195, 210, 225, 240, 255, 270, 285, 300, 315, 330, 345]\n"
     ]
    }
   ],
   "source": [
    "# Setup\n",
    "mirror_axes = [None, 'x', 'y']\n",
    "rotations = list(range(0, 360, 15))\n",
    "\n",
    "print(f\"steps: {len(rotations)}\"); print(f\"rorations: {rotations}\")"
   ]
  },
  {
   "cell_type": "code",
   "execution_count": 23,
   "id": "38d89b79",
   "metadata": {},
   "outputs": [
    {
     "name": "stderr",
     "output_type": "stream",
     "text": [
      "Extracting coordinates: 100%|██████████| 10/10 [00:00<00:00, 29.12it/s]"
     ]
    },
    {
     "name": "stdout",
     "output_type": "stream",
     "text": [
      "Number of dataframes: 10\n"
     ]
    },
    {
     "name": "stderr",
     "output_type": "stream",
     "text": [
      "\n"
     ]
    }
   ],
   "source": [
    "import orguel_ml\n",
    "\n",
    "# Build coordinate dataset\n",
    "coordinate_dataset = orguel_ml.CoordinateDataset(dxf_files)\n",
    "n_dataframes = len(coordinate_dataset)\n",
    "\n",
    "print(f\"Number of dataframes: {n_dataframes}\")"
   ]
  },
  {
   "cell_type": "code",
   "execution_count": 24,
   "id": "a7a0dd27",
   "metadata": {},
   "outputs": [
    {
     "name": "stderr",
     "output_type": "stream",
     "text": [
      "Building (raw graphs): 100%|██████████| 720/720 [00:02<00:00, 357.35it/s]"
     ]
    },
    {
     "name": "stdout",
     "output_type": "stream",
     "text": [
      "Number of graphs: 720\n"
     ]
    },
    {
     "name": "stderr",
     "output_type": "stream",
     "text": [
      "\n"
     ]
    }
   ],
   "source": [
    "# Build graph dataset\n",
    "graph_dataset = orguel_ml.GraphDataset(coordinate_dataset, mirror_axes, rotations, raw_graphs=True)\n",
    "n_graphs = len(graph_dataset)\n",
    "\n",
    "print(f\"Number of graphs: {n_graphs}\")"
   ]
  },
  {
   "cell_type": "code",
   "execution_count": 25,
   "id": "0ad5eaff",
   "metadata": {},
   "outputs": [
    {
     "name": "stdout",
     "output_type": "stream",
     "text": [
      "\n",
      "==== Summary ====\n",
      "graphs with non‑finite edge_attr: 0/720\n",
      "total NaN: 0  total Inf: 0\n"
     ]
    }
   ],
   "source": [
    "# name your 10 edge features (adjust if you ever change the order)\n",
    "EDGE_FEATS = [\n",
    "    \"parallel\", \"offset\", \"overlap_ratio\", \"oblique\",\n",
    "    \"intersection_min\", \"intersection_max\",\n",
    "    \"angle_diff_sin_min\", \"angle_diff_cos_min\",\n",
    "    \"angle_diff_sin_max\", \"angle_diff_cos_max\",\n",
    "]\n",
    "\n",
    "def _get_attr(g, *names):\n",
    "    for n in names:\n",
    "        if hasattr(g, n):\n",
    "            return getattr(g, n)\n",
    "    raise AttributeError(f\"Graph has none of attrs {names}\")\n",
    "\n",
    "def inspect_one_graph(g, max_examples=8):\n",
    "    ea = _get_attr(g, \"edge_attributes\", \"edge_attr\")          # [E, D]\n",
    "    ei = _get_attr(g, \"edge_pairs\", \"edge_index\")               # [2, E]\n",
    "    x  = _get_attr(g, \"node_attributes\", \"x\")                   # [N, F]\n",
    "\n",
    "    bad = ~torch.isfinite(ea)                                   # [E, D]\n",
    "    if not bad.any():\n",
    "        return False  # all good\n",
    "\n",
    "    # header with provenance if available\n",
    "    src = getattr(g, \"source\", getattr(getattr(g, \"meta\", {}), \"get\", lambda *_: None)(\"source\"))\n",
    "    aug = getattr(g, \"aug\",    getattr(getattr(g, \"meta\", {}), \"get\", lambda *_: None)(\"aug\"))\n",
    "    ang = getattr(g, \"angle\",  getattr(getattr(g, \"meta\", {}), \"get\", lambda *_: None)(\"angle\"))\n",
    "    axis= getattr(g, \"axis\",   getattr(getattr(g, \"meta\", {}), \"get\", lambda *_: None)(\"axis\"))\n",
    "    print(f\"\\n⚠ non‑finite edge_attr | source={src} aug={aug} angle={ang} axis={axis} | ea={tuple(ea.shape)}\")\n",
    "\n",
    "    # summarize by column\n",
    "    nan_per_col = torch.isnan(ea).sum(0).tolist()\n",
    "    inf_per_col = torch.isinf(ea).sum(0).tolist()\n",
    "    for j, (n, f) in enumerate(zip(nan_per_col, inf_per_col)):\n",
    "        if n or f:\n",
    "            name = EDGE_FEATS[j] if j < len(EDGE_FEATS) else f\"feat{j}\"\n",
    "            print(f\"  col {j:>2} ({name}): NaN={n} Inf={f}\")\n",
    "\n",
    "    # show a few concrete edges\n",
    "    edges = bad.any(1).nonzero(as_tuple=False).view(-1)[:max_examples]\n",
    "    for e_idx in edges.tolist():\n",
    "        u, v = int(ei[0, e_idx]), int(ei[1, e_idx])\n",
    "        which = bad[e_idx].nonzero(as_tuple=False).view(-1).tolist()\n",
    "        cols  = [EDGE_FEATS[j] if j < len(EDGE_FEATS) else f\"feat{j}\" for j in which]\n",
    "        vals  = {c: float(ea[e_idx, j]) for c, j in zip(cols, which)}\n",
    "        print(f\"  - edge {e_idx} ({u}->{v}) bad={cols} values={vals}\")\n",
    "    return True\n",
    "\n",
    "def scan_graph_dataset(graph_dataset, max_graph_reports=10):\n",
    "    bad_graphs = 0\n",
    "    total_nan = total_inf = 0\n",
    "    col_nan = torch.zeros(len(EDGE_FEATS), dtype=torch.long)\n",
    "    col_inf = torch.zeros(len(EDGE_FEATS), dtype=torch.long)\n",
    "\n",
    "    for idx, g in enumerate(graph_dataset):\n",
    "        ea = _get_attr(g, \"edge_attributes\", \"edge_attr\")\n",
    "        if not torch.isfinite(ea).all():\n",
    "            bad_graphs += 1\n",
    "            total_nan += torch.isnan(ea).sum().item()\n",
    "            total_inf += torch.isinf(ea).sum().item()\n",
    "            col_nan += torch.isnan(ea).sum(0).to(torch.long)\n",
    "            col_inf += torch.isinf(ea).sum(0).to(torch.long)\n",
    "            if bad_graphs <= max_graph_reports:\n",
    "                print(f\"\\n[graph {idx}]\")\n",
    "                inspect_one_graph(g, max_examples=8)\n",
    "\n",
    "    print(\"\\n==== Summary ====\")\n",
    "    print(f\"graphs with non‑finite edge_attr: {bad_graphs}/{len(graph_dataset)}\")\n",
    "    print(f\"total NaN: {total_nan}  total Inf: {total_inf}\")\n",
    "    for j, (n, f) in enumerate(zip(col_nan.tolist(), col_inf.tolist())):\n",
    "        if n or f:\n",
    "            name = EDGE_FEATS[j] if j < len(EDGE_FEATS) else f\"feat{j}\"\n",
    "            print(f\"  col {j:>2} ({name}): NaN={n} Inf={f}\")\n",
    "\n",
    "scan_graph_dataset(graph_dataset.dataset)"
   ]
  },
  {
   "cell_type": "code",
   "execution_count": 26,
   "id": "504821d1",
   "metadata": {},
   "outputs": [
    {
     "data": {
      "text/plain": [
       "False"
      ]
     },
     "execution_count": 26,
     "metadata": {},
     "output_type": "execute_result"
    }
   ],
   "source": [
    "from orguel_ml import DataframeField as F\n",
    "from orguel_ml import EdgeAttribute as Att\n",
    "\n",
    "graph = graph_dataset.dataset[3]\n",
    "inspect_one_graph(graph)"
   ]
  },
  {
   "cell_type": "code",
   "execution_count": 27,
   "id": "7220603e",
   "metadata": {},
   "outputs": [
    {
     "data": {
      "text/plain": [
       "tensor([ 19.0000, 156.0001,  19.0000,  ..., 138.0268, 138.0270, 138.0270])"
      ]
     },
     "execution_count": 27,
     "metadata": {},
     "output_type": "execute_result"
    }
   ],
   "source": [
    "graph._dataframe[F.length]"
   ]
  },
  {
   "cell_type": "code",
   "execution_count": 28,
   "id": "e2ee12cb",
   "metadata": {},
   "outputs": [
    {
     "data": {
      "text/plain": [
       "tensor(590.9998)"
      ]
     },
     "execution_count": 28,
     "metadata": {},
     "output_type": "execute_result"
    }
   ],
   "source": [
    "graph._dataframe[F.length].max()"
   ]
  },
  {
   "cell_type": "code",
   "execution_count": null,
   "id": "1859e3f3",
   "metadata": {},
   "outputs": [],
   "source": []
  },
  {
   "cell_type": "code",
   "execution_count": null,
   "id": "c3438341",
   "metadata": {},
   "outputs": [],
   "source": []
  },
  {
   "cell_type": "code",
   "execution_count": 12,
   "id": "42d2fa03",
   "metadata": {},
   "outputs": [],
   "source": [
    "lines_a = graph._dataframe[:,5]\n",
    "lines_b = graph._dataframe[:,5]"
   ]
  },
  {
   "cell_type": "code",
   "execution_count": 13,
   "id": "d46e508c",
   "metadata": {},
   "outputs": [
    {
     "data": {
      "text/plain": [
       "tensor(5.)"
      ]
     },
     "execution_count": 13,
     "metadata": {},
     "output_type": "execute_result"
    }
   ],
   "source": [
    "lines_a[F.original_index]"
   ]
  },
  {
   "cell_type": "code",
   "execution_count": 14,
   "id": "a6c635de",
   "metadata": {},
   "outputs": [
    {
     "data": {
      "text/plain": [
       "tensor(167)"
      ]
     },
     "execution_count": 14,
     "metadata": {},
     "output_type": "execute_result"
    }
   ],
   "source": [
    "(graph._dataframe[F.length] < 1000).sum()"
   ]
  },
  {
   "cell_type": "code",
   "execution_count": 15,
   "id": "9cc17b34",
   "metadata": {},
   "outputs": [
    {
     "data": {
      "text/plain": [
       "torch.Size([1397])"
      ]
     },
     "execution_count": 15,
     "metadata": {},
     "output_type": "execute_result"
    }
   ],
   "source": [
    "graph._dataframe[F.length].size()"
   ]
  },
  {
   "cell_type": "code",
   "execution_count": null,
   "id": "12471bca",
   "metadata": {},
   "outputs": [],
   "source": []
  }
 ],
 "metadata": {
  "kernelspec": {
   "display_name": "dl_torch",
   "language": "python",
   "name": "python3"
  },
  "language_info": {
   "codemirror_mode": {
    "name": "ipython",
    "version": 3
   },
   "file_extension": ".py",
   "mimetype": "text/x-python",
   "name": "python",
   "nbconvert_exporter": "python",
   "pygments_lexer": "ipython3",
   "version": "3.10.17"
  }
 },
 "nbformat": 4,
 "nbformat_minor": 5
}
