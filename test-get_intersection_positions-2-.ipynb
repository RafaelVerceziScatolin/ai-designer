{
 "cells": [
  {
   "cell_type": "code",
   "execution_count": 1,
   "id": "43d03ef7",
   "metadata": {},
   "outputs": [],
   "source": [
    "from enum import IntEnum\n",
    "\n",
    "class _dataframe_field(IntEnum):\n",
    "    original_index = 0\n",
    "    line_flag = 1\n",
    "    circle_flag = 2\n",
    "    arc_flag = 3\n",
    "    point_flag = 4\n",
    "    start_x = 5\n",
    "    start_y = 6\n",
    "    end_x = 7\n",
    "    end_y = 8\n",
    "    mid_x = 9\n",
    "    mid_y = 10\n",
    "    angle = 11\n",
    "    length = perimeter = 12\n",
    "    d_x = 13\n",
    "    d_y = 14\n",
    "    u_x = 15\n",
    "    u_y = 16\n",
    "    n_x = 17\n",
    "    n_y = 18\n",
    "    center_x = 19\n",
    "    center_y = 20\n",
    "    radius = 21\n",
    "    start_angle = 22\n",
    "    end_angle = 23\n",
    "    arc_span = 24\n",
    "    \n",
    "    @classmethod\n",
    "    def count(cls) -> int: return len(cls)\n",
    "\n",
    "class _edge_attribute(IntEnum):\n",
    "    parallel = 0\n",
    "    colinear = 1\n",
    "    perpendicular_distance = 2\n",
    "    overlap_ratio = 3\n",
    "    oblique = 4\n",
    "    intersection_position = 5\n",
    "    angle_difference_sin = 6\n",
    "    angle_difference_cos = 7\n",
    "    \n",
    "    @classmethod\n",
    "    def count(cls) -> int: return len(cls)\n",
    "\n",
    "from typing import Tuple\n",
    "import torch\n",
    "from torch import Tensor\n",
    "from torch import newaxis\n",
    "\n",
    "def create_obbs(elements:Tensor, width:float, length_extension:float=0.0) -> Tuple[Tensor, Tensor]:\n",
    "    \n",
    "    F = _dataframe_field\n",
    "    n_elements = elements.size(1)\n",
    "    \n",
    "    # Filter supported elements\n",
    "    is_line = elements[F.line_flag] == 1\n",
    "    is_circle_or_arc = (elements[F.circle_flag] == 1) | (elements[F.arc_flag] == 1)\n",
    "    \n",
    "    filter = is_line | is_circle_or_arc\n",
    "    \n",
    "    obbs = torch.empty((n_elements, 4, 2), dtype=torch.float32)\n",
    "    \n",
    "    if is_line.any():\n",
    "        # === LINE ELEMENTS ===\n",
    "        lines = elements[:, is_line]\n",
    "        \n",
    "        # Half dimensions\n",
    "        half_width = width / 2\n",
    "        half_length = (lines[F.length] + length_extension) / 2\n",
    "        \n",
    "        # Compute displacements\n",
    "        dx_length = lines[F.u_x] * half_length\n",
    "        dy_length = lines[F.u_y] * half_length\n",
    "        dx_width = lines[F.n_x] * half_width\n",
    "        dy_width = lines[F.n_y] * half_width\n",
    "        \n",
    "        # Corners (4 per OBB)\n",
    "        corner1 = torch.stack([lines[F.mid_x] - dx_length - dx_width,\n",
    "                                lines[F.mid_y] - dy_length - dy_width], dim=1)\n",
    "        \n",
    "        corner2 = torch.stack([lines[F.mid_x] + dx_length - dx_width,\n",
    "                                lines[F.mid_y] + dy_length - dy_width], dim=1)\n",
    "        \n",
    "        corner3 = torch.stack([lines[F.mid_x] + dx_length + dx_width,\n",
    "                                lines[F.mid_y] + dy_length + dy_width], dim=1)\n",
    "        \n",
    "        corner4 = torch.stack([lines[F.mid_x] - dx_length + dx_width,\n",
    "                                lines[F.mid_y] - dy_length + dy_width], dim=1)\n",
    "        \n",
    "        # Stack corners\n",
    "        obbs[is_line] = torch.stack([corner1, corner2, corner3, corner4], dim=1)\n",
    "    \n",
    "    if is_circle_or_arc.any():\n",
    "        # === ARC ELEMENTS ===\n",
    "        arcs = elements[:, is_circle_or_arc]\n",
    "        \n",
    "        margin = width / 2\n",
    "        \n",
    "        u_x, u_y, n_x, n_y = arcs[F.u_x], arcs[F.u_y], arcs[F.n_x], arcs[F.n_y]\n",
    "        arc_span, radius = arcs[F.arc_span], arcs[F.radius]\n",
    "        \n",
    "        dx_length = torch.where(arc_span < torch.pi, n_x * (radius * torch.sin(arc_span/2) + margin), n_x * (radius + margin))\n",
    "        dy_length = torch.where(arc_span < torch.pi, n_y * (radius * torch.sin(arc_span/2) + margin), n_y * (radius + margin))\n",
    "        \n",
    "        dx_width = u_x * (radius * (1 - torch.cos(arc_span/2)) + margin)\n",
    "        dy_width = u_y * (radius * (1 - torch.cos(arc_span/2)) + margin)\n",
    "        \n",
    "        dx_margin = u_x * margin\n",
    "        dy_margin = u_y * margin\n",
    "        \n",
    "        corner1 = torch.stack([arcs[F.mid_x] - dx_length + dx_margin,\n",
    "                                arcs[F.mid_y] - dy_length + dy_margin], dim=1)\n",
    "        \n",
    "        corner2 = torch.stack([arcs[F.mid_x] + dx_length + dx_margin,\n",
    "                                arcs[F.mid_y] + dy_length + dy_margin], dim=1)\n",
    "        \n",
    "        corner3 = torch.stack([arcs[F.mid_x] + dx_length - dx_width,\n",
    "                                arcs[F.mid_y] + dy_length - dy_width], dim=1)\n",
    "        \n",
    "        corner4 = torch.stack([arcs[F.mid_x] - dx_length - dx_width,\n",
    "                                arcs[F.mid_y] - dy_length - dy_width], dim=1)\n",
    "        \n",
    "        obbs[is_circle_or_arc] = torch.stack([corner1, corner2, corner3, corner4], dim=1)\n",
    "    \n",
    "    elements = elements[:, filter]\n",
    "    obbs = obbs[filter]\n",
    "    \n",
    "    return elements, obbs # Shape obbs (n_elements, 4, 2)\n",
    "\n",
    "def get_overlaping_pairs(elements:Tensor, obbs:Tensor) -> Tuple[Tensor, Tensor]:\n",
    "    \n",
    "    F = _dataframe_field\n",
    "    \n",
    "    # Compute AABBs (Axis-Aligned Bounding Boxes)\n",
    "    min_x = obbs[..., 0].min(dim=1).values\n",
    "    max_x = obbs[..., 0].max(dim=1).values\n",
    "    min_y = obbs[..., 1].min(dim=1).values\n",
    "    max_y = obbs[..., 1].max(dim=1).values\n",
    "    \n",
    "    # Computing AABB intersection matrix\n",
    "    mask_x = (min_x[:, newaxis] <= max_x[newaxis, :]) & (min_x[newaxis, :] <= max_x[:, newaxis])\n",
    "    mask_y = (min_y[:, newaxis] <= max_y[newaxis, :]) & (min_y[newaxis, :] <= max_y[:, newaxis])\n",
    "    aabb_overlap = mask_x & mask_y\n",
    "    \n",
    "    # Candidate pairs\n",
    "    pairs = torch.argwhere(aabb_overlap) # shape (n, 2)\n",
    "    i, j = pairs[:, 0], pairs[:, 1]\n",
    "    \n",
    "    # Remove self-comparisons and duplicates\n",
    "    mask = (i < j)\n",
    "    i, j = i[mask], j[mask]\n",
    "    \n",
    "    # Get OBBs for pairs\n",
    "    obbs_i, obbs_j = obbs[i], obbs[j]\n",
    "    \n",
    "    # axes per box\n",
    "    axes_i = torch.stack([elements[F.u_x, i], elements[F.u_y, i], elements[F.n_x, i], elements[F.n_y, i]], dim=1).reshape(-1,2,2)\n",
    "    axes_j = torch.stack([elements[F.u_x, j], elements[F.u_y, j], elements[F.n_x, j], elements[F.n_y, j]], dim=1).reshape(-1,2,2)\n",
    "    axes = torch.cat([axes_i, axes_j], axis=1) # shape (n_pairs, 4, 2)\n",
    "    \n",
    "    # Project corners onto axes\n",
    "    projections_i = torch.einsum('nij,nkj->nik', axes, obbs_i) # Shape (n_pairs, 4, 4)\n",
    "    projections_j = torch.einsum('nij,nkj->nik', axes, obbs_j)\n",
    "    \n",
    "    # Interval comparisons on each axis\n",
    "    min_i = projections_i.min(dim=2).values\n",
    "    max_i = projections_i.max(dim=2).values\n",
    "    min_j = projections_j.min(dim=2).values\n",
    "    max_j = projections_j.max(dim=2).values\n",
    "    \n",
    "    separating_axis = (max_i < min_j) | (max_j < min_i) # True if a separating axis exists\n",
    "    obb_overlap = ~torch.any(separating_axis, dim=1) # True if overlap\n",
    "    \n",
    "    return i[obb_overlap], j[obb_overlap]\n",
    "\n",
    "def _get_line_arc_intersections(lines:Tensor, arcs:Tensor, margin:float) -> Tuple[Tensor, Tensor, Tensor, \n",
    "                                                                                    Tensor, Tensor, Tensor]:\n",
    "    \n",
    "    F = _dataframe_field\n",
    "    \n",
    "    dx_start = arcs[F.center_x] - lines[F.start_x]\n",
    "    dy_start = arcs[F.center_y] - lines[F.start_y]\n",
    "    dx_end = arcs[F.center_x] - lines[F.end_x]\n",
    "    dy_end = arcs[F.center_y] - lines[F.end_y]\n",
    "    \n",
    "    distance_start = torch.sqrt(dx_start**2 + dy_start**2)\n",
    "    distance_end = torch.sqrt(dx_end**2 + dy_end**2)\n",
    "    \n",
    "    # Remove pairs in which the lines falls completelly within the circle inner perimeter\n",
    "    inner_radius = arcs[F.radius] - margin\n",
    "    \n",
    "    start_in_inner = distance_start < inner_radius\n",
    "    end_in_inner = distance_end < inner_radius\n",
    "    \n",
    "    mask = ~(start_in_inner & end_in_inner)\n",
    "    \n",
    "    arcs, lines = arcs[:, mask], lines[:, mask]\n",
    "    dx_start, dy_start = dx_start[mask], dy_start[mask]\n",
    "    inner_radius = inner_radius[mask]\n",
    "    start_in_inner, end_in_inner = start_in_inner[mask], end_in_inner[mask]\n",
    "    \n",
    "    # Compute closest distance betweem the center of the circle and the line\n",
    "    t = torch.clamp((dx_start * lines[F.d_x] + dy_start * lines[F.d_y]) / lines[F.length]**2, min=0, max=1)\n",
    "    closest_x, closest_y = lines[F.start_x] + t * lines[F.d_x], lines[F.start_y] + t * lines[F.d_y]\n",
    "    \n",
    "    closest_distance = torch.sqrt((closest_x - arcs[F.center_x])**2 + (closest_y - arcs[F.center_y])**2)\n",
    "    \n",
    "    # Remove pairs in which the lines falls completelly out of the circle outer perimeter\n",
    "    outer_radius = arcs[F.radius] + margin\n",
    "    \n",
    "    mask = ~(closest_distance > outer_radius)\n",
    "    \n",
    "    arcs, lines = arcs[:, mask], lines[:, mask]\n",
    "    dx_start, dy_start = dx_start[mask], dy_start[mask]\n",
    "    inner_radius = inner_radius[mask]\n",
    "    start_in_inner, end_in_inner = start_in_inner[mask], end_in_inner[mask]\n",
    "    closest_distance = closest_distance[mask]\n",
    "\n",
    "    # Compute min and max intersections\n",
    "    a = lines[F.u_x]**2 + lines[F.u_y]**2\n",
    "    b = 2 * (dx_start * lines[F.u_x] + dy_start * lines[F.u_y])\n",
    "    c = dx_start**2 + dy_start**2 - arcs[F.radius]**2\n",
    "    discriminant = torch.clamp(b**2 - 4 * a * c, min=0)\n",
    "    \n",
    "    sqrt_discriminant = torch.sqrt(discriminant)\n",
    "    \n",
    "    t1 = (-b - sqrt_discriminant) / (2 * a)\n",
    "    t2 = (-b + sqrt_discriminant) / (2 * a)\n",
    "    t1, t2 = -t1, -t2\n",
    "    \n",
    "    t_min = torch.minimum(t1, t2)\n",
    "    t_max = torch.maximum(t1, t2)\n",
    "    \n",
    "    t_min = torch.where(start_in_inner, t_max, t_min)\n",
    "    t_max = torch.where(end_in_inner, t_min, t_max)\n",
    "    \n",
    "    closest_out_inner = closest_distance >= inner_radius\n",
    "    \n",
    "    t_min = torch.where(closest_out_inner & (t_min < 0), t_max, t_min)\n",
    "    t_max = torch.where(closest_out_inner & (t_max > lines[F.length]), t_min, t_max)\n",
    "    \n",
    "    # Check whether the intersections fall on arc range\n",
    "    ix = lines[F.start_x] + t_min * lines[F.u_x]\n",
    "    iy = lines[F.start_y] + t_min * lines[F.u_y]\n",
    "    jx = lines[F.start_x] + t_max * lines[F.u_x]\n",
    "    jy = lines[F.start_y] + t_max * lines[F.u_y]\n",
    "    \n",
    "    angle1 = torch.atan2(iy - arcs[F.center_y], ix - arcs[F.center_x]) % (2 * torch.pi)\n",
    "    angle2 = torch.atan2(jy - arcs[F.center_y], jx - arcs[F.center_x]) % (2 * torch.pi)\n",
    "    \n",
    "    start_angle, end_angle = arcs[F.start_angle], arcs[F.end_angle]\n",
    "    \n",
    "    on_arc_range1 = torch.where(start_angle < end_angle, (start_angle <= angle1) & (angle1 <= end_angle), (start_angle <= angle1) | (angle1 <= end_angle))\n",
    "    on_arc_range2 = torch.where(start_angle < end_angle, (start_angle <= angle2) & (angle2 <= end_angle), (start_angle <= angle2) | (angle2 <= end_angle))\n",
    "    \n",
    "    on_arc_range1 |= closest_out_inner\n",
    "    on_arc_range2 |= closest_out_inner\n",
    "    \n",
    "    t_min = torch.where(on_arc_range1, t_min, t_max)\n",
    "    t_max = torch.where(on_arc_range2, t_max, t_min)\n",
    "    angle1 = torch.where(on_arc_range1, angle1, angle2)\n",
    "    angle2 = torch.where(on_arc_range2, angle2, angle1)\n",
    "    \n",
    "    on_arc_range = torch.where(start_angle < end_angle, (start_angle <= angle1) & (angle1 <= end_angle), (start_angle <= angle1) | (angle1 <= end_angle))\n",
    "    \n",
    "    angle1_position = torch.where(on_arc_range, (angle1 - start_angle), (angle1 - start_angle).clamp(min=0).clamp(max=arcs[F.arc_span]))\n",
    "    angle2_position = torch.where(on_arc_range, (angle2 - start_angle), (angle2 - start_angle).clamp(min=0).clamp(max=arcs[F.arc_span]))\n",
    "    angle1_position = ((angle1_position % (2*torch.pi)) / (arcs[F.arc_span] / 2)) -1\n",
    "    angle2_position = ((angle2_position % (2*torch.pi)) / (arcs[F.arc_span] / 2)) -1\n",
    "    \n",
    "    intersection_min = torch.clamp(t_min / lines[F.length], min=0, max=1)\n",
    "    intersection_max = torch.clamp(t_max / lines[F.length], min=0, max=1)\n",
    "    angle_min = torch.minimum(angle1_position, angle2_position)\n",
    "    angle_max = torch.maximum(angle1_position, angle2_position)\n",
    "    \n",
    "    return lines, arcs, intersection_min, intersection_max, angle_min, angle_max\n"
   ]
  },
  {
   "cell_type": "code",
   "execution_count": 2,
   "id": "ba4ad539",
   "metadata": {},
   "outputs": [],
   "source": [
    "F = _dataframe_field\n",
    "dataframe = torch.zeros((F.count(), 34), dtype=torch.float32)\n",
    "dataframe[F.original_index] = torch.tensor([   0,  1,   2,   3,   4,   5,   6,   7,   8,   9,  10,  11,  12,  13,  14,  15,  16,  17,  18,  19,   20,   21,   22,   23,   24,   25,   26,   27,   28,   29,   30,   31,   32,   33])\n",
    "dataframe[F.line_flag] =      torch.tensor([   0,  1,   0,   1,   1,   0,   0,   1,   0,   1,   0,   1,   0,   1,   0,   1,   0,   1,   0,   1,    0,    1,    0,    1,    0,    1,    0,    1,    0,    1,    0,    1,    0,    1])\n",
    "dataframe[F.circle_flag] =    torch.tensor([   1,  0,   0,   0,   0,   1,   0,   0,   1,   0,   1,   0,   0,   0,   1,   0,   1,   0,   1,   0,    1,    0,    1,    0,    1,    0,    0,    0,    1,    0,    0,    0,    0,    0])\n",
    "dataframe[F.arc_flag] =       torch.tensor([   0,  0,   1,   0,   0,   0,   1,   0,   0,   0,   0,   0,   1,   0,   0,   0,   0,   0,   0,   0,    0,    0,    0,    0,    0,    0,    1,    0,    0,    0,    1,    0,    1,    0])\n",
    "dataframe[F.start_x] =        torch.tensor([   0, 40,   0, 100, 200,   0,   0, 390,   0, 402,   0, 550,   0, 610,   0, 710,   0, 880,   0, 910,    0, 1078,    0, 1104,    0, 1295,    0, 1325,    0, 1450,    0, 1490,    0, 1590])\n",
    "dataframe[F.start_y] =        torch.tensor([   0, 10,   0,  41,  30,   0,   0,  30,   0,  30,   0,  30,   0, -30,   0, -20,   0,  35,   0, -35,    0,   30,    0,  -30,    0,   30,    0,   30,    0,  -39,    0,   41,    0,  -41])\n",
    "dataframe[F.end_x] =          torch.tensor([   0, 60,   0, 145, 240,   0,   0, 300,   0, 422,   0, 590,   0, 670,   0, 800,   0, 900,   0, 960,    0, 1098,    0, 1124,    0, 1275,    0, 1390,    0, 1450,    0, 1570,    0, 1670])\n",
    "dataframe[F.end_y] =          torch.tensor([   0, 10,   0,  41,  30,   0,   0,  30,   0,  30,   0,  30,   0,  50,   0, -20,   0,  35,   0, -15,    0,   30,    0,  -30,    0,   30,    0,   30,    0,   39,    0,   41,    0,  -41])\n",
    "dataframe[F.center_x] =       torch.tensor([  50,  0, 150,   0,   0, 250, 350,   0, 450,   0, 550,   0, 650,   0, 750,   0, 850,   0, 950,   0, 1050,    0, 1150,    0, 1250,    0, 1350,    0, 1450,    0, 1550,    0, 1650,    0])\n",
    "dataframe[F.center_y] =       torch.tensor([   0,  0,   0,   0,   0,   0,   0,   0,   0,   0,   0,   0,   0,   0,   0,   0,   0,   0,   0,   0,    0,    0,    0,    0,    0,    0,    0,    0,    0,    0,    0,    0,    0,    0])\n",
    "dataframe[F.radius] =         torch.tensor([  40,  0,  40,   0,   0,  40,  40,   0,  40,   0,  40,   0,  40,   0,  40,   0,  40,   0,  40,   0,   40,    0,   40,    0,   40,    0,   40,    0,   40,    0,   40,    0,   40,    0])\n",
    "dataframe[F.start_angle] =    torch.tensor([   0,  0,  94,   0,   0,   0,  77,   0,   0,   0,   0,   0,  65,   0,   0,   0,   0,   0,   0,   0,    0,    0,    0,    0,    0,    0,  264,    0,    0,    0,  100,    0,  100,    0])\n",
    "dataframe[F.end_angle] =      torch.tensor([ 360,  0, 180,   0,   0, 360, 205,   0, 360,   0, 360,   0, 295,   0, 360,   0, 360,   0, 360,   0,  360,    0,  360,    0,  360,    0,   96,    0,  360,    0,  260,    0,  260,    0])"
   ]
  },
  {
   "cell_type": "code",
   "execution_count": 3,
   "id": "726692c3",
   "metadata": {},
   "outputs": [],
   "source": [
    "# === LINES ===\n",
    "is_line = dataframe[F.line_flag] == 1\n",
    "\n",
    "min_length = 1e-3\n",
    "\n",
    "dataframe[F.mid_x] = torch.where(is_line, (dataframe[F.start_x] + dataframe[F.end_x]) / 2, dataframe[F.mid_x])\n",
    "dataframe[F.mid_y] = torch.where(is_line, (dataframe[F.start_y] + dataframe[F.end_y]) / 2, dataframe[F.mid_y])\n",
    "\n",
    "dataframe[F.d_x] = torch.where(is_line, dataframe[F.end_x] - dataframe[F.start_x], dataframe[F.d_x])\n",
    "dataframe[F.d_y] = torch.where(is_line, dataframe[F.end_y] - dataframe[F.start_y], dataframe[F.d_y])\n",
    "dataframe[F.angle] = torch.where(is_line, torch.arctan2(dataframe[F.d_y], dataframe[F.d_x]) % torch.pi, dataframe[F.angle])\n",
    "dataframe[F.length] = torch.where(is_line, torch.sqrt(dataframe[F.d_x]**2 + dataframe[F.d_y]**2), dataframe[F.length])\n",
    "\n",
    "is_line &= (dataframe[F.length] > min_length)\n",
    "\n",
    "# Unit direction and unit perpendicular vectors\n",
    "dataframe[F.u_x] = torch.where(is_line, dataframe[F.d_x] / dataframe[F.length], dataframe[F.u_x])\n",
    "dataframe[F.u_y] = torch.where(is_line, dataframe[F.d_y] / dataframe[F.length], dataframe[F.u_y])\n",
    "dataframe[F.n_x] = torch.where(is_line, -dataframe[F.u_y], dataframe[F.n_x])\n",
    "dataframe[F.n_y] = torch.where(is_line, dataframe[F.u_x], dataframe[F.n_y])\n",
    "\n",
    "# === POINTS ===\n",
    "is_point = dataframe[F.point_flag] == 1\n",
    "\n",
    "for field in [F.start_x, F.end_x]: dataframe[field] = torch.where(is_point, dataframe[F.mid_x], dataframe[field])\n",
    "for field in [F.start_y, F.end_y]: dataframe[field] = torch.where(is_point, dataframe[F.mid_y], dataframe[field])\n",
    "\n",
    "is_line_point = (dataframe[F.line_flag] == 1) & (dataframe[F.length] <= min_length)\n",
    "\n",
    "dataframe[F.point_flag] = torch.where(is_line_point, 1, dataframe[F.point_flag])\n",
    "dataframe[F.line_flag] = torch.where(is_line_point, 0, dataframe[F.line_flag])\n",
    "\n",
    "# === CIRCLES AND ARCS ===\n",
    "is_circle = dataframe[F.circle_flag] == 1\n",
    "is_arc = dataframe[F.arc_flag] == 1\n",
    "is_circle_or_arc = is_circle | is_arc\n",
    "\n",
    "dataframe[F.start_angle] = torch.where(is_circle_or_arc, torch.deg2rad(dataframe[F.start_angle]), dataframe[F.start_angle])\n",
    "dataframe[F.end_angle] = torch.where(is_circle_or_arc, torch.deg2rad(dataframe[F.end_angle]), dataframe[F.end_angle])\n",
    "\n",
    "dataframe[F.arc_span] = torch.where(is_circle, 2 * torch.pi, dataframe[F.arc_span])\n",
    "dataframe[F.arc_span] = torch.where(is_arc, ((dataframe[F.end_angle] - dataframe[F.start_angle]) % (2*torch.pi)), dataframe[F.arc_span])\n",
    "\n",
    "mid_angle = torch.where(is_circle_or_arc, (dataframe[F.start_angle] + dataframe[F.arc_span] / 2) % (2*torch.pi), 0)\n",
    "\n",
    "dataframe[F.start_x] = torch.where(is_circle_or_arc, dataframe[F.center_x] + dataframe[F.radius] * torch.cos(dataframe[F.start_angle]), dataframe[F.start_x])\n",
    "dataframe[F.start_y] = torch.where(is_circle_or_arc, dataframe[F.center_y] + dataframe[F.radius] * torch.sin(dataframe[F.start_angle]), dataframe[F.start_y])\n",
    "dataframe[F.end_x] = torch.where(is_circle_or_arc, dataframe[F.center_x] + dataframe[F.radius] * torch.cos(dataframe[F.end_angle]), dataframe[F.end_x])\n",
    "dataframe[F.end_y] = torch.where(is_circle_or_arc, dataframe[F.center_y] + dataframe[F.radius] * torch.sin(dataframe[F.end_angle]), dataframe[F.end_y])\n",
    "dataframe[F.mid_x] = torch.where(is_circle_or_arc, dataframe[F.center_x] + dataframe[F.radius] * torch.cos(mid_angle), dataframe[F.mid_x])\n",
    "dataframe[F.mid_y] = torch.where(is_circle_or_arc, dataframe[F.center_y] + dataframe[F.radius] * torch.sin(mid_angle), dataframe[F.mid_y])\n",
    "\n",
    "dataframe[F.u_x] = torch.where(is_circle_or_arc, (dataframe[F.mid_x] - dataframe[F.center_x]) / dataframe[F.radius], dataframe[F.u_x])\n",
    "dataframe[F.u_y] = torch.where(is_circle_or_arc, (dataframe[F.mid_y] - dataframe[F.center_y]) / dataframe[F.radius], dataframe[F.u_y])\n",
    "dataframe[F.n_x] = torch.where(is_circle_or_arc, -dataframe[F.u_y], dataframe[F.n_x])\n",
    "dataframe[F.n_y] = torch.where(is_circle_or_arc, dataframe[F.u_x], dataframe[F.n_y])\n",
    "\n",
    "dataframe[F.perimeter] = torch.where(is_circle_or_arc, dataframe[F.radius] * dataframe[F.arc_span], dataframe[F.perimeter])"
   ]
  },
  {
   "cell_type": "code",
   "execution_count": 4,
   "id": "710629db",
   "metadata": {},
   "outputs": [],
   "source": [
    "line_obb_width=2\n",
    "parallel_angle_tolerance=0.02\n",
    "\n",
    "obb_width=None; angle_tolerance=None\n",
    "\n",
    "obb_width = obb_width or line_obb_width\n",
    "angle_tolerance = (angle_tolerance or parallel_angle_tolerance) * torch.pi/180"
   ]
  },
  {
   "cell_type": "code",
   "execution_count": 5,
   "id": "38e3cd52",
   "metadata": {},
   "outputs": [],
   "source": [
    "# Compute OBBs\n",
    "elements, obbs = create_obbs(elements=dataframe, width=obb_width, length_extension=obb_width) # Shape obbs (n_lines, 4, 2)"
   ]
  },
  {
   "cell_type": "code",
   "execution_count": 6,
   "id": "d2a553b8",
   "metadata": {},
   "outputs": [],
   "source": [
    "# Get the pairs of overlapping obbs\n",
    "i, j = get_overlaping_pairs(elements, obbs)\n",
    "elements_a, elements_b = elements[:, i], elements[:, j]"
   ]
  },
  {
   "cell_type": "code",
   "execution_count": 7,
   "id": "f71116ef",
   "metadata": {},
   "outputs": [],
   "source": [
    "# Compute absolute angle difference for line-line pairs in [0, pi]\n",
    "line_line_pair = (elements_a[F.line_flag] == 1) & (elements_b[F.line_flag] == 1)\n",
    "angle_difference = torch.where(line_line_pair, torch.abs(elements_a[F.angle] - elements_b[F.angle]), 0)\n",
    "angle_difference = torch.where(line_line_pair, torch.minimum(angle_difference, torch.pi - angle_difference), angle_difference)\n",
    "\n",
    "# Keep only pairs with angle difference above threshold\n",
    "oblique = torch.where(line_line_pair, angle_difference > angle_tolerance, True)\n",
    "elements_a, elements_b = elements_a[:, oblique], elements_b[:, oblique]"
   ]
  },
  {
   "cell_type": "code",
   "execution_count": null,
   "id": "af1d056a",
   "metadata": {},
   "outputs": [],
   "source": []
  },
  {
   "cell_type": "code",
   "execution_count": 8,
   "id": "87b81daa",
   "metadata": {},
   "outputs": [],
   "source": [
    "n_pairs = elements_a.size(1)\n",
    "\n",
    "# Filter supported pairs\n",
    "is_line_a = elements_a[F.line_flag] == 1\n",
    "is_line_b = elements_b[F.line_flag] == 1\n",
    "is_arc_a = (elements_a[F.circle_flag] == 1) | (elements_a[F.arc_flag] == 1)\n",
    "is_arc_b = (elements_b[F.circle_flag] == 1) | (elements_b[F.arc_flag] == 1)\n",
    "\n",
    "line_line_pair = is_line_a & is_line_b\n",
    "line_arc_pair, arc_line_pair = is_line_a & is_arc_b, is_arc_a & is_line_b\n",
    "\n",
    "filter = line_line_pair | (line_arc_pair | arc_line_pair)"
   ]
  },
  {
   "cell_type": "code",
   "execution_count": 9,
   "id": "58bfd69b",
   "metadata": {},
   "outputs": [],
   "source": [
    "intersection_a_min = torch.empty(n_pairs, dtype=torch.float32)\n",
    "intersection_a_max = torch.empty(n_pairs, dtype=torch.float32)\n",
    "intersection_b_min = torch.empty(n_pairs, dtype=torch.float32)\n",
    "intersection_b_max = torch.empty(n_pairs, dtype=torch.float32)"
   ]
  },
  {
   "cell_type": "code",
   "execution_count": null,
   "id": "72aeda2a",
   "metadata": {},
   "outputs": [],
   "source": []
  },
  {
   "cell_type": "code",
   "execution_count": 25,
   "id": "161a8d6d",
   "metadata": {},
   "outputs": [],
   "source": [
    "margin = obb_width"
   ]
  },
  {
   "cell_type": "code",
   "execution_count": 26,
   "id": "5fb97829",
   "metadata": {},
   "outputs": [],
   "source": [
    "lines_a, arcs_b = elements_a[:, line_arc_pair], elements_b[:, line_arc_pair]\n",
    "arcs_a, lines_b = elements_a[:, arc_line_pair], elements_b[:, arc_line_pair]"
   ]
  },
  {
   "cell_type": "code",
   "execution_count": 27,
   "id": "364d0569",
   "metadata": {},
   "outputs": [
    {
     "data": {
      "text/plain": [
       "tensor([ 0,  1,  2,  3,  4,  5,  6,  7,  8,  9, 10, 11, 12, 13, 14, 15, 16],\n",
       "       dtype=torch.int8)"
      ]
     },
     "execution_count": 27,
     "metadata": {},
     "output_type": "execute_result"
    }
   ],
   "source": [
    "# Save indices\n",
    "indices = torch.arange(arcs_a.size(1), dtype=torch.int8)\n",
    "indices"
   ]
  },
  {
   "cell_type": "code",
   "execution_count": 28,
   "id": "e3f2b147",
   "metadata": {},
   "outputs": [
    {
     "data": {
      "text/plain": [
       "torch.Size([17])"
      ]
     },
     "execution_count": 28,
     "metadata": {},
     "output_type": "execute_result"
    }
   ],
   "source": [
    "indices.size()"
   ]
  },
  {
   "cell_type": "code",
   "execution_count": 29,
   "id": "d2e61f00",
   "metadata": {},
   "outputs": [],
   "source": [
    "lines_b, arcs_a, intersection_min, intersection_max, angle_min, angle_max = _get_line_arc_intersections(lines_b, arcs_a, margin)"
   ]
  },
  {
   "cell_type": "code",
   "execution_count": 30,
   "id": "45fc3c14",
   "metadata": {},
   "outputs": [
    {
     "data": {
      "text/plain": [
       "tensor([ 0,  1,  2,  3,  4,  5,  6,  7,  8,  9, 10, 11, 12, 13, 14, 15, 16],\n",
       "       dtype=torch.int8)"
      ]
     },
     "execution_count": 30,
     "metadata": {},
     "output_type": "execute_result"
    }
   ],
   "source": [
    "indices"
   ]
  },
  {
   "cell_type": "code",
   "execution_count": null,
   "id": "6a7a269a",
   "metadata": {},
   "outputs": [],
   "source": []
  },
  {
   "cell_type": "code",
   "execution_count": 37,
   "id": "ff9a5ff5",
   "metadata": {},
   "outputs": [
    {
     "data": {
      "text/plain": [
       "(tensor([ 0.,  2.,  6.,  8., 10., 12., 14., 16., 18., 20., 22., 24., 26., 28.,\n",
       "         28., 30., 32.]),\n",
       " torch.Size([17]))"
      ]
     },
     "execution_count": 37,
     "metadata": {},
     "output_type": "execute_result"
    }
   ],
   "source": [
    "indices, indices.size()"
   ]
  },
  {
   "cell_type": "code",
   "execution_count": 39,
   "id": "8caf57b3",
   "metadata": {},
   "outputs": [
    {
     "data": {
      "text/plain": [
       "(tensor([ 2.,  6.,  8., 10., 12., 14., 18., 20., 22., 24., 26., 28., 30., 32.]),\n",
       " torch.Size([14]))"
      ]
     },
     "execution_count": 39,
     "metadata": {},
     "output_type": "execute_result"
    }
   ],
   "source": [
    "arcs_a[F.original_index], arcs_a[F.original_index].size()"
   ]
  },
  {
   "cell_type": "code",
   "execution_count": 38,
   "id": "cb636eca",
   "metadata": {},
   "outputs": [
    {
     "data": {
      "text/plain": [
       "(tensor([False,  True,  True,  True,  True,  True,  True, False,  True,  True,\n",
       "          True,  True,  True,  True,  True,  True,  True]),\n",
       " torch.Size([17]))"
      ]
     },
     "execution_count": 38,
     "metadata": {},
     "output_type": "execute_result"
    }
   ],
   "source": [
    "torch.isin(indices, arcs_a[F.original_index]), torch.isin(indices, arcs_a[F.original_index]).size()"
   ]
  },
  {
   "cell_type": "code",
   "execution_count": null,
   "id": "9b86a231",
   "metadata": {},
   "outputs": [],
   "source": []
  },
  {
   "cell_type": "code",
   "execution_count": 17,
   "id": "8a14d38b",
   "metadata": {},
   "outputs": [
    {
     "data": {
      "text/plain": [
       "tensor([False,  True, False,  True,  True,  True,  True,  True, False,  True,\n",
       "         True,  True,  True,  True,  True,  True,  True,  True])"
      ]
     },
     "execution_count": 17,
     "metadata": {},
     "output_type": "execute_result"
    }
   ],
   "source": [
    "# update arc_line_pair\n",
    "arc_line_pair[arc_line_pair.clone()] = torch.isin(indices, arcs_a[F.original_index])\n",
    "arc_line_pair"
   ]
  },
  {
   "cell_type": "code",
   "execution_count": 18,
   "id": "06aefb28",
   "metadata": {},
   "outputs": [
    {
     "ename": "RuntimeError",
     "evalue": "shape mismatch: value tensor of shape [14] cannot be broadcast to indexing result of shape [15]",
     "output_type": "error",
     "traceback": [
      "\u001b[1;31m---------------------------------------------------------------------------\u001b[0m",
      "\u001b[1;31mRuntimeError\u001b[0m                              Traceback (most recent call last)",
      "Cell \u001b[1;32mIn[18], line 2\u001b[0m\n\u001b[0;32m      1\u001b[0m \u001b[38;5;66;03m# Save the min and max\u001b[39;00m\n\u001b[1;32m----> 2\u001b[0m intersection_a_min[arc_line_pair], intersection_a_max[arc_line_pair] \u001b[38;5;241m=\u001b[39m angle_min, angle_max\n\u001b[0;32m      3\u001b[0m intersection_b_min[arc_line_pair], intersection_b_max[arc_line_pair] \u001b[38;5;241m=\u001b[39m intersection_min, intersection_max\n",
      "\u001b[1;31mRuntimeError\u001b[0m: shape mismatch: value tensor of shape [14] cannot be broadcast to indexing result of shape [15]"
     ]
    }
   ],
   "source": [
    "# Save the min and max\n",
    "intersection_a_min[arc_line_pair], intersection_a_max[arc_line_pair] = angle_min, angle_max\n",
    "intersection_b_min[arc_line_pair], intersection_b_max[arc_line_pair] = intersection_min, intersection_max"
   ]
  },
  {
   "cell_type": "code",
   "execution_count": 28,
   "id": "d132aad4",
   "metadata": {},
   "outputs": [
    {
     "data": {
      "text/plain": [
       "torch.Size([18])"
      ]
     },
     "execution_count": 28,
     "metadata": {},
     "output_type": "execute_result"
    }
   ],
   "source": [
    "intersection_a_min.size()"
   ]
  },
  {
   "cell_type": "code",
   "execution_count": 27,
   "id": "dc7eef4a",
   "metadata": {},
   "outputs": [
    {
     "data": {
      "text/plain": [
       "torch.Size([18])"
      ]
     },
     "execution_count": 27,
     "metadata": {},
     "output_type": "execute_result"
    }
   ],
   "source": [
    "arc_line_pair.size()"
   ]
  },
  {
   "cell_type": "code",
   "execution_count": 24,
   "id": "cf286ba2",
   "metadata": {},
   "outputs": [
    {
     "data": {
      "text/plain": [
       "torch.Size([15])"
      ]
     },
     "execution_count": 24,
     "metadata": {},
     "output_type": "execute_result"
    }
   ],
   "source": [
    "intersection_a_min[arc_line_pair].size()"
   ]
  },
  {
   "cell_type": "code",
   "execution_count": 22,
   "id": "75025304",
   "metadata": {},
   "outputs": [
    {
     "data": {
      "text/plain": [
       "torch.Size([14])"
      ]
     },
     "execution_count": 22,
     "metadata": {},
     "output_type": "execute_result"
    }
   ],
   "source": [
    "angle_min.size()"
   ]
  },
  {
   "cell_type": "code",
   "execution_count": null,
   "id": "764c94e5",
   "metadata": {},
   "outputs": [],
   "source": []
  }
 ],
 "metadata": {
  "kernelspec": {
   "display_name": "dl_torch",
   "language": "python",
   "name": "python3"
  },
  "language_info": {
   "codemirror_mode": {
    "name": "ipython",
    "version": 3
   },
   "file_extension": ".py",
   "mimetype": "text/x-python",
   "name": "python",
   "nbconvert_exporter": "python",
   "pygments_lexer": "ipython3",
   "version": "3.10.16"
  }
 },
 "nbformat": 4,
 "nbformat_minor": 5
}
