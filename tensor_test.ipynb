{
 "cells": [
  {
   "cell_type": "code",
   "execution_count": 1,
   "id": "bbfb5eae",
   "metadata": {},
   "outputs": [],
   "source": [
    "import torch\n",
    "\n",
    "bin_offset_size = 25\n",
    "bin_angle_size = 0.25 * torch.pi/180"
   ]
  },
  {
   "cell_type": "code",
   "execution_count": 2,
   "id": "616633c8",
   "metadata": {},
   "outputs": [
    {
     "data": {
      "text/plain": [
       "(tensor([0.0000, 1.5708, 0.0000, 0.0000, 0.7854, 2.2689, 0.7854, 1.5708, 0.0000,\n",
       "         0.3840, 1.5708, 1.5708, 0.7854, 0.0000]),\n",
       " tensor([ 100,  125,  110,  580,  755,  770,  120,  500,  975,  240,  450,  520,\n",
       "          200, 1000]))"
      ]
     },
     "execution_count": 2,
     "metadata": {},
     "output_type": "execute_result"
    }
   ],
   "source": [
    "angle = torch.tensor([   0,  90,   0,   0,  45, 130,  45,  90,   0,  22,  90,  90,  45,    0])\n",
    "offset = torch.tensor([100, 125, 110, 580, 755, 770, 120, 500, 975, 240, 450, 520, 200, 1000])\n",
    "angle = angle * torch.pi/180\n",
    "angle, offset"
   ]
  },
  {
   "cell_type": "code",
   "execution_count": 3,
   "id": "fbdcc583",
   "metadata": {},
   "outputs": [
    {
     "data": {
      "text/plain": [
       "(tensor([  0, 360,   0,   0, 180, 520, 180, 360,   0,  88, 360, 360, 180,   0],\n",
       "        dtype=torch.int32),\n",
       " tensor([ 0,  1,  0, 19, 26, 26,  0, 16, 35,  5, 14, 16,  4, 36],\n",
       "        dtype=torch.int32))"
      ]
     },
     "execution_count": 3,
     "metadata": {},
     "output_type": "execute_result"
    }
   ],
   "source": [
    "angle_bin_index = torch.floor(angle / bin_angle_size).to(torch.int32)\n",
    "offset_bin_index = torch.floor(offset / bin_offset_size).to(torch.int32)\n",
    "offset_bin_index -= offset_bin_index.min()\n",
    "angle_bin_index, offset_bin_index"
   ]
  },
  {
   "cell_type": "code",
   "execution_count": 4,
   "id": "29fd73b9",
   "metadata": {},
   "outputs": [
    {
     "data": {
      "text/plain": [
       "tensor([    0, 13321,     0,    19,  6686, 19266,  6660, 13336,    35,  3261,\n",
       "        13334, 13336,  6664,    36], dtype=torch.int32)"
      ]
     },
     "execution_count": 4,
     "metadata": {},
     "output_type": "execute_result"
    }
   ],
   "source": [
    "bin_hash = angle_bin_index * (offset_bin_index.max() + 1) + offset_bin_index\n",
    "bin_hash"
   ]
  },
  {
   "cell_type": "code",
   "execution_count": 5,
   "id": "0b056321",
   "metadata": {},
   "outputs": [
    {
     "data": {
      "text/plain": [
       "(tensor([    0,     0,    19,    35,    36,  3261,  6660,  6664,  6686, 13321,\n",
       "         13334, 13336, 13336, 19266], dtype=torch.int32),\n",
       " tensor([ 0,  2,  3,  8, 13,  9,  6, 12,  4,  1, 10,  7, 11,  5]))"
      ]
     },
     "execution_count": 5,
     "metadata": {},
     "output_type": "execute_result"
    }
   ],
   "source": [
    "sorted_hash, original_index = torch.sort(bin_hash)\n",
    "sorted_hash, original_index"
   ]
  },
  {
   "cell_type": "code",
   "execution_count": 7,
   "id": "7662d38f",
   "metadata": {},
   "outputs": [
    {
     "data": {
      "text/plain": [
       "tensor([ True, False,  True,  True,  True,  True,  True,  True,  True,  True,\n",
       "         True,  True, False,  True])"
      ]
     },
     "execution_count": 7,
     "metadata": {},
     "output_type": "execute_result"
    }
   ],
   "source": [
    "mask = torch.hstack([torch.tensor([True]), sorted_hash[1:]!=sorted_hash[:-1]])\n",
    "mask"
   ]
  },
  {
   "cell_type": "code",
   "execution_count": 8,
   "id": "a3f54a08",
   "metadata": {},
   "outputs": [
    {
     "data": {
      "text/plain": [
       "tensor([    0,    19,    35,    36,  3261,  6660,  6664,  6686, 13321, 13334,\n",
       "        13336, 19266], dtype=torch.int32)"
      ]
     },
     "execution_count": 8,
     "metadata": {},
     "output_type": "execute_result"
    }
   ],
   "source": [
    "bin_indices = sorted_hash[mask]\n",
    "bin_indices"
   ]
  },
  {
   "cell_type": "code",
   "execution_count": 35,
   "id": "31f846d8",
   "metadata": {},
   "outputs": [
    {
     "data": {
      "text/plain": [
       "(tensor([  0,   0,   0,   0,  88, 180, 180, 180, 360, 360, 360, 520],\n",
       "        dtype=torch.int32),\n",
       " tensor([ 0, 19, 35, 36,  5,  0,  4, 26,  1, 14, 16, 26], dtype=torch.int32))"
      ]
     },
     "execution_count": 35,
     "metadata": {},
     "output_type": "execute_result"
    }
   ],
   "source": [
    "angle_bin = bin_indices // (offset_bin_index.max() + 1)\n",
    "offset_bin = bin_indices % (offset_bin_index.max() + 1)\n",
    "angle_bin, offset_bin"
   ]
  },
  {
   "cell_type": "code",
   "execution_count": 47,
   "id": "26cbb18d",
   "metadata": {},
   "outputs": [
    {
     "data": {
      "text/plain": [
       "(tensor([ 0,  2,  3,  4,  5,  6,  7,  8,  9, 10, 11, 13]),\n",
       " tensor([ 2,  3,  4,  5,  6,  7,  8,  9, 10, 11, 13, 14]))"
      ]
     },
     "execution_count": 47,
     "metadata": {},
     "output_type": "execute_result"
    }
   ],
   "source": [
    "bin_start = torch.where(mask)[0]\n",
    "bin_end = torch.hstack([bin_start[1:], torch.tensor([len(sorted_hash)])])\n",
    "bin_start, bin_end"
   ]
  },
  {
   "cell_type": "code",
   "execution_count": 36,
   "id": "c816e1d8",
   "metadata": {},
   "outputs": [
    {
     "data": {
      "text/plain": [
       "{0: 0,\n",
       " 19: 1,\n",
       " 35: 2,\n",
       " 36: 3,\n",
       " 3261: 4,\n",
       " 6660: 5,\n",
       " 6664: 6,\n",
       " 6686: 7,\n",
       " 13321: 8,\n",
       " 13334: 9,\n",
       " 13336: 10,\n",
       " 19266: 11}"
      ]
     },
     "execution_count": 36,
     "metadata": {},
     "output_type": "execute_result"
    }
   ],
   "source": [
    "bin_index_map = {int(h.item()): i for i, h in enumerate(bin_indices)}\n",
    "bin_index_map"
   ]
  },
  {
   "cell_type": "code",
   "execution_count": 37,
   "id": "da69a933",
   "metadata": {},
   "outputs": [
    {
     "data": {
      "text/plain": [
       "[0, 1, 2, 3, 4, 5, 6, 7, 8, 9, 10, 11]"
      ]
     },
     "execution_count": 37,
     "metadata": {},
     "output_type": "execute_result"
    }
   ],
   "source": [
    "[k for k in range(len(bin_indices))]"
   ]
  },
  {
   "cell_type": "code",
   "execution_count": 46,
   "id": "8ace65aa",
   "metadata": {},
   "outputs": [
    {
     "data": {
      "text/plain": [
       "(360, 16, 13336)"
      ]
     },
     "execution_count": 46,
     "metadata": {},
     "output_type": "execute_result"
    }
   ],
   "source": [
    "angle_i = angle_bin[10].item()\n",
    "offset_j = offset_bin[10].item()\n",
    "current_hash = bin_indices[10].item()\n",
    "angle_i, offset_j, current_hash"
   ]
  },
  {
   "cell_type": "code",
   "execution_count": null,
   "id": "b7ec1450",
   "metadata": {},
   "outputs": [],
   "source": []
  }
 ],
 "metadata": {
  "kernelspec": {
   "display_name": "dl_torch",
   "language": "python",
   "name": "python3"
  },
  "language_info": {
   "codemirror_mode": {
    "name": "ipython",
    "version": 3
   },
   "file_extension": ".py",
   "mimetype": "text/x-python",
   "name": "python",
   "nbconvert_exporter": "python",
   "pygments_lexer": "ipython3",
   "version": "3.10.17"
  }
 },
 "nbformat": 4,
 "nbformat_minor": 5
}
